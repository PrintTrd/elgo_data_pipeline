{
  "nbformat": 4,
  "nbformat_minor": 0,
  "metadata": {
    "colab": {
      "provenance": [],
      "toc_visible": true,
      "include_colab_link": true
    },
    "kernelspec": {
      "name": "python3",
      "display_name": "Python 3"
    },
    "language_info": {
      "name": "python"
    }
  },
  "cells": [
    {
      "cell_type": "markdown",
      "metadata": {
        "id": "view-in-github",
        "colab_type": "text"
      },
      "source": [
        "<a href=\"https://colab.research.google.com/github/PrintTrd/elgo_data_pipeline/blob/main/scripts/Preprocess_dataset.ipynb\" target=\"_parent\"><img src=\"https://colab.research.google.com/assets/colab-badge.svg\" alt=\"Open In Colab\"/></a>"
      ]
    },
    {
      "cell_type": "markdown",
      "source": [
        "# Sales Dataset Processing\n",
        "\n",
        "ข้อมูล Business Sales Dataset ที่ได้มาจากคนรู้จักนั้น มีทั้งหมด 14 tables ซึ่งมาจาก database ที่ยังไม่นิ่ง ไม่ได้ผ่านการออกแบบมาดี มีความซ้ำซ้อนอยู่มาก และรับข้อมูลมาจากหลายช่องทางการขาย/platform รวมกัน หลังจากดูข้อมูลคร่าว ๆ ก็ได้ไปคุยกับเจ้าของข้อมูลเพื่อทำความเข้าใจมากขึ้น\n",
        "\n",
        "## Data integration\n",
        "เนื่องจากมีความซ้ำซ้อนอยู่มากจึงต้อง normalize ข้อมูล โดยเริ่มจากการไปช่วยออกแบบ ER diagrams ให้ใหม่ก่อน เพื่อวางแผนหน้าตาโครงสร้างข้อมูลใหม่ที่เราควรจะแปลงไปด้วย\n",
        "\n",
        "หลังจากออกแบบใหม่ก็จะเลือกตัดส่วนที่ดูไม่เกี่ยวข้องกับการขายออกไปบางส่วน เช่น table inventory_input ที่เกี่ยวข้องกับการจัดการ stock สินค้า เพื่อนำมาใช้กับโปรเจคนี้ และข้อมูลบางส่วนก็จะไม่ได้ normalize จนเป็นหน่วยเล็กที่สุด ออกแบบจนได้ ER diagram เป้าหมายออกมาดังภาพ\n",
        "\n",
        "![](https://drive.google.com/uc?export=view&id=15IVQGpYuX6pkeUbAQVbwUNkN5HxD7I5E)\n",
        "จากภาพ บางคอลัมน์ที่ยังไม่มีการเก็บข้อมูลเพิ่มเข้ามาก็จะข้ามไปก่อน"
      ],
      "metadata": {
        "id": "w4YtNpPZjr9A"
      }
    },
    {
      "cell_type": "markdown",
      "source": [
        "## Data Integration Plan Steps\n",
        "\n",
        "1. Extract and rename tables\n",
        "\n",
        "2. Transform - Schema/Value Integration <br>\n",
        "- Rename columns\n",
        "- Change format and add day\n",
        "- รวม data\n",
        "- แยก data\n",
        "- สร้าง fake values\n",
        "- สรุปผลข้อมูล\n",
        "- Check Value\n",
        "\n",
        "3.   Load - Insert data into MySQL Database\n",
        "     - อ่าน Secrets ของ Colab (เก็บลง class Config)\n",
        "     - ใช้ Sqlalchemy เชื่อมต่อไปที่ MySQL\n",
        "     - สร้าง Schema (database)\n",
        "     - Insert ข้อมูลลงใน tables\n",
        "\n",
        "4.   Query ข้อมูลใน table และเซฟ output\n",
        "     - Query ข้อมูลด้วย Pandas\n",
        "     - Output ไฟล์เป็น parquet\n",
        "\n",
        "5.   ทดลองอ่านไฟล์ parquet เพื่อตรวจสอบ\n",
        "\n"
      ],
      "metadata": {
        "id": "TNbePzQLMeu_"
      }
    },
    {
      "cell_type": "markdown",
      "source": [
        "# Step 1) Download and extract"
      ],
      "metadata": {
        "id": "tVPwk2dokTyj"
      }
    },
    {
      "cell_type": "markdown",
      "source": [
        "##  Rename tables\n",
        "- Geocoding -> address\n",
        "-  item_inventory -> inventory\n",
        "- product_code -> product\n",
        "- color_code -> color\n",
        "- material_code -> material\n",
        "- size_code -> size"
      ],
      "metadata": {
        "id": "XHjaTVauOusx"
      }
    },
    {
      "cell_type": "markdown",
      "source": [
        "โหลดไฟล์ข้อมูล csv มาใส่ Notebook จากนั้นย้ายที่เก็บ และเปลี่ยนชื่อใหม่"
      ],
      "metadata": {
        "id": "HmgWqAtPQLHf"
      }
    },
    {
      "cell_type": "code",
      "source": [
        "!mv 'elgo_source_database - sale_order.csv' sale_order.csv\n",
        "!mv 'elgo_source_database - cn_order.csv' canceled_order.csv\n",
        "!mv 'elgo_source_database - inventory_output.csv' order_item.csv\n",
        "!mv 'elgo_source_database - cn_item.csv' canceled_item.csv\n",
        "\n",
        "!mv 'elgo_source_database - awb_info.csv' waybill.csv\n",
        "!mv 'elgo_source_database - Geocoding.csv' address.csv\n",
        "!mv 'elgo_source_database - customer_code.csv' customer_code.csv\n",
        "\n",
        "!mv 'elgo_source_database - item_inventory.csv' inventory.csv\n",
        "!mv 'elgo_source_database - product_code.csv' product_code.csv\n",
        "!mv 'elgo_source_database - color_code.csv' color_code.csv\n",
        "!mv 'elgo_source_database - material_code.csv' material_code.csv\n",
        "!mv 'elgo_source_database - size_code.csv' size_code.csv\n",
        "!mv 'elgo_source_database - Price.csv' price.csv"
      ],
      "metadata": {
        "id": "lMkd8tcukZzT"
      },
      "execution_count": 2,
      "outputs": []
    },
    {
      "cell_type": "markdown",
      "source": [
        "## Read CSV"
      ],
      "metadata": {
        "id": "QG4ob5d8Ptwg"
      }
    },
    {
      "cell_type": "markdown",
      "source": [
        "สร้าง Dataframes"
      ],
      "metadata": {
        "id": "PG1pbwBfQU7d"
      }
    },
    {
      "cell_type": "code",
      "source": [
        "import polars as pl\n",
        "df = {}\n",
        "csv_list = [\"sale_order\", \"canceled_order\", \"order_item\", \"canceled_item\", \"waybill\", \"address\", \"customer_code\", \"inventory\", \"product_code\", \"color_code\", \"material_code\", \"size_code\", \"price\"]\n",
        "for file_name in csv_list:\n",
        "  # read csv\n",
        "  df[f'{file_name}'] = pl.read_csv(f'{file_name}.csv', has_header=True, infer_schema_length=10000, null_values=[\"COMPUTED_VALUE\"])\n",
        "  # remove all null columns\n",
        "  df[f'{file_name}'] = df[f'{file_name}'][[column.name for column in df[f'{file_name}'] if not (column.null_count() == df[f'{file_name}'].height)]]\n",
        "  # remove all null rows\n",
        "  df[f'{file_name}'] = df[f'{file_name}'].filter(~pl.all_horizontal(pl.all().is_null()))\n"
      ],
      "metadata": {
        "id": "TYLZ8VLwrlkd",
        "collapsed": true
      },
      "execution_count": 123,
      "outputs": []
    },
    {
      "cell_type": "code",
      "source": [
        "df"
      ],
      "metadata": {
        "colab": {
          "base_uri": "https://localhost:8080/"
        },
        "id": "LBy768wfbYD-",
        "outputId": "b54f032d-e932-4328-ba9d-cb86e3c3d992",
        "collapsed": true
      },
      "execution_count": 124,
      "outputs": [
        {
          "output_type": "execute_result",
          "data": {
            "text/plain": [
              "{'sale_order': shape: (1_468, 23)\n",
              " ┌──────────┬───────────────┬───────────────┬────────────┬───┬──────┬──────┬───────────────┬────────┐\n",
              " │ id       ┆ record date   ┆ sell out date ┆ invoice no ┆ … ┆ note ┆ pdf  ┆ shiping_statu ┆ Status │\n",
              " │ ---      ┆ ---           ┆ ---           ┆ ---        ┆   ┆ ---  ┆ ---  ┆ s             ┆ ---    │\n",
              " │ str      ┆ str           ┆ str           ┆ str        ┆   ┆ str  ┆ str  ┆ ---           ┆ str    │\n",
              " │          ┆               ┆               ┆            ┆   ┆      ┆      ┆ str           ┆        │\n",
              " ╞══════════╪═══════════════╪═══════════════╪════════════╪═══╪══════╪══════╪═══════════════╪════════╡\n",
              " │ 65272231 ┆ 6/17/2023     ┆ 6/17/2023     ┆ EV01/01    ┆ … ┆ null ┆ done ┆ done          ┆ null   │\n",
              " │          ┆ 15:36:55      ┆ 15:36:55      ┆            ┆   ┆      ┆      ┆               ┆        │\n",
              " │ 574db9e2 ┆ 6/17/2023     ┆ 6/17/2023     ┆ 85/16      ┆ … ┆ null ┆ done ┆ done          ┆ null   │\n",
              " │          ┆ 16:31:53      ┆ 16:31:53      ┆            ┆   ┆      ┆      ┆               ┆        │\n",
              " │ 547d27f1 ┆ 6/17/2023     ┆ 6/17/2023     ┆ 85/17      ┆ … ┆ null ┆ done ┆ done          ┆ null   │\n",
              " │          ┆ 16:36:52      ┆ 16:36:52      ┆            ┆   ┆      ┆      ┆               ┆        │\n",
              " │ 79d68bd1 ┆ 6/18/2023     ┆ 6/18/2023     ┆ 85/18      ┆ … ┆ null ┆ done ┆ done          ┆ null   │\n",
              " │          ┆ 14:09:00      ┆ 14:09:00      ┆            ┆   ┆      ┆      ┆               ┆        │\n",
              " │ …        ┆ …             ┆ …             ┆ …          ┆ … ┆ …    ┆ …    ┆ …             ┆ …      │\n",
              " │ 59c79e22 ┆ 08/08/2024    ┆ 08/08/2024    ┆ 93/91      ┆ … ┆ null ┆ null ┆ shipping      ┆ null   │\n",
              " │          ┆ 08:47:30      ┆ 08:46:15      ┆            ┆   ┆      ┆      ┆               ┆        │\n",
              " │ 1289dbbc ┆ 08/08/2024    ┆ 08/08/2024    ┆ 93/91      ┆ … ┆ null ┆ null ┆ shipping      ┆ null   │\n",
              " │          ┆ 08:52:17      ┆ 08:50:51      ┆            ┆   ┆      ┆      ┆               ┆        │\n",
              " │ 84b26708 ┆ 08/08/2024    ┆ 08/08/2024    ┆ 93/91      ┆ … ┆ null ┆ null ┆ shipping      ┆ null   │\n",
              " │          ┆ 14:15:24      ┆ 14:14:18      ┆            ┆   ┆      ┆      ┆               ┆        │\n",
              " │ 5018ef6b ┆ 08/08/2024    ┆ 08/08/2024    ┆ 93/91      ┆ … ┆ null ┆ null ┆ shipping      ┆ null   │\n",
              " │          ┆ 14:47:32      ┆ 14:46:31      ┆            ┆   ┆      ┆      ┆               ┆        │\n",
              " └──────────┴───────────────┴───────────────┴────────────┴───┴──────┴──────┴───────────────┴────────┘,\n",
              " 'canceled_order': shape: (18, 16)\n",
              " ┌──────────┬────────────┬───────────┬──────────┬───┬───────────┬───────────┬───────────┬───────────┐\n",
              " │ id       ┆ creditnote ┆ issue     ┆ order_id ┆ … ┆ shipping  ┆ customer  ┆ note      ┆ image     │\n",
              " │ ---      ┆ no         ┆ date      ┆ ---      ┆   ┆ address   ┆ tel       ┆ ---       ┆ ---       │\n",
              " │ str      ┆ ---        ┆ ---       ┆ str      ┆   ┆ ---       ┆ ---       ┆ str       ┆ str       │\n",
              " │          ┆ str        ┆ str       ┆          ┆   ┆ str       ┆ i64       ┆           ┆           │\n",
              " ╞══════════╪════════════╪═══════════╪══════════╪═══╪═══════════╪═══════════╪═══════════╪═══════════╡\n",
              " │ 93339d0c ┆ 01/03/2024 ┆ 01/03/202 ┆ ee066971 ┆ … ┆ null      ┆ 923750555 ┆ ออกบิลใหม่เ ┆ cn_order_ │\n",
              " │          ┆ 00:00:00   ┆ 4         ┆          ┆   ┆           ┆           ┆ นื่องจากปิดร ┆ Images/93 │\n",
              " │          ┆            ┆           ┆          ┆   ┆           ┆           ┆ อบบิลแล้ว   ┆ 339d0c.im │\n",
              " │          ┆            ┆           ┆          ┆   ┆           ┆           ┆           ┆ age.1…    │\n",
              " │ 77f53cb8 ┆ 29/02/2024 ┆ 03/03/202 ┆ 094636c1 ┆ … ┆ 11 kasem  ┆ 669677557 ┆ เบอร์ผิด    ┆ cn_order_ │\n",
              " │          ┆ 00:00:00   ┆ 4         ┆          ┆   ┆ samran    ┆ 27        ┆           ┆ Images/77 │\n",
              " │          ┆            ┆           ┆          ┆   ┆ soi 4     ┆           ┆           ┆ f53cb8.im │\n",
              " │          ┆            ┆           ┆          ┆   ┆ watthana  ┆           ┆           ┆ age.1…    │\n",
              " │          ┆            ┆           ┆          ┆   ┆ p…        ┆           ┆           ┆           │\n",
              " │ 5a03509a ┆ 29/02/2024 ┆ 03/03/202 ┆ 1f870eca ┆ … ┆ 11 kasem  ┆ 669677557 ┆ เบอร์ผิด    ┆ cn_order_ │\n",
              " │          ┆ 00:00:00   ┆ 4         ┆          ┆   ┆ samran    ┆ 27        ┆           ┆ Images/5a │\n",
              " │          ┆            ┆           ┆          ┆   ┆ soi 4     ┆           ┆           ┆ 03509a.im │\n",
              " │          ┆            ┆           ┆          ┆   ┆ watthana  ┆           ┆           ┆ age.1…    │\n",
              " │          ┆            ┆           ┆          ┆   ┆ p…        ┆           ┆           ┆           │\n",
              " │ 9a0e9066 ┆ 03/03/2024 ┆ 03/03/202 ┆ 2b79b368 ┆ … ┆ 26/1 หม   ┆ 660896015 ┆ ลูกค้าขอยกเ ┆ cn_order_ │\n",
              " │          ┆ 00:00:00   ┆ 4         ┆          ┆   ┆ ู่13 ·      ┆ 539       ┆ ลิกออร์เดอร์ ┆ Images/9a │\n",
              " │          ┆            ┆           ┆          ┆   ┆ เสาเภา/   ┆           ┆ เพราะแพงไ ┆ 0e9066.im │\n",
              " │          ┆            ┆           ┆          ┆   ┆ Sao       ┆           ┆ …         ┆ age.1…    │\n",
              " │          ┆            ┆           ┆          ┆   ┆ Phao(…    ┆           ┆           ┆           │\n",
              " │ …        ┆ …          ┆ …         ┆ …        ┆ … ┆ …         ┆ …         ┆ …         ┆ …         │\n",
              " │ 0b801279 ┆ 13/06/2024 ┆ 13/06/202 ┆ 6a686ca3 ┆ … ┆ 191 หมู่4   ┆ 668139366 ┆ พ่อเป็นมะเร็ ┆ cn_order_ │\n",
              " │          ┆ 00:00:00   ┆ 4         ┆          ┆   ┆ ต.เช้ือเพลิง ┆ 43        ┆ งตับ ไม่ต้อง ┆ Images/0b │\n",
              " │          ┆            ┆           ┆          ┆   ┆ (เย้ืองมห…  ┆           ┆ ใช้แล้ว     ┆ 801279.im │\n",
              " │          ┆            ┆           ┆          ┆   ┆           ┆           ┆           ┆ age.1…    │\n",
              " │ 01c667d3 ┆ 13/06/2024 ┆ 13/06/202 ┆ aa68c2ff ┆ … ┆ 290       ┆ null      ┆ ดึกแล้วรับขอ ┆ cn_order_ │\n",
              " │          ┆ 00:00:00   ┆ 4         ┆          ┆   ┆ ซ.สิรินธร 2 ┆           ┆ งพรุ่งนี่     ┆ Images/01 │\n",
              " │          ┆            ┆           ┆          ┆   ┆ (แยก11)   ┆           ┆           ┆ c667d3.im │\n",
              " │          ┆            ┆           ┆          ┆   ┆ ถ.สิรินธ…   ┆           ┆           ┆ age.1…    │\n",
              " │ 5c06532b ┆ 09/07/2024 ┆ 09/07/202 ┆ d2e618a8 ┆ … ┆ 33 ซ.     ┆ 669792495 ┆ จัดส่งไม่สำเ ┆ cn_order_ │\n",
              " │          ┆ 00:00:00   ┆ 4         ┆          ┆   ┆ สุขุมวิท 3   ┆ 95        ┆ ร็จ        ┆ Images/5c │\n",
              " │          ┆            ┆           ┆          ┆   ┆ แขวงคลองเ ┆           ┆           ┆ 06532b.im │\n",
              " │          ┆            ┆           ┆          ┆   ┆ ตยเหนื…    ┆           ┆           ┆ age.1…    │\n",
              " │ 93af7caa ┆ 07/08/2024 ┆ 07/08/202 ┆ 78742cf8 ┆ … ┆ เลขที่      ┆ 668590815 ┆ ผู้ป่วยเข้า   ┆ cn_order_ │\n",
              " │          ┆ 00:00:00   ┆ 4         ┆          ┆   ┆ 178/87,   ┆ 82        ┆ รพ        ┆ Images/93 │\n",
              " │          ┆            ┆           ┆          ┆   ┆ เลคไซร์    ┆           ┆ กระทันหัน   ┆ af7caa.im │\n",
              " │          ┆            ┆           ┆          ┆   ┆ เลน4      ┆           ┆           ┆ age.0…    │\n",
              " │          ┆            ┆           ┆          ┆   ┆ สนาม…     ┆           ┆           ┆           │\n",
              " └──────────┴────────────┴───────────┴──────────┴───┴───────────┴───────────┴───────────┴───────────┘,\n",
              " 'order_item': shape: (1_787, 15)\n",
              " ┌──────────┬─────────────┬──────────┬────────────┬───┬────────────┬──────────┬────────────┬────────┐\n",
              " │ id       ┆ sell out    ┆ order id ┆ master     ┆ … ┆ quantity   ┆ quantity ┆ price per  ┆ total  │\n",
              " │ ---      ┆ date        ┆ ---      ┆ product    ┆   ┆ (pack)     ┆ ---      ┆ pack (ex   ┆ amount │\n",
              " │ str      ┆ ---         ┆ str      ┆ code       ┆   ┆ ---        ┆ i64      ┆ vat)       ┆ ---    │\n",
              " │          ┆ str         ┆          ┆ ---        ┆   ┆ i64        ┆          ┆ ---        ┆ f64    │\n",
              " │          ┆             ┆          ┆ str        ┆   ┆            ┆          ┆ f64        ┆        │\n",
              " ╞══════════╪═════════════╪══════════╪════════════╪═══╪════════════╪══════════╪════════════╪════════╡\n",
              " │ 70427678 ┆ 6/17/2023   ┆ 65272231 ┆ EP-012-F-0 ┆ … ┆ 2          ┆ 2        ┆ 1028.03738 ┆ 2200.0 │\n",
              " │          ┆ 15:36:55    ┆          ┆ 1-A007     ┆   ┆            ┆          ┆ 3          ┆        │\n",
              " │ 9c69cd6d ┆ 6/17/2023   ┆ 65272231 ┆ EP-011-F-0 ┆ … ┆ 2          ┆ 2        ┆ 822.429907 ┆ 1760.0 │\n",
              " │          ┆ 15:44:40    ┆          ┆ 1-A002     ┆   ┆            ┆          ┆            ┆        │\n",
              " │ 3082b336 ┆ 6/17/2023   ┆ 574db9e2 ┆ EP-006-M-0 ┆ … ┆ 1          ┆ 1        ┆ 0.0        ┆ 0.0    │\n",
              " │          ┆ 16:31:53    ┆          ┆ 2-A001     ┆   ┆            ┆          ┆            ┆        │\n",
              " │ d56b8678 ┆ 6/17/2023   ┆ 574db9e2 ┆ EP-021-F-0 ┆ … ┆ 1          ┆ 1        ┆ 0.0        ┆ 0.0    │\n",
              " │          ┆ 16:36:05    ┆          ┆ 1-A020     ┆   ┆            ┆          ┆            ┆        │\n",
              " │ …        ┆ …           ┆ …        ┆ …          ┆ … ┆ …          ┆ …        ┆ …          ┆ …      │\n",
              " │ 96db5d43 ┆ 08/08/2024  ┆ 59c79e22 ┆ EP-011-F-0 ┆ … ┆ 1          ┆ null     ┆ 822.429907 ┆ 880.0  │\n",
              " │          ┆ 08:46:34    ┆          ┆ 1-A009     ┆   ┆            ┆          ┆            ┆        │\n",
              " │ 7f6face9 ┆ 08/08/2024  ┆ 1289dbbc ┆ EP-002-M-0 ┆ … ┆ 1          ┆ null     ┆ 1775.70093 ┆ 1900.0 │\n",
              " │          ┆ 08:51:19    ┆          ┆ 2-A008     ┆   ┆            ┆          ┆ 5          ┆        │\n",
              " │ 4c6a1497 ┆ 08/08/2024  ┆ 84b26708 ┆ EP-002-L-0 ┆ … ┆ 1          ┆ null     ┆ 2056.07476 ┆ 2200.0 │\n",
              " │          ┆ 14:14:32    ┆          ┆ 2-A005     ┆   ┆            ┆          ┆ 6          ┆        │\n",
              " │ f5b77906 ┆ 08/08/2024  ┆ 5018ef6b ┆ EP-011-F-0 ┆ … ┆ 1          ┆ null     ┆ 822.429907 ┆ 880.0  │\n",
              " │          ┆ 14:46:48    ┆          ┆ 1-A009     ┆   ┆            ┆          ┆            ┆        │\n",
              " └──────────┴─────────────┴──────────┴────────────┴───┴────────────┴──────────┴────────────┴────────┘,\n",
              " 'canceled_item': shape: (18, 11)\n",
              " ┌──────────┬──────────┬────────────┬────────────┬───┬────────────┬────────────┬───────────┬────────┐\n",
              " │ id       ┆ cn id    ┆ readable   ┆ master     ┆ … ┆ price per  ┆ pcs per    ┆ quantity  ┆ total  │\n",
              " │ ---      ┆ ---      ┆ name       ┆ product    ┆   ┆ pack       ┆ pack       ┆ (pack)    ┆ amount │\n",
              " │ str      ┆ str      ┆ ---        ┆ code       ┆   ┆ ---        ┆ ---        ┆ ---       ┆ ---    │\n",
              " │          ┆          ┆ str        ┆ ---        ┆   ┆ i64        ┆ i64        ┆ i64       ┆ i64    │\n",
              " │          ┆          ┆            ┆ str        ┆   ┆            ┆            ┆           ┆        │\n",
              " ╞══════════╪══════════╪════════════╪════════════╪═══╪════════════╪════════════╪═══════════╪════════╡\n",
              " │ 1dcc08c8 ┆ 93339d0c ┆ 7f75f77c   ┆ EP-004-L-0 ┆ … ┆ 2500       ┆ 1          ┆ 1         ┆ 2500   │\n",
              " │          ┆          ┆            ┆ 1-A000     ┆   ┆            ┆            ┆           ┆        │\n",
              " │ 03563dac ┆ 77f53cb8 ┆ f2f05ac4   ┆ EP-011-F-0 ┆ … ┆ 880        ┆ 2          ┆ 1         ┆ 880    │\n",
              " │          ┆          ┆            ┆ 1-A021     ┆   ┆            ┆            ┆           ┆        │\n",
              " │ cbd09247 ┆ 5a03509a ┆ 45e38e8e   ┆ EP-011-F-0 ┆ … ┆ 880        ┆ 2          ┆ 1         ┆ 880    │\n",
              " │          ┆          ┆            ┆ 1-A021     ┆   ┆            ┆            ┆           ┆        │\n",
              " │ f5944f71 ┆ 9a0e9066 ┆ a67ba987   ┆ EP-011-F-0 ┆ … ┆ 460        ┆ 1          ┆ 1         ┆ 460    │\n",
              " │          ┆          ┆            ┆ 1-A009     ┆   ┆            ┆            ┆           ┆        │\n",
              " │ …        ┆ …        ┆ …          ┆ …          ┆ … ┆ …          ┆ …          ┆ …         ┆ …      │\n",
              " │ 573d2494 ┆ 0b801279 ┆ 668ac5af   ┆ EP-002-M-0 ┆ … ┆ 1900       ┆ 1          ┆ 1         ┆ 1900   │\n",
              " │          ┆          ┆            ┆ 2-A007     ┆   ┆            ┆            ┆           ┆        │\n",
              " │ e60c0450 ┆ 01c667d3 ┆ 7bff4f4c   ┆ EP-002-L-0 ┆ … ┆ 2200       ┆ 1          ┆ 1         ┆ 2200   │\n",
              " │          ┆          ┆            ┆ 2-A007     ┆   ┆            ┆            ┆           ┆        │\n",
              " │ 96d5eae9 ┆ 5c06532b ┆ 4671c126   ┆ EP-011-F-0 ┆ … ┆ 880        ┆ 2          ┆ 1         ┆ 880    │\n",
              " │          ┆          ┆            ┆ 1-A009     ┆   ┆            ┆            ┆           ┆        │\n",
              " │ e9ead425 ┆ 93af7caa ┆ d2d2c975   ┆ EP-001-L-0 ┆ … ┆ 1700       ┆ 1          ┆ 1         ┆ 1700   │\n",
              " │          ┆          ┆            ┆ 1-A023     ┆   ┆            ┆            ┆           ┆        │\n",
              " └──────────┴──────────┴────────────┴────────────┴───┴────────────┴────────────┴───────────┴────────┘,\n",
              " 'waybill': shape: (1_539, 14)\n",
              " ┌───────────┬───────────┬──────────┬───────────┬───┬───────────┬───────────┬───────────┬───────────┐\n",
              " │ ordernumb ┆ file      ┆ platform ┆ name      ┆ … ┆ tracking_ ┆ invoice_n ┆ awb_forma ┆ sales_cha │\n",
              " │ er        ┆ ---       ┆ ---      ┆ ---       ┆   ┆ number    ┆ umber     ┆ t         ┆ nnel_id   │\n",
              " │ ---       ┆ str       ┆ str      ┆ str       ┆   ┆ ---       ┆ ---       ┆ ---       ┆ ---       │\n",
              " │ str       ┆           ┆          ┆           ┆   ┆ str       ┆ str       ┆ str       ┆ i64       │\n",
              " ╞═══════════╪═══════════╪══════════╪═══════════╪═══╪═══════════╪═══════════╪═══════════╪═══════════╡\n",
              " │ 2305291NY ┆ D:\\dump_a ┆ Shopee   ┆ Hide      ┆ … ┆ null      ┆ null      ┆ null      ┆ null      │\n",
              " │ QK9P2     ┆ wb\\0079a6 ┆          ┆ Matsu     ┆   ┆           ┆           ┆           ┆           │\n",
              " │           ┆ b9-ca7f-4 ┆          ┆           ┆   ┆           ┆           ┆           ┆           │\n",
              " │           ┆ 009-a…    ┆          ┆           ┆   ┆           ┆           ┆           ┆           │\n",
              " │ 221119FDQ ┆ D:\\dump_a ┆ Shopee   ┆ พิมพ์มุก     ┆ … ┆ null      ┆ null      ┆ null      ┆ null      │\n",
              " │ B84GV     ┆ wb\\00f751 ┆          ┆ สิทธิพันธ์ุ    ┆   ┆           ┆           ┆           ┆           │\n",
              " │           ┆ da-83e3-4 ┆          ┆           ┆   ┆           ┆           ┆           ┆           │\n",
              " │           ┆ 1f5-9…    ┆          ┆           ┆   ┆           ┆           ┆           ┆           │\n",
              " │ 2301259TA ┆ D:\\dump_a ┆ Shopee   ┆ ดวงเดือน   ┆ … ┆ null      ┆ null      ┆ null      ┆ null      │\n",
              " │ WBN1C     ┆ wb\\013b9a ┆          ┆ สิงห์จู      ┆   ┆           ┆           ┆           ┆           │\n",
              " │           ┆ dd-88bd-4 ┆          ┆           ┆   ┆           ┆           ┆           ┆           │\n",
              " │           ┆ 778-b…    ┆          ┆           ┆   ┆           ┆           ┆           ┆           │\n",
              " │ 2312242V3 ┆ D:\\dump_a ┆ Shopee   ┆ ขัวญรุ้ง ดี   ┆ … ┆ null      ┆ null      ┆ null      ┆ null      │\n",
              " │ 7WRK1     ┆ wb\\018eac ┆          ┆ วงศ์ ษา    ┆   ┆           ┆           ┆           ┆           │\n",
              " │           ┆ 0a-41c0-4 ┆          ┆           ┆   ┆           ┆           ┆           ┆           │\n",
              " │           ┆ fbb-8…    ┆          ┆           ┆   ┆           ┆           ┆           ┆           │\n",
              " │ …         ┆ …         ┆ …        ┆ …         ┆ … ┆ …         ┆ …         ┆ …         ┆ …         │\n",
              " │ 240808NT5 ┆ IV2408A00 ┆ Shopee   ┆ มาริสา     ┆ … ┆ EB6455916 ┆ IV2408A00 ┆ Shopee    ┆ 5         │\n",
              " │ 2GMWC     ┆ 29-SH.pdf ┆          ┆ จารุศิริกุล   ┆   ┆ 61TH      ┆ 29        ┆           ┆           │\n",
              " │ 240808PY8 ┆ IV2408A00 ┆ Shopee   ┆ เจ้อ้อสุดสวย ┆ … ┆ EB6458300 ┆ IV2408A00 ┆ Shopee    ┆ 5         │\n",
              " │ 3BY8V     ┆ 30-SH.pdf ┆          ┆           ┆   ┆ 52TH      ┆ 30        ┆           ┆           │\n",
              " │ 240808Q99 ┆ IV2408A00 ┆ Shopee   ┆ กัญญาวีร์    ┆ … ┆ EB6459034 ┆ IV2408A00 ┆ Shopee    ┆ 5         │\n",
              " │ 0HVR1     ┆ 31-SH.pdf ┆          ┆ ขอสุข      ┆   ┆ 97TH      ┆ 31        ┆           ┆           │\n",
              " │ SM0000000 ┆ EV2408A00 ┆ line oa  ┆ ภูษณาภรณ์   ┆ … ┆ EB0457798 ┆ EV2408A00 ┆ Goship    ┆ 3         │\n",
              " │ 180       ┆ 04-GS.pdf ┆          ┆ บุญธรรม    ┆   ┆ 02TH      ┆ 04        ┆           ┆           │\n",
              " └───────────┴───────────┴──────────┴───────────┴───┴───────────┴───────────┴───────────┴───────────┘,\n",
              " 'address': shape: (50, 3)\n",
              " ┌─────────────────────────────────┬───────────┬────────────┐\n",
              " │ addresskey                      ┆ latitude  ┆ longitude  │\n",
              " │ ---                             ┆ ---       ┆ ---        │\n",
              " │ str                             ┆ f64       ┆ f64        │\n",
              " ╞═════════════════════════════════╪═══════════╪════════════╡\n",
              " │ 127/83 ม.ศรีราชาแลนด์#1 ถ.สุขุมว…   ┆ 12.782018 ┆ 101.647231 │\n",
              " │ บริษัท นาโน เบสท์ อินเตอร์เนชั่น…      ┆ 13.836925 ┆ 100.587453 │\n",
              " │ 56/69ม6ซอย หนองใหญ่6/1 ต นาเกลือ… ┆ 12.948177 ┆ 100.911184 │\n",
              " │ 11/2 ถนนสุขุมวิท ซอยสุขุมวิท 18,…     ┆ 13.739566 ┆ 100.556171 │\n",
              " │ …                               ┆ …         ┆ …          │\n",
              " │ 4 พหลโยธิน 63 แยก 2 แขวงอนุสาวรี…  ┆ 13.886031 ┆ 100.597801 │\n",
              " │ 222/315 ซอย 9 หมู่ 3 หมู่บ้านลุม…     ┆ 13.912735 ┆ 100.407969 │\n",
              " │ 77/46 ม.4 ต.บา้นฉาง,บา้นฉาง/ Ban… ┆ 12.71111  ┆ 101.050057 │\n",
              " │ เลขที่ 377 ถนนราษฎร์พัฒนา แขวงบา…   ┆ 13.677927 ┆ 100.502793 │\n",
              " └─────────────────────────────────┴───────────┴────────────┘,\n",
              " 'customer_code': shape: (96, 14)\n",
              " ┌────────┬──────────┬────────┬──────────────┬───┬──────────┬──────────────┬──────────────┬─────────┐\n",
              " │ code   ┆ category ┆ number ┆ name         ┆ … ┆ contact  ┆ description  ┆ channel      ┆ require │\n",
              " │ ---    ┆ ---      ┆ ---    ┆ ---          ┆   ┆ person   ┆ ---          ┆ catagory     ┆ tax     │\n",
              " │ str    ┆ str      ┆ i64    ┆ str          ┆   ┆ ---      ┆ str          ┆ ---          ┆ ---     │\n",
              " │        ┆          ┆        ┆              ┆   ┆ str      ┆              ┆ str          ┆ bool    │\n",
              " ╞════════╪══════════╪════════╪══════════════╪═══╪══════════╪══════════════╪══════════════╪═════════╡\n",
              " │ A002   ┆ A        ┆ 2      ┆ บ.มหาชัยฟู๊ดส์   ┆ … ┆ null     ┆ ซื้อน้ำมัน palm  ┆ Food Factory ┆ true    │\n",
              " │        ┆          ┆        ┆ จก.          ┆   ┆          ┆ olein        ┆              ┆         │\n",
              " │ A015   ┆ A        ┆ 15     ┆ บริษัท เจดีฟู้ด   ┆ … ┆ null     ┆ null         ┆ Food Factory ┆ true    │\n",
              " │        ┆          ┆        ┆ จำกัด(มหาชน)  ┆   ┆          ┆              ┆              ┆         │\n",
              " │ A016   ┆ A        ┆ 16     ┆ บริษัท เจดีฟู้ด   ┆ … ┆ null     ┆ null         ┆ Food Factory ┆ true    │\n",
              " │        ┆          ┆        ┆ จำกัด(มหาชน)  ┆   ┆          ┆              ┆              ┆         │\n",
              " │ A001   ┆ A        ┆ 1      ┆ บ.แอลไลด์เคมีเ ┆ … ┆ null     ┆ null         ┆ Food Factory ┆ true    │\n",
              " │        ┆          ┆        ┆ คิลอินเตอร์เนชั่น ┆   ┆          ┆              ┆              ┆         │\n",
              " │        ┆          ┆        ┆ แ…           ┆   ┆          ┆              ┆              ┆         │\n",
              " │ …      ┆ …        ┆ …      ┆ …            ┆ … ┆ …        ┆ …            ┆ …            ┆ …       │\n",
              " │ EH0092 ┆ EH       ┆ 90     ┆ หจก.พรรษาเวช ┆ … ┆ สุพรรษา   ┆ ขายต่อโรงพยาบ ┆ Medical Shop ┆ true    │\n",
              " │        ┆          ┆        ┆ ภัณฑ์          ┆   ┆ บำรุงวงค์  ┆ าล           ┆              ┆         │\n",
              " │ EH0093 ┆ EH       ┆ 91     ┆ บจ. ธนบุรี     ┆ … ┆ null     ┆ null         ┆ nursing home ┆ null    │\n",
              " │        ┆          ┆        ┆ เวลบีอิ้ง       ┆   ┆          ┆              ┆              ┆         │\n",
              " │ EH0094 ┆ EH       ┆ 92     ┆ บจ.สุขภาพดี-อา ┆ … ┆ K Nunat  ┆ null         ┆ Hospital     ┆ true    │\n",
              " │        ┆          ┆        ┆ ยุยืน การแพทย์  ┆   ┆          ┆              ┆              ┆         │\n",
              " │ EH0095 ┆ EH       ┆ 93     ┆ บจ.คลังสุขภาพ  ┆ … ┆ คุณ วุฒ    ┆ null         ┆ Medical Shop ┆ false   │\n",
              " │        ┆          ┆        ┆              ┆   ┆ ธนวิชชบูรณ์ ┆              ┆              ┆         │\n",
              " └────────┴──────────┴────────┴──────────────┴───┴──────────┴──────────────┴──────────────┴─────────┘,\n",
              " 'inventory': shape: (90, 21)\n",
              " ┌──────────────┬─────────┬──────────────┬─────────────┬───┬────────┬─────────┬─────────┬───────────┐\n",
              " │ Product Name ┆ Product ┆ Colour Name  ┆ Colour Code ┆ … ┆ TikTok ┆ Balance ┆ minimum ┆ status    │\n",
              " │ ---          ┆ Code    ┆ ---          ┆ ---         ┆   ┆ ---    ┆ ---     ┆ ---     ┆ ---       │\n",
              " │ str          ┆ ---     ┆ str          ┆ str         ┆   ┆ i64    ┆ i64     ┆ i64     ┆ str       │\n",
              " │              ┆ str     ┆              ┆             ┆   ┆        ┆         ┆         ┆           │\n",
              " ╞══════════════╪═════════╪══════════════╪═════════════╪═══╪════════╪═════════╪═════════╪═══════════╡\n",
              " │ Smart        ┆ EP-002  ┆ น้ำเงินกรมท่า   ┆ 02-A001     ┆ … ┆ 0      ┆ 0       ┆ 5       ┆ LOW STOCK │\n",
              " │ Smart        ┆ EP-002  ┆ น้ำเงินกรมท่า   ┆ 02-A001     ┆ … ┆ 0      ┆ 0       ┆ 5       ┆ LOW STOCK │\n",
              " │ Smart        ┆ EP-002  ┆ น้ำเงินแกมเงิน  ┆ 02-A002     ┆ … ┆ 1      ┆ -8      ┆ 5       ┆ LOW STOCK │\n",
              " │ Smart        ┆ EP-002  ┆ น้ำเงินแกมเงิน  ┆ 02-A002     ┆ … ┆ 3      ┆ -14     ┆ 5       ┆ LOW STOCK │\n",
              " │ …            ┆ …       ┆ …            ┆ …           ┆ … ┆ …      ┆ …       ┆ …       ┆ …         │\n",
              " │ ที่วางเท้ารถเข็น ┆ EP-027  ┆ เขียว         ┆ 02-A004     ┆ … ┆ 0      ┆ -1      ┆ 1       ┆ LOW STOCK │\n",
              " │ Papoose      ┆ EP-009  ┆ ไม่มีรหัสสี      ┆ 01-A000     ┆ … ┆ 0      ┆ 1       ┆ 1       ┆ LOW STOCK │\n",
              " │ Board        ┆         ┆              ┆             ┆   ┆        ┆         ┆         ┆           │\n",
              " │ ผ้ายกตัว ELGO  ┆ EP-001  ┆ เหลือง        ┆ 01-A024     ┆ … ┆ 0      ┆ 3       ┆ 1       ┆ OK        │\n",
              " │ SOFT         ┆         ┆              ┆             ┆   ┆        ┆         ┆         ┆           │\n",
              " │ ฟองน้ำผ้ายกต้ว  ┆ EP-025  ┆ ไม่มีรหัสสี      ┆ 01-A000     ┆ … ┆ 0      ┆ 1       ┆ 1       ┆ LOW STOCK │\n",
              " │ ELGO SOFT    ┆         ┆              ┆             ┆   ┆        ┆         ┆         ┆           │\n",
              " └──────────────┴─────────┴──────────────┴─────────────┴───┴────────┴─────────┴─────────┴───────────┘,\n",
              " 'product_code': shape: (22, 5)\n",
              " ┌────────┬────────────────────┬─────────────┬────────┬───────────────┐\n",
              " │ code   ┆ name               ┆ description ┆ status ┆ default price │\n",
              " │ ---    ┆ ---                ┆ ---         ┆ ---    ┆ ---           │\n",
              " │ str    ┆ str                ┆ str         ┆ i64    ┆ i64           │\n",
              " ╞════════╪════════════════════╪═════════════╪════════╪═══════════════╡\n",
              " │ EP-001 ┆ ผ้ายกตัว ELGO SOFT   ┆ null        ┆ 1      ┆ 0             │\n",
              " │ EP-002 ┆ ผ้ายกตัว ELGO SMART  ┆ null        ┆ 1      ┆ 0             │\n",
              " │ EP-006 ┆ เข็มขัดพยุงเดิน ELGO   ┆ null        ┆ 1      ┆ 0             │\n",
              " │ EP-021 ┆ เข็มขัดรัดกันตก ELGO   ┆ null        ┆ 1      ┆ 0             │\n",
              " │ …      ┆ …                  ┆ …           ┆ …      ┆ …             │\n",
              " │ EP-016 ┆ เข็มขัดพยุงเดินแบบมีเสื้อ ┆ null        ┆ 1      ┆ null          │\n",
              " │ EP-026 ┆ ที่รัดขาเข้ากับรถเข็น    ┆ null        ┆ 1      ┆ null          │\n",
              " │ EP-027 ┆ ที่วางเท้ารถเข็น       ┆ null        ┆ 1      ┆ null          │\n",
              " │ EP-009 ┆ Papoose Board      ┆ null        ┆ 1      ┆ null          │\n",
              " └────────┴────────────────────┴─────────────┴────────┴───────────────┘,\n",
              " 'color_code': shape: (33, 8)\n",
              " ┌─────────┬───────────────┬──────────┬──────────┬─────────┬───────────────┬────────┬───────────────┐\n",
              " │ code    ┆ name          ┆ material ┆ running  ┆ running ┆ description   ┆ status ┆ codename      │\n",
              " │ ---     ┆ ---           ┆ code     ┆ alphabet ┆ number  ┆ ---           ┆ ---    ┆ ---           │\n",
              " │ str     ┆ str           ┆ ---      ┆ ---      ┆ ---     ┆ str           ┆ i64    ┆ str           │\n",
              " │         ┆               ┆ i64      ┆ str      ┆ i64     ┆               ┆        ┆               │\n",
              " ╞═════════╪═══════════════╪══════════╪══════════╪═════════╪═══════════════╪════════╪═══════════════╡\n",
              " │ 02-A001 ┆ น้ำเงินกรมท่า    ┆ 2        ┆ A        ┆ 1       ┆ ผ้ากันน้ำ        ┆ 1      ┆ 02-A001-น้ำเงิน │\n",
              " │         ┆               ┆          ┆          ┆         ┆               ┆        ┆ กรมท่า         │\n",
              " │ 02-A002 ┆ น้ำเงินแกมเงิน   ┆ 2        ┆ A        ┆ 2       ┆ ผ้ากันน้ำ        ┆ 1      ┆ 02-A002-น้ำเงิน │\n",
              " │         ┆               ┆          ┆          ┆         ┆               ┆        ┆ แกมเงิน        │\n",
              " │ 02-A003 ┆ น้ำตาล         ┆ 2        ┆ A        ┆ 3       ┆ ผ้ากันน้ำ        ┆ 1      ┆ 02-A003-น้ำตาล │\n",
              " │ 02-A004 ┆ เขียว          ┆ 2        ┆ A        ┆ 4       ┆ ผ้ากันน้ำ        ┆ 1      ┆ 02-A004-เขียว  │\n",
              " │ …       ┆ …             ┆ …        ┆ …        ┆ …       ┆ …             ┆ …      ┆ …             │\n",
              " │ 01-A021 ┆ น้ำเงินจุดเขียวมิน ┆ 1        ┆ A        ┆ 21      ┆ null          ┆ null   ┆ 01-A021-น้ำเงิน │\n",
              " │         ┆ ต์             ┆          ┆          ┆         ┆               ┆        ┆ จุดเขียวมินต์     │\n",
              " │ 01-A022 ┆ แดง           ┆ 1        ┆ A        ┆ 22      ┆ null          ┆ null   ┆ 01-A022-แดง   │\n",
              " │ 01-A023 ┆ น้ำเงินปะ       ┆ 1        ┆ A        ┆ 23      ┆ null          ┆ null   ┆ 01-A023-น้ำเงิน │\n",
              " │         ┆               ┆          ┆          ┆         ┆               ┆        ┆ ปะ            │\n",
              " │ 01-A024 ┆ เหลือง         ┆ 1        ┆ A        ┆ 24      ┆ null          ┆ null   ┆ 01-A024-เหลือง │\n",
              " └─────────┴───────────────┴──────────┴──────────┴─────────┴───────────────┴────────┴───────────────┘,\n",
              " 'material_code': shape: (2, 3)\n",
              " ┌──────┬─────────┬────────┐\n",
              " │ code ┆ name    ┆ status │\n",
              " │ ---  ┆ ---     ┆ ---    │\n",
              " │ i64  ┆ str     ┆ i64    │\n",
              " ╞══════╪═════════╪════════╡\n",
              " │ 2    ┆ ผ้ากันน้ำ  ┆ 1      │\n",
              " │ 1    ┆ ผ้าเนื้อนิ่ม ┆ 1      │\n",
              " └──────┴─────────┴────────┘,\n",
              " 'size_code': shape: (7, 5)\n",
              " ┌──────┬──────┬─────────────┬───────────────┬────────┐\n",
              " │ code ┆ name ┆ description ┆ default price ┆ status │\n",
              " │ ---  ┆ ---  ┆ ---         ┆ ---           ┆ ---    │\n",
              " │ str  ┆ str  ┆ str         ┆ i64           ┆ bool   │\n",
              " ╞══════╪══════╪═════════════╪═══════════════╪════════╡\n",
              " │ S    ┆ S    ┆ small       ┆ 0             ┆ true   │\n",
              " │ M    ┆ M    ┆ medium      ┆ 0             ┆ true   │\n",
              " │ L    ┆ L    ┆ large       ┆ 0             ┆ true   │\n",
              " │ XL   ┆ XL   ┆ extra-large ┆ 0             ┆ true   │\n",
              " │ F    ┆ F    ┆ free-size   ┆ 0             ┆ true   │\n",
              " │ 5    ┆ 5pcs ┆ package 5   ┆ 0             ┆ true   │\n",
              " │ 3    ┆ 3pcs ┆ package 3   ┆ 0             ┆ true   │\n",
              " └──────┴──────┴─────────────┴───────────────┴────────┘,\n",
              " 'price': shape: (4, 6)\n",
              " ┌──────────────┬──────────────┬───────────┬────────────────┬────────────────┬──────────────────────┐\n",
              " │ product code ┆ main product ┆ size code ┆ piece per pack ┆ price per pack ┆ price per pack (no   │\n",
              " │ ---          ┆ code         ┆ ---       ┆ ---            ┆ (inc vat)      ┆ vat)                 │\n",
              " │ str          ┆ ---          ┆ str       ┆ i64            ┆ ---            ┆ ---                  │\n",
              " │              ┆ str          ┆           ┆                ┆ i64            ┆ i64                  │\n",
              " ╞══════════════╪══════════════╪═══════════╪════════════════╪════════════════╪══════════════════════╡\n",
              " │ EP-007-F-1   ┆ EP-007       ┆ F         ┆ 1              ┆ 250            ┆ 200                  │\n",
              " │ EP-007-F-2   ┆ EP-007       ┆ F         ┆ 2              ┆ 480            ┆ 400                  │\n",
              " │ EP-011-F-1   ┆ EP-011       ┆ F         ┆ 1              ┆ 460            ┆ null                 │\n",
              " │ EP-012-F-2   ┆ EP-012       ┆ F         ┆ 2              ┆ 880            ┆ null                 │\n",
              " └──────────────┴──────────────┴───────────┴────────────────┴────────────────┴──────────────────────┘}"
            ]
          },
          "metadata": {},
          "execution_count": 124
        }
      ]
    },
    {
      "cell_type": "markdown",
      "source": [
        "## Drop and rename columns"
      ],
      "metadata": {
        "id": "Y2TQ_VUhPRdQ"
      }
    },
    {
      "cell_type": "markdown",
      "source": [
        "### sale_order\n",
        "  - id -> order_id\n",
        "  - record date ->  updated_at\n",
        "  - sell out date -> created_at\n",
        "  - invoice no2 -> invoice_number\n",
        "  - order number -> order_number\n",
        "  - sales channel -> sales_channel\n",
        "  - require vat -> require_vat\n",
        "  - shipping charges -> shipping_charge\n",
        "  - discount bath -> discount_baht\n",
        "  - customer code -> customer_category_id\n",
        "  - customer name -> customer_name\n",
        "  - customer tax id -> tax_id\n",
        "  - customer address -> billing_address\n",
        "  - shipping address -> shipping_address\n",
        "  - customer tel -> phone\n",
        "  - customer email -> email\n",
        "  - Status -> status"
      ],
      "metadata": {
        "id": "kkKLYbRPPcLS"
      }
    },
    {
      "cell_type": "code",
      "source": [
        "df[\"sale_order\"]"
      ],
      "metadata": {
        "id": "jda2DEpvaiMv",
        "colab": {
          "base_uri": "https://localhost:8080/",
          "height": 1000
        },
        "collapsed": true,
        "outputId": "61696d56-b6be-4388-a7a7-0834b84ecad9"
      },
      "execution_count": 113,
      "outputs": [
        {
          "output_type": "execute_result",
          "data": {
            "text/plain": [
              "shape: (1_468, 23)\n",
              "┌──────────┬───────────────┬───────────────┬────────────┬───┬──────┬──────┬───────────────┬────────┐\n",
              "│ id       ┆ record date   ┆ sell out date ┆ invoice no ┆ … ┆ note ┆ pdf  ┆ shiping_statu ┆ Status │\n",
              "│ ---      ┆ ---           ┆ ---           ┆ ---        ┆   ┆ ---  ┆ ---  ┆ s             ┆ ---    │\n",
              "│ str      ┆ str           ┆ str           ┆ str        ┆   ┆ str  ┆ str  ┆ ---           ┆ str    │\n",
              "│          ┆               ┆               ┆            ┆   ┆      ┆      ┆ str           ┆        │\n",
              "╞══════════╪═══════════════╪═══════════════╪════════════╪═══╪══════╪══════╪═══════════════╪════════╡\n",
              "│ 65272231 ┆ 6/17/2023     ┆ 6/17/2023     ┆ EV01/01    ┆ … ┆ null ┆ done ┆ done          ┆ null   │\n",
              "│          ┆ 15:36:55      ┆ 15:36:55      ┆            ┆   ┆      ┆      ┆               ┆        │\n",
              "│ 574db9e2 ┆ 6/17/2023     ┆ 6/17/2023     ┆ 85/16      ┆ … ┆ null ┆ done ┆ done          ┆ null   │\n",
              "│          ┆ 16:31:53      ┆ 16:31:53      ┆            ┆   ┆      ┆      ┆               ┆        │\n",
              "│ 547d27f1 ┆ 6/17/2023     ┆ 6/17/2023     ┆ 85/17      ┆ … ┆ null ┆ done ┆ done          ┆ null   │\n",
              "│          ┆ 16:36:52      ┆ 16:36:52      ┆            ┆   ┆      ┆      ┆               ┆        │\n",
              "│ 79d68bd1 ┆ 6/18/2023     ┆ 6/18/2023     ┆ 85/18      ┆ … ┆ null ┆ done ┆ done          ┆ null   │\n",
              "│          ┆ 14:09:00      ┆ 14:09:00      ┆            ┆   ┆      ┆      ┆               ┆        │\n",
              "│ …        ┆ …             ┆ …             ┆ …          ┆ … ┆ …    ┆ …    ┆ …             ┆ …      │\n",
              "│ 59c79e22 ┆ 08/08/2024    ┆ 08/08/2024    ┆ 93/91      ┆ … ┆ null ┆ null ┆ shipping      ┆ null   │\n",
              "│          ┆ 08:47:30      ┆ 08:46:15      ┆            ┆   ┆      ┆      ┆               ┆        │\n",
              "│ 1289dbbc ┆ 08/08/2024    ┆ 08/08/2024    ┆ 93/91      ┆ … ┆ null ┆ null ┆ shipping      ┆ null   │\n",
              "│          ┆ 08:52:17      ┆ 08:50:51      ┆            ┆   ┆      ┆      ┆               ┆        │\n",
              "│ 84b26708 ┆ 08/08/2024    ┆ 08/08/2024    ┆ 93/91      ┆ … ┆ null ┆ null ┆ shipping      ┆ null   │\n",
              "│          ┆ 14:15:24      ┆ 14:14:18      ┆            ┆   ┆      ┆      ┆               ┆        │\n",
              "│ 5018ef6b ┆ 08/08/2024    ┆ 08/08/2024    ┆ 93/91      ┆ … ┆ null ┆ null ┆ shipping      ┆ null   │\n",
              "│          ┆ 14:47:32      ┆ 14:46:31      ┆            ┆   ┆      ┆      ┆               ┆        │\n",
              "└──────────┴───────────────┴───────────────┴────────────┴───┴──────┴──────┴───────────────┴────────┘"
            ],
            "text/html": [
              "<div><style>\n",
              ".dataframe > thead > tr,\n",
              ".dataframe > tbody > tr {\n",
              "  text-align: right;\n",
              "  white-space: pre-wrap;\n",
              "}\n",
              "</style>\n",
              "<small>shape: (1_468, 23)</small><table border=\"1\" class=\"dataframe\"><thead><tr><th>id</th><th>record date</th><th>sell out date</th><th>invoice no</th><th>invoice no2</th><th>invoice folder</th><th>invoice page</th><th>order number</th><th>sales channel</th><th>require vat</th><th>shipping charges</th><th>discount bath</th><th>customer code</th><th>customer name</th><th>customer tax id</th><th>customer address</th><th>shipping address</th><th>customer tel</th><th>customer email</th><th>note</th><th>pdf</th><th>shiping_status</th><th>Status</th></tr><tr><td>str</td><td>str</td><td>str</td><td>str</td><td>str</td><td>str</td><td>i64</td><td>str</td><td>str</td><td>bool</td><td>i64</td><td>i64</td><td>str</td><td>str</td><td>str</td><td>str</td><td>str</td><td>str</td><td>str</td><td>str</td><td>str</td><td>str</td><td>str</td></tr></thead><tbody><tr><td>&quot;65272231&quot;</td><td>&quot;6/17/2023 15:3…</td><td>&quot;6/17/2023 15:3…</td><td>&quot;EV01/01&quot;</td><td>&quot;IV2306A0016&quot;</td><td>&quot;EV01&quot;</td><td>1</td><td>null</td><td>&quot;line&quot;</td><td>true</td><td>0</td><td>0</td><td>&quot;EC0004&quot;</td><td>null</td><td>null</td><td>null</td><td>null</td><td>null</td><td>null</td><td>null</td><td>&quot;done&quot;</td><td>&quot;done&quot;</td><td>null</td></tr><tr><td>&quot;574db9e2&quot;</td><td>&quot;6/17/2023 16:3…</td><td>&quot;6/17/2023 16:3…</td><td>&quot;85/16&quot;</td><td>&quot;IV2306A0017&quot;</td><td>&quot;85&quot;</td><td>16</td><td>&quot;230617KE2PKF8F…</td><td>&quot;shopee&quot;</td><td>true</td><td>0</td><td>0</td><td>&quot;EC0002&quot;</td><td>null</td><td>null</td><td>null</td><td>null</td><td>null</td><td>null</td><td>null</td><td>&quot;done&quot;</td><td>&quot;done&quot;</td><td>null</td></tr><tr><td>&quot;547d27f1&quot;</td><td>&quot;6/17/2023 16:3…</td><td>&quot;6/17/2023 16:3…</td><td>&quot;85/17&quot;</td><td>&quot;IV2306A0021&quot;</td><td>&quot;85&quot;</td><td>17</td><td>&quot;230617M1WTBSHV…</td><td>&quot;shopee&quot;</td><td>true</td><td>0</td><td>0</td><td>&quot;EC0002&quot;</td><td>null</td><td>null</td><td>null</td><td>null</td><td>null</td><td>null</td><td>null</td><td>&quot;done&quot;</td><td>&quot;done&quot;</td><td>null</td></tr><tr><td>&quot;79d68bd1&quot;</td><td>&quot;6/18/2023 14:0…</td><td>&quot;6/18/2023 14:0…</td><td>&quot;85/18&quot;</td><td>&quot;IV2306A0022&quot;</td><td>&quot;85&quot;</td><td>18</td><td>&quot;71721995487644…</td><td>&quot;lazada&quot;</td><td>true</td><td>0</td><td>0</td><td>&quot;EC0001&quot;</td><td>null</td><td>null</td><td>null</td><td>null</td><td>null</td><td>null</td><td>null</td><td>&quot;done&quot;</td><td>&quot;done&quot;</td><td>null</td></tr><tr><td>&quot;b2c5be32&quot;</td><td>&quot;6/18/2023 17:4…</td><td>&quot;6/18/2023 17:4…</td><td>&quot;85/19&quot;</td><td>&quot;IV2306A0023&quot;</td><td>&quot;85&quot;</td><td>19</td><td>&quot;230618PMVTBWM4…</td><td>&quot;shopee&quot;</td><td>true</td><td>0</td><td>0</td><td>&quot;EC0002&quot;</td><td>null</td><td>null</td><td>null</td><td>null</td><td>null</td><td>null</td><td>null</td><td>&quot;done&quot;</td><td>&quot;done&quot;</td><td>null</td></tr><tr><td>&quot;2e07ac0f&quot;</td><td>&quot;6/19/2023 18:4…</td><td>&quot;6/19/2023 18:4…</td><td>&quot;85/20&quot;</td><td>&quot;IV2306A0018&quot;</td><td>&quot;85&quot;</td><td>20</td><td>&quot;230619RHJ9GM1V…</td><td>&quot;shopee&quot;</td><td>true</td><td>0</td><td>0</td><td>&quot;EC0002&quot;</td><td>null</td><td>null</td><td>null</td><td>null</td><td>null</td><td>null</td><td>null</td><td>&quot;done&quot;</td><td>&quot;done&quot;</td><td>null</td></tr><tr><td>&quot;0f604387&quot;</td><td>&quot;6/20/2023 9:00…</td><td>&quot;6/20/2023 9:00…</td><td>&quot;85/21&quot;</td><td>&quot;IV2306A0024&quot;</td><td>&quot;85&quot;</td><td>21</td><td>&quot;230619SSDJ3QMF…</td><td>&quot;shopee&quot;</td><td>true</td><td>0</td><td>0</td><td>&quot;EC0002&quot;</td><td>null</td><td>null</td><td>null</td><td>null</td><td>null</td><td>null</td><td>null</td><td>&quot;done&quot;</td><td>&quot;done&quot;</td><td>null</td></tr><tr><td>&quot;85808b44&quot;</td><td>&quot;6/20/2023 9:01…</td><td>&quot;6/20/2023 9:01…</td><td>&quot;85/22&quot;</td><td>&quot;IV2306A0025&quot;</td><td>&quot;85&quot;</td><td>22</td><td>&quot;71798070159575…</td><td>&quot;lazada&quot;</td><td>true</td><td>0</td><td>0</td><td>&quot;EC0001&quot;</td><td>null</td><td>null</td><td>null</td><td>null</td><td>null</td><td>null</td><td>null</td><td>&quot;done&quot;</td><td>&quot;done&quot;</td><td>null</td></tr><tr><td>&quot;198605b6&quot;</td><td>&quot;6/20/2023 22:1…</td><td>&quot;6/20/2023 22:1…</td><td>&quot;85/23&quot;</td><td>&quot;IV2306A0020&quot;</td><td>&quot;85&quot;</td><td>23</td><td>&quot;230620UXM4QBAM…</td><td>&quot;shopee&quot;</td><td>true</td><td>0</td><td>0</td><td>&quot;EC0002&quot;</td><td>null</td><td>null</td><td>null</td><td>null</td><td>null</td><td>null</td><td>null</td><td>&quot;done&quot;</td><td>&quot;done&quot;</td><td>null</td></tr><tr><td>&quot;60e12db9&quot;</td><td>&quot;6/21/2023 9:23…</td><td>&quot;6/21/2023 9:23…</td><td>&quot;85/25&quot;</td><td>&quot;IV2306A0019&quot;</td><td>&quot;85&quot;</td><td>25</td><td>&quot;71837634560227…</td><td>&quot;lazada&quot;</td><td>true</td><td>0</td><td>0</td><td>&quot;EC0001&quot;</td><td>null</td><td>null</td><td>null</td><td>null</td><td>null</td><td>null</td><td>null</td><td>&quot;done&quot;</td><td>&quot;done&quot;</td><td>null</td></tr><tr><td>&quot;5cdbe984&quot;</td><td>&quot;6/21/2023 18:2…</td><td>&quot;6/21/2023 18:2…</td><td>&quot;EV01/02&quot;</td><td>&quot;IV2306A0015&quot;</td><td>&quot;EV01&quot;</td><td>2</td><td>null</td><td>&quot;medical shop&quot;</td><td>true</td><td>0</td><td>0</td><td>null</td><td>null</td><td>null</td><td>null</td><td>null</td><td>null</td><td>null</td><td>null</td><td>&quot;done&quot;</td><td>&quot;done&quot;</td><td>null</td></tr><tr><td>&quot;6d84f104&quot;</td><td>&quot;6/23/2023 17:4…</td><td>&quot;6/23/2023 17:4…</td><td>&quot;85/26&quot;</td><td>&quot;IV2306A0026&quot;</td><td>&quot;85&quot;</td><td>26</td><td>&quot;230623657SYM6D…</td><td>&quot;shopee&quot;</td><td>true</td><td>0</td><td>0</td><td>&quot;EC0002&quot;</td><td>null</td><td>null</td><td>null</td><td>null</td><td>null</td><td>null</td><td>null</td><td>&quot;done&quot;</td><td>&quot;done&quot;</td><td>null</td></tr><tr><td>&hellip;</td><td>&hellip;</td><td>&hellip;</td><td>&hellip;</td><td>&hellip;</td><td>&hellip;</td><td>&hellip;</td><td>&hellip;</td><td>&hellip;</td><td>&hellip;</td><td>&hellip;</td><td>&hellip;</td><td>&hellip;</td><td>&hellip;</td><td>&hellip;</td><td>&hellip;</td><td>&hellip;</td><td>&hellip;</td><td>&hellip;</td><td>&hellip;</td><td>&hellip;</td><td>&hellip;</td><td>&hellip;</td></tr><tr><td>&quot;0dc0ca1a&quot;</td><td>&quot;06/08/2024 09:…</td><td>&quot;06/08/2024 09:…</td><td>&quot;93/91&quot;</td><td>&quot;IV2408A0018&quot;</td><td>&quot;#REF!&quot;</td><td>null</td><td>&quot;240805GDJTJ90P…</td><td>&quot;shopee&quot;</td><td>true</td><td>0</td><td>0</td><td>&quot;ลักษมน ฉายาวงศ…</td><td>null</td><td>null</td><td>&quot;1681/2 ถนนนิมิ…</td><td>&quot;1681/2 ถนนนิมิ…</td><td>&quot;-&quot;</td><td>null</td><td>null</td><td>null</td><td>&quot;shipping&quot;</td><td>null</td></tr><tr><td>&quot;96ecdcf7&quot;</td><td>&quot;06/08/2024 09:…</td><td>&quot;06/08/2024 09:…</td><td>&quot;93/91&quot;</td><td>&quot;IV2408A0019&quot;</td><td>&quot;#REF!&quot;</td><td>null</td><td>&quot;240805GGS7CKMJ…</td><td>&quot;shopee&quot;</td><td>true</td><td>0</td><td>0</td><td>&quot;นัฐพัชร์ รัตนป…</td><td>null</td><td>null</td><td>&quot;คอนโด เดอะนิช …</td><td>&quot;คอนโด เดอะนิช …</td><td>&quot;0922966541&quot;</td><td>null</td><td>null</td><td>null</td><td>&quot;shipping&quot;</td><td>null</td></tr><tr><td>&quot;f549c052&quot;</td><td>&quot;06/08/2024 18:…</td><td>&quot;06/08/2024 18:…</td><td>&quot;93/91&quot;</td><td>&quot;IV2408A0020&quot;</td><td>&quot;#REF!&quot;</td><td>null</td><td>&quot;240806J3TDNGRA…</td><td>&quot;shopee&quot;</td><td>true</td><td>0</td><td>0</td><td>&quot;ชารียา อุ่มอ่อ…</td><td>null</td><td>null</td><td>&quot;133 ม.7 ต.หนอง…</td><td>&quot;133 ม.7 ต.หนอง…</td><td>&quot;66852264226&quot;</td><td>null</td><td>null</td><td>null</td><td>&quot;shipping&quot;</td><td>null</td></tr><tr><td>&quot;c67c4a40&quot;</td><td>&quot;07/08/2024 11:…</td><td>&quot;07/08/2024 07:…</td><td>&quot;93/91&quot;</td><td>&quot;IV2408A0021&quot;</td><td>&quot;#REF!&quot;</td><td>null</td><td>&quot;89923236248370…</td><td>&quot;lazada&quot;</td><td>true</td><td>0</td><td>0</td><td>&quot;ศรีวรรณ ชื่นเจ…</td><td>null</td><td>null</td><td>&quot;ถนนเสรีไทย ซ 5…</td><td>&quot;ถนนเสรีไทย ซ 5…</td><td>&quot;660816342999&quot;</td><td>null</td><td>null</td><td>null</td><td>&quot;shipping&quot;</td><td>null</td></tr><tr><td>&quot;78742cf8&quot;</td><td>&quot;07/08/2024 23:…</td><td>&quot;07/08/2024 11:…</td><td>&quot;93/91&quot;</td><td>&quot;IV2408A0023&quot;</td><td>&quot;#REF!&quot;</td><td>null</td><td>&quot;240807MDDX53PM…</td><td>&quot;shopee&quot;</td><td>true</td><td>0</td><td>0</td><td>&quot;เบญจวรรณ ศิริพ…</td><td>null</td><td>null</td><td>&quot;เลขที่ 178/87,…</td><td>&quot;เลขที่ 178/87,…</td><td>&quot;66859081582&quot;</td><td>null</td><td>null</td><td>null</td><td>&quot;shipping&quot;</td><td>null</td></tr><tr><td>&quot;6da486e8&quot;</td><td>&quot;07/08/2024 23:…</td><td>&quot;07/08/2024 11:…</td><td>&quot;93/91&quot;</td><td>&quot;IV2408A0024&quot;</td><td>&quot;#REF!&quot;</td><td>null</td><td>&quot;240807M66F0JQE…</td><td>&quot;shopee&quot;</td><td>true</td><td>0</td><td>0</td><td>&quot;นาตาชา พลีบัตร…</td><td>null</td><td>null</td><td>&quot;เลขที่ 180 หม่…</td><td>&quot;เลขที่ 180 หม่…</td><td>&quot;66910614605&quot;</td><td>null</td><td>null</td><td>null</td><td>&quot;shipping&quot;</td><td>null</td></tr><tr><td>&quot;c2bcb993&quot;</td><td>&quot;07/08/2024 23:…</td><td>&quot;07/08/2024 23:…</td><td>&quot;93/91&quot;</td><td>&quot;IV2408A0026&quot;</td><td>&quot;#REF!&quot;</td><td>null</td><td>&quot;240807NCB1PM40…</td><td>&quot;shopee&quot;</td><td>true</td><td>0</td><td>0</td><td>&quot;Ya Wai&quot;</td><td>null</td><td>null</td><td>&quot;Anantra Tropic…</td><td>&quot;Anantra Tropic…</td><td>&quot;66895023130&quot;</td><td>null</td><td>null</td><td>null</td><td>&quot;shipping&quot;</td><td>null</td></tr><tr><td>&quot;7c4f7a38&quot;</td><td>&quot;08/08/2024 08:…</td><td>&quot;08/08/2024 08:…</td><td>&quot;93/91&quot;</td><td>&quot;IV2408A0027&quot;</td><td>&quot;#REF!&quot;</td><td>null</td><td>&quot;240808PFHR8SU8…</td><td>&quot;shopee&quot;</td><td>true</td><td>0</td><td>0</td><td>&quot;สุทัตตา ไชยเชษ…</td><td>null</td><td>null</td><td>&quot;60 หมู่ที่5 ตํ…</td><td>&quot;60 หมู่ที่5 ตํ…</td><td>&quot;0945586641&quot;</td><td>null</td><td>null</td><td>null</td><td>&quot;shipping&quot;</td><td>null</td></tr><tr><td>&quot;59c79e22&quot;</td><td>&quot;08/08/2024 08:…</td><td>&quot;08/08/2024 08:…</td><td>&quot;93/91&quot;</td><td>&quot;IV2408A0028&quot;</td><td>&quot;#REF!&quot;</td><td>null</td><td>&quot;240808NV4X8QVG…</td><td>&quot;shopee&quot;</td><td>true</td><td>0</td><td>0</td><td>&quot;SPT&quot;</td><td>null</td><td>null</td><td>&quot;หมู่บ้านเนอวาน…</td><td>&quot;หมู่บ้านเนอวาน…</td><td>&quot;66961964456&quot;</td><td>null</td><td>null</td><td>null</td><td>&quot;shipping&quot;</td><td>null</td></tr><tr><td>&quot;1289dbbc&quot;</td><td>&quot;08/08/2024 08:…</td><td>&quot;08/08/2024 08:…</td><td>&quot;93/91&quot;</td><td>&quot;IV2408A0029&quot;</td><td>&quot;#REF!&quot;</td><td>null</td><td>&quot;240808NT52GMWC…</td><td>&quot;shopee&quot;</td><td>true</td><td>0</td><td>0</td><td>&quot;มาริสา จารุศิร…</td><td>null</td><td>null</td><td>&quot;79 ถ.ทรงพล ตลา…</td><td>&quot;79 ถ.ทรงพล ตลา…</td><td>&quot;66818914869&quot;</td><td>null</td><td>null</td><td>null</td><td>&quot;shipping&quot;</td><td>null</td></tr><tr><td>&quot;84b26708&quot;</td><td>&quot;08/08/2024 14:…</td><td>&quot;08/08/2024 14:…</td><td>&quot;93/91&quot;</td><td>&quot;IV2408A0030&quot;</td><td>&quot;#REF!&quot;</td><td>null</td><td>&quot;240808PY83BY8V…</td><td>&quot;shopee&quot;</td><td>true</td><td>0</td><td>0</td><td>&quot;เจ้อ้อสุดสวย&quot;</td><td>null</td><td>null</td><td>&quot;เลขที่ 073, หม…</td><td>&quot;เลขที่ 073, หม…</td><td>&quot;66896787866&quot;</td><td>null</td><td>null</td><td>null</td><td>&quot;shipping&quot;</td><td>null</td></tr><tr><td>&quot;5018ef6b&quot;</td><td>&quot;08/08/2024 14:…</td><td>&quot;08/08/2024 14:…</td><td>&quot;93/91&quot;</td><td>&quot;IV2408A0031&quot;</td><td>&quot;#REF!&quot;</td><td>null</td><td>&quot;240808Q990HVR1…</td><td>&quot;shopee&quot;</td><td>true</td><td>0</td><td>0</td><td>&quot;กัญญาวีร์ ขอสุ…</td><td>null</td><td>null</td><td>&quot;70 หมู่ 1 บ้าน…</td><td>&quot;70 หมู่ 1 บ้าน…</td><td>&quot;66956265968&quot;</td><td>null</td><td>null</td><td>null</td><td>&quot;shipping&quot;</td><td>null</td></tr></tbody></table></div>"
            ]
          },
          "metadata": {},
          "execution_count": 113
        }
      ]
    },
    {
      "cell_type": "code",
      "source": [
        "df[\"sale_order\"] = df[\"sale_order\"].drop(columns=['invoice no', 'invoice folder', 'invoice page', 'note', 'pdf', \"shiping_status\"])"
      ],
      "metadata": {
        "id": "IFkyy4QAuCUO"
      },
      "execution_count": 125,
      "outputs": []
    },
    {
      "cell_type": "code",
      "source": [
        "df[\"sale_order\"] = df[\"sale_order\"].rename({\n",
        "    \"id\": \"order_id\",\n",
        "    \"record date\": \"updated_at\",\n",
        "    \"sell out date\": \"created_at\",\n",
        "    \"invoice no2\": \"invoice_number\",\n",
        "    \"order number\": \"order_number\",\n",
        "    \"sales channel\": \"sales_channel\",\n",
        "    \"require vat\": \"require_vat\",\n",
        "    \"shipping charges\": \"shipping_charge\",\n",
        "    \"discount bath\": \"discount_baht\",\n",
        "    \"customer code\": \"customer_category_id\",\n",
        "    \"customer name\": \"name\",\n",
        "    \"customer tax id\": \"tax_id\",\n",
        "    \"customer address\": \"billing_address\",\n",
        "    \"shipping address\": \"shipping_address\",\n",
        "    \"customer tel\": \"phone\",\n",
        "    \"customer email\": \"email\",\n",
        "    \"Status\":\"status\"\n",
        "})\n",
        "df[\"sale_order\"].columns"
      ],
      "metadata": {
        "colab": {
          "base_uri": "https://localhost:8080/"
        },
        "collapsed": true,
        "id": "kMk580ZPwEJm",
        "outputId": "c5f5a466-cd6b-462c-9e22-6530a93b94cd"
      },
      "execution_count": 126,
      "outputs": [
        {
          "output_type": "execute_result",
          "data": {
            "text/plain": [
              "['order_id',\n",
              " 'updated_at',\n",
              " 'created_at',\n",
              " 'invoice_number',\n",
              " 'order_number',\n",
              " 'sales_channel',\n",
              " 'require_vat',\n",
              " 'shipping_charge',\n",
              " 'discount_baht',\n",
              " 'customer_category_id',\n",
              " 'name',\n",
              " 'tax_id',\n",
              " 'billing_address',\n",
              " 'shipping_address',\n",
              " 'phone',\n",
              " 'email',\n",
              " 'status']"
            ]
          },
          "metadata": {},
          "execution_count": 126
        }
      ]
    },
    {
      "cell_type": "markdown",
      "source": [
        "### canceled_order\n",
        "  - id -> canceled_id: ไว้เชื่อมกับ cn_item ก่อน\n",
        "  - creditnote no -> updated_at\n",
        "  - invoice id -> invoice_number\n",
        "  - note -> cancel_reason\n",
        "  - ...นอกนั้นคล้ายที่แก้ให้ sale_order ไป..."
      ],
      "metadata": {
        "id": "8DstPvKyTyiK"
      }
    },
    {
      "cell_type": "code",
      "source": [
        "df[\"canceled_order\"]"
      ],
      "metadata": {
        "id": "uu7TCNeBaf2s",
        "colab": {
          "base_uri": "https://localhost:8080/",
          "height": 1000
        },
        "collapsed": true,
        "outputId": "f72ba379-f092-4400-ca43-0954464d4f6a"
      },
      "execution_count": 117,
      "outputs": [
        {
          "output_type": "execute_result",
          "data": {
            "text/plain": [
              "shape: (20, 24)\n",
              "┌──────────┬──────────────┬────────────┬──────────┬───┬──────┬──────────────┬────────┬─────────────┐\n",
              "│ id       ┆ creditnote   ┆ issue date ┆ order_id ┆ … ┆ pdf  ┆ shiping_stat ┆ Status ┆ image       │\n",
              "│ ---      ┆ no           ┆ ---        ┆ ---      ┆   ┆ ---  ┆ us           ┆ ---    ┆ ---         │\n",
              "│ str      ┆ ---          ┆ str        ┆ str      ┆   ┆ str  ┆ ---          ┆ str    ┆ str         │\n",
              "│          ┆ str          ┆            ┆          ┆   ┆      ┆ str          ┆        ┆             │\n",
              "╞══════════╪══════════════╪════════════╪══════════╪═══╪══════╪══════════════╪════════╪═════════════╡\n",
              "│ null     ┆ null         ┆ null       ┆ null     ┆ … ┆ null ┆ null         ┆ null   ┆ null        │\n",
              "│ null     ┆ null         ┆ null       ┆ null     ┆ … ┆ null ┆ null         ┆ null   ┆ null        │\n",
              "│ 93339d0c ┆ 01/03/2024   ┆ 01/03/2024 ┆ ee066971 ┆ … ┆ null ┆ null         ┆ null   ┆ cn_order_Im │\n",
              "│          ┆ 00:00:00     ┆            ┆          ┆   ┆      ┆              ┆        ┆ ages/93339d │\n",
              "│          ┆              ┆            ┆          ┆   ┆      ┆              ┆        ┆ 0c.image.1… │\n",
              "│ 77f53cb8 ┆ 29/02/2024   ┆ 03/03/2024 ┆ 094636c1 ┆ … ┆ null ┆ null         ┆ null   ┆ cn_order_Im │\n",
              "│          ┆ 00:00:00     ┆            ┆          ┆   ┆      ┆              ┆        ┆ ages/77f53c │\n",
              "│          ┆              ┆            ┆          ┆   ┆      ┆              ┆        ┆ b8.image.1… │\n",
              "│ …        ┆ …            ┆ …          ┆ …        ┆ … ┆ …    ┆ …            ┆ …      ┆ …           │\n",
              "│ 0b801279 ┆ 13/06/2024   ┆ 13/06/2024 ┆ 6a686ca3 ┆ … ┆ null ┆ null         ┆ null   ┆ cn_order_Im │\n",
              "│          ┆ 00:00:00     ┆            ┆          ┆   ┆      ┆              ┆        ┆ ages/0b8012 │\n",
              "│          ┆              ┆            ┆          ┆   ┆      ┆              ┆        ┆ 79.image.1… │\n",
              "│ 01c667d3 ┆ 13/06/2024   ┆ 13/06/2024 ┆ aa68c2ff ┆ … ┆ null ┆ null         ┆ null   ┆ cn_order_Im │\n",
              "│          ┆ 00:00:00     ┆            ┆          ┆   ┆      ┆              ┆        ┆ ages/01c667 │\n",
              "│          ┆              ┆            ┆          ┆   ┆      ┆              ┆        ┆ d3.image.1… │\n",
              "│ 5c06532b ┆ 09/07/2024   ┆ 09/07/2024 ┆ d2e618a8 ┆ … ┆ null ┆ null         ┆ null   ┆ cn_order_Im │\n",
              "│          ┆ 00:00:00     ┆            ┆          ┆   ┆      ┆              ┆        ┆ ages/5c0653 │\n",
              "│          ┆              ┆            ┆          ┆   ┆      ┆              ┆        ┆ 2b.image.1… │\n",
              "│ 93af7caa ┆ 07/08/2024   ┆ 07/08/2024 ┆ 78742cf8 ┆ … ┆ null ┆ null         ┆ null   ┆ cn_order_Im │\n",
              "│          ┆ 00:00:00     ┆            ┆          ┆   ┆      ┆              ┆        ┆ ages/93af7c │\n",
              "│          ┆              ┆            ┆          ┆   ┆      ┆              ┆        ┆ aa.image.0… │\n",
              "└──────────┴──────────────┴────────────┴──────────┴───┴──────┴──────────────┴────────┴─────────────┘"
            ],
            "text/html": [
              "<div><style>\n",
              ".dataframe > thead > tr,\n",
              ".dataframe > tbody > tr {\n",
              "  text-align: right;\n",
              "  white-space: pre-wrap;\n",
              "}\n",
              "</style>\n",
              "<small>shape: (20, 24)</small><table border=\"1\" class=\"dataframe\"><thead><tr><th>id</th><th>creditnote no</th><th>issue date</th><th>order_id</th><th>invoice id</th><th>invoice folder</th><th>invoice page</th><th>order number</th><th>sales channel</th><th>require vat</th><th>shipping charges</th><th>discount bath</th><th>customer code</th><th>customer name</th><th>customer tax id</th><th>customer address</th><th>shipping address</th><th>customer tel</th><th>customer email</th><th>note</th><th>pdf</th><th>shiping_status</th><th>Status</th><th>image</th></tr><tr><td>str</td><td>str</td><td>str</td><td>str</td><td>str</td><td>str</td><td>str</td><td>str</td><td>str</td><td>bool</td><td>i64</td><td>i64</td><td>str</td><td>str</td><td>str</td><td>str</td><td>str</td><td>i64</td><td>str</td><td>str</td><td>str</td><td>str</td><td>str</td><td>str</td></tr></thead><tbody><tr><td>null</td><td>null</td><td>null</td><td>null</td><td>null</td><td>null</td><td>null</td><td>null</td><td>null</td><td>null</td><td>null</td><td>null</td><td>null</td><td>null</td><td>null</td><td>null</td><td>null</td><td>null</td><td>null</td><td>null</td><td>null</td><td>null</td><td>null</td><td>null</td></tr><tr><td>null</td><td>null</td><td>null</td><td>null</td><td>null</td><td>null</td><td>null</td><td>null</td><td>null</td><td>null</td><td>null</td><td>null</td><td>null</td><td>null</td><td>null</td><td>null</td><td>null</td><td>null</td><td>null</td><td>null</td><td>null</td><td>null</td><td>null</td><td>null</td></tr><tr><td>&quot;93339d0c&quot;</td><td>&quot;01/03/2024 00:…</td><td>&quot;01/03/2024&quot;</td><td>&quot;ee066971&quot;</td><td>&quot;87/88-CN&quot;</td><td>null</td><td>null</td><td>null</td><td>&quot;nursing home&quot;</td><td>true</td><td>0</td><td>125</td><td>null</td><td>&quot;EH0072&quot;</td><td>null</td><td>&quot;65 Thanon Witt…</td><td>null</td><td>923750555</td><td>null</td><td>&quot;ออกบิลใหม่เนื่…</td><td>null</td><td>null</td><td>null</td><td>&quot;cn_order_Image…</td></tr><tr><td>&quot;77f53cb8&quot;</td><td>&quot;29/02/2024 00:…</td><td>&quot;03/03/2024&quot;</td><td>&quot;094636c1&quot;</td><td>&quot;93/02-CN&quot;</td><td>null</td><td>null</td><td>&quot;240218V0RUWE5H…</td><td>&quot;shopee&quot;</td><td>true</td><td>0</td><td>0</td><td>null</td><td>&quot;Prem Singh&quot;</td><td>null</td><td>null</td><td>&quot;11 kasem samra…</td><td>66967755727</td><td>null</td><td>&quot;เบอร์ผิด&quot;</td><td>null</td><td>null</td><td>null</td><td>&quot;cn_order_Image…</td></tr><tr><td>&quot;5a03509a&quot;</td><td>&quot;29/02/2024 00:…</td><td>&quot;03/03/2024&quot;</td><td>&quot;1f870eca&quot;</td><td>&quot;93/19-CN&quot;</td><td>null</td><td>null</td><td>&quot;2402215U02C6XB…</td><td>&quot;shopee&quot;</td><td>true</td><td>0</td><td>0</td><td>null</td><td>&quot;Prem Singh&quot;</td><td>null</td><td>null</td><td>&quot;11 kasem samra…</td><td>66967755727</td><td>null</td><td>&quot;เบอร์ผิด&quot;</td><td>null</td><td>null</td><td>null</td><td>&quot;cn_order_Image…</td></tr><tr><td>&quot;9a0e9066&quot;</td><td>&quot;03/03/2024 00:…</td><td>&quot;03/03/2024&quot;</td><td>&quot;2b79b368&quot;</td><td>&quot;93/55-CN&quot;</td><td>null</td><td>null</td><td>&quot;82547889311676…</td><td>&quot;lazada&quot;</td><td>true</td><td>0</td><td>0</td><td>null</td><td>&quot;สคุ นธา ชยั ฤก…</td><td>null</td><td>&quot;สคุ นธา ชยั ฤก…</td><td>&quot;26/1 หม ู่13 ·…</td><td>660896015539</td><td>null</td><td>&quot;ลูกค้าขอยกเลิก…</td><td>null</td><td>null</td><td>null</td><td>&quot;cn_order_Image…</td></tr><tr><td>&quot;ae6876dc&quot;</td><td>&quot;10/03/2024 00:…</td><td>&quot;10/03/2024&quot;</td><td>&quot;2b79b368&quot;</td><td>&quot;93/55-CN&quot;</td><td>null</td><td>null</td><td>&quot;82547889311676…</td><td>&quot;lazada&quot;</td><td>true</td><td>0</td><td>0</td><td>null</td><td>&quot;สคุ นธา ชยั ฤก…</td><td>null</td><td>&quot;สคุ นธา ชยั ฤก…</td><td>&quot;26/1 หม ู่13 ·…</td><td>660896015539</td><td>null</td><td>&quot;ลูกค้าต้องการย…</td><td>null</td><td>null</td><td>null</td><td>&quot;cn_order_Image…</td></tr><tr><td>&quot;6cee400d&quot;</td><td>&quot;13/03/2024 00:…</td><td>&quot;13/03/2024&quot;</td><td>&quot;deb9a927&quot;</td><td>&quot;-CN&quot;</td><td>null</td><td>null</td><td>&quot;2403034CWQ6837…</td><td>&quot;shopee&quot;</td><td>true</td><td>0</td><td>0</td><td>null</td><td>&quot;ชัชวาลย์ นพรัก…</td><td>null</td><td>null</td><td>&quot;หมู่บ้านเดอะเก…</td><td>66943456449</td><td>null</td><td>&quot;ไม่มีคนรับสาย&quot;</td><td>null</td><td>null</td><td>null</td><td>&quot;cn_order_Image…</td></tr><tr><td>&quot;01d7aa97&quot;</td><td>&quot;20/03/2024 00:…</td><td>&quot;20/03/2024&quot;</td><td>&quot;4219b2ad&quot;</td><td>&quot;IV2403A0059-CN…</td><td>null</td><td>null</td><td>&quot;24031557TVKF2R…</td><td>&quot;shopee&quot;</td><td>true</td><td>0</td><td>0</td><td>null</td><td>&quot;ชนากานต์ ด้วงก…</td><td>null</td><td>null</td><td>&quot;91 หมู่ 12, ตํ…</td><td>66984146969</td><td>null</td><td>&quot;ไม่มีผู้รับ&quot;</td><td>null</td><td>null</td><td>null</td><td>&quot;cn_order_Image…</td></tr><tr><td>&quot;618c4e45&quot;</td><td>&quot;31/03/2024 00:…</td><td>&quot;31/03/2024&quot;</td><td>&quot;776699ce&quot;</td><td>&quot;IV2403A0091-CN…</td><td>null</td><td>null</td><td>&quot;24032505MHJC6S…</td><td>&quot;shopee&quot;</td><td>true</td><td>0</td><td>0</td><td>null</td><td>&quot;จิราพร&quot;</td><td>null</td><td>null</td><td>&quot;514 ถ. มหาจักร…</td><td>66957641503</td><td>null</td><td>&quot;พัสดุตีกลับ&quot;</td><td>null</td><td>null</td><td>null</td><td>&quot;cn_order_Image…</td></tr><tr><td>&quot;8676de51&quot;</td><td>&quot;22/04/2024 00:…</td><td>&quot;22/04/2024&quot;</td><td>&quot;0fe81081&quot;</td><td>&quot;IV2404A0062-CN…</td><td>null</td><td>null</td><td>&quot;240421AW7732XU…</td><td>&quot;shopee&quot;</td><td>true</td><td>0</td><td>0</td><td>null</td><td>&quot;จารุรัตน ์นาคฤ…</td><td>null</td><td>null</td><td>&quot;การรถไฟฟ้าขนส่…</td><td>66816175456</td><td>null</td><td>&quot;ลูกค้าขอยกเลิก…</td><td>null</td><td>null</td><td>null</td><td>&quot;cn_order_Image…</td></tr><tr><td>&quot;06b10bc9&quot;</td><td>&quot;25/04/2024 00:…</td><td>&quot;25/04/2024&quot;</td><td>&quot;7404af56&quot;</td><td>&quot;IV2404A0054-CN…</td><td>null</td><td>null</td><td>&quot;2404183UQ34SFP…</td><td>&quot;shopee&quot;</td><td>true</td><td>0</td><td>0</td><td>null</td><td>&quot;อภิศรา จันทรชิ…</td><td>null</td><td>null</td><td>&quot;100/43 ม.5ซอย6…</td><td>66966964190</td><td>null</td><td>&quot;ติดต่อผู้รับไม…</td><td>null</td><td>null</td><td>null</td><td>&quot;cn_order_Image…</td></tr><tr><td>&quot;1b08663d&quot;</td><td>&quot;03/05/2024 00:…</td><td>&quot;03/05/2024&quot;</td><td>&quot;71c48227&quot;</td><td>&quot;IV2404A0071-CN…</td><td>null</td><td>null</td><td>&quot;84780766384837…</td><td>&quot;lazada&quot;</td><td>true</td><td>0</td><td>0</td><td>null</td><td>&quot;เจษฎาพร ฟองอนิ…</td><td>null</td><td>&quot;สเุ มธ เลศิ ปร…</td><td>&quot;99/205 Condo U…</td><td>660989198928</td><td>null</td><td>&quot;ตีคืน&quot;</td><td>null</td><td>null</td><td>null</td><td>&quot;cn_order_Image…</td></tr><tr><td>&quot;1ec023f3&quot;</td><td>&quot;06/05/2024 00:…</td><td>&quot;06/05/2024&quot;</td><td>&quot;59a54a36&quot;</td><td>&quot;IV2405A0008-CN…</td><td>null</td><td>null</td><td>&quot;240502ABE7KU60…</td><td>&quot;shopee&quot;</td><td>true</td><td>0</td><td>0</td><td>null</td><td>&quot;สมปอง ธนบดีอํา…</td><td>null</td><td>null</td><td>&quot;เลขที่ 1911/28…</td><td>66822810230</td><td>null</td><td>&quot;สั่งซื้อซ้ำ&quot;</td><td>null</td><td>null</td><td>null</td><td>&quot;cn_order_Image…</td></tr><tr><td>&quot;431d89a6&quot;</td><td>&quot;25/05/2024 00:…</td><td>&quot;25/05/2024&quot;</td><td>&quot;8ac7880b&quot;</td><td>&quot;IV2405A0107-CN…</td><td>null</td><td>null</td><td>&quot;240525818TTCDD…</td><td>&quot;shopee&quot;</td><td>true</td><td>0</td><td>0</td><td>null</td><td>&quot;อชิรญา เสมเหลา…</td><td>null</td><td>null</td><td>&quot;99/18-19 zoomp…</td><td>66908971699</td><td>null</td><td>&quot;ลูกค้าขอ cance…</td><td>null</td><td>null</td><td>null</td><td>&quot;cn_order_Image…</td></tr><tr><td>&quot;b4cc219d&quot;</td><td>&quot;26/05/2024 00:…</td><td>&quot;26/05/2024&quot;</td><td>&quot;44a7426e&quot;</td><td>&quot;IV2405A0092-CN…</td><td>null</td><td>null</td><td>&quot;86546215794482…</td><td>&quot;lazada&quot;</td><td>true</td><td>0</td><td>0</td><td>null</td><td>&quot;Rachnee Kumar&quot;</td><td>null</td><td>&quot;Rachnee Kumar …</td><td>&quot;88/73 Grand Ro…</td><td>660818305516</td><td>null</td><td>&quot;หนาไป&quot;</td><td>null</td><td>null</td><td>null</td><td>&quot;cn_order_Image…</td></tr><tr><td>&quot;0b801279&quot;</td><td>&quot;13/06/2024 00:…</td><td>&quot;13/06/2024&quot;</td><td>&quot;6a686ca3&quot;</td><td>&quot;IV2405A0109-CN…</td><td>null</td><td>null</td><td>&quot;2405258VUPG6ES…</td><td>&quot;shopee&quot;</td><td>true</td><td>0</td><td>0</td><td>null</td><td>&quot;ITZACLOSET&quot;</td><td>null</td><td>null</td><td>&quot;191 หมู่4 ต.เช…</td><td>66813936643</td><td>null</td><td>&quot;พ่อเป็นมะเร็งต…</td><td>null</td><td>null</td><td>null</td><td>&quot;cn_order_Image…</td></tr><tr><td>&quot;01c667d3&quot;</td><td>&quot;13/06/2024 00:…</td><td>&quot;13/06/2024&quot;</td><td>&quot;aa68c2ff&quot;</td><td>&quot;IV2406A0061-CN…</td><td>null</td><td>null</td><td>&quot;240613VNJJ3PJJ…</td><td>&quot;shopee&quot;</td><td>true</td><td>0</td><td>0</td><td>null</td><td>&quot;Jam Israbhakdi…</td><td>null</td><td>null</td><td>&quot;290 ซ.สิรินธร …</td><td>null</td><td>null</td><td>&quot;ดึกแล้วรับของพ…</td><td>null</td><td>null</td><td>null</td><td>&quot;cn_order_Image…</td></tr><tr><td>&quot;5c06532b&quot;</td><td>&quot;09/07/2024 00:…</td><td>&quot;09/07/2024&quot;</td><td>&quot;d2e618a8&quot;</td><td>&quot;IV2406A0126-CN…</td><td>null</td><td>null</td><td>&quot;2406286UHS5G9R…</td><td>&quot;shopee&quot;</td><td>true</td><td>0</td><td>0</td><td>null</td><td>&quot;มะปราง&quot;</td><td>null</td><td>null</td><td>&quot;33 ซ. สุขุมวิท…</td><td>66979249595</td><td>null</td><td>&quot;จัดส่งไม่สำเร็…</td><td>null</td><td>null</td><td>null</td><td>&quot;cn_order_Image…</td></tr><tr><td>&quot;93af7caa&quot;</td><td>&quot;07/08/2024 00:…</td><td>&quot;07/08/2024&quot;</td><td>&quot;78742cf8&quot;</td><td>&quot;IV2408A00223-C…</td><td>null</td><td>null</td><td>&quot;240807MDDX53PM…</td><td>&quot;shopee&quot;</td><td>true</td><td>0</td><td>0</td><td>null</td><td>&quot;เบญจวรรณ ศิริพ…</td><td>null</td><td>&quot;เลขที่ 178/87,…</td><td>&quot;เลขที่ 178/87,…</td><td>66859081582</td><td>null</td><td>&quot;ผู้ป่วยเข้า รพ…</td><td>null</td><td>null</td><td>null</td><td>&quot;cn_order_Image…</td></tr></tbody></table></div>"
            ]
          },
          "metadata": {},
          "execution_count": 117
        }
      ]
    },
    {
      "cell_type": "code",
      "source": [
        "df[\"canceled_order\"] = df[\"canceled_order\"].drop(columns=['image', 'issue date'])\n",
        "df[\"canceled_order\"].columns"
      ],
      "metadata": {
        "id": "YJp2ML9Kc2Uo",
        "colab": {
          "base_uri": "https://localhost:8080/"
        },
        "outputId": "f4b408ac-e452-4660-c222-1e4bc727ec4d"
      },
      "execution_count": 127,
      "outputs": [
        {
          "output_type": "execute_result",
          "data": {
            "text/plain": [
              "['id',\n",
              " 'creditnote no',\n",
              " 'order_id',\n",
              " 'invoice id',\n",
              " 'order number',\n",
              " 'sales channel',\n",
              " 'require vat',\n",
              " 'shipping charges',\n",
              " 'discount bath',\n",
              " 'customer name',\n",
              " 'customer address',\n",
              " 'shipping address',\n",
              " 'customer tel',\n",
              " 'note']"
            ]
          },
          "metadata": {},
          "execution_count": 127
        }
      ]
    },
    {
      "cell_type": "code",
      "source": [
        "df[\"canceled_order\"] = df[\"canceled_order\"].rename({\n",
        "    \"id\": \"cancel_id\",\n",
        "    \"creditnote no\": \"updated_at\",\n",
        "    \"invoice id\": \"invoice_number\",\n",
        "    \"order number\": \"order_number\",\n",
        "    \"sales channel\": \"sales_channel\",\n",
        "    \"require vat\": \"require_vat\",\n",
        "    \"shipping charges\": \"shipping_charge\",\n",
        "    \"discount bath\": \"discount_baht\",\n",
        "    \"customer name\": \"name\",\n",
        "    \"customer address\": \"billing_address\",\n",
        "    \"shipping address\": \"shipping_address\",\n",
        "    \"customer tel\": \"phone\",\n",
        "    \"note\":\"cancel_reason\"\n",
        "})\n",
        "df[\"canceled_order\"].columns"
      ],
      "metadata": {
        "id": "a0XVcYNdgNRa",
        "colab": {
          "base_uri": "https://localhost:8080/"
        },
        "outputId": "5599098f-b294-4976-8662-8280ff513d3d"
      },
      "execution_count": 129,
      "outputs": [
        {
          "output_type": "execute_result",
          "data": {
            "text/plain": [
              "['cancel_id',\n",
              " 'updated_at',\n",
              " 'order_id',\n",
              " 'invoice_number',\n",
              " 'order_number',\n",
              " 'sales_channel',\n",
              " 'require_vat',\n",
              " 'shipping_charge',\n",
              " 'discount_baht',\n",
              " 'name',\n",
              " 'billing_address',\n",
              " 'shipping_address',\n",
              " 'phone',\n",
              " 'cancel_reason']"
            ]
          },
          "metadata": {},
          "execution_count": 129
        }
      ]
    },
    {
      "cell_type": "markdown",
      "source": [
        "### order_item\n",
        "  - id -> order_item_id\n",
        "  - sell out date -> created_at : จะได้รู้ราคาในเวลานั้นได้เร็ว\n",
        "  - order id -> order_id\n",
        "  - quantity (pack) -> quantity_pack\n",
        "  - price per pack -> unit_price\n",
        "  - price per pack (ex vat) -> unit_price_ex_vat\n",
        "  - total amount -> total_price"
      ],
      "metadata": {
        "id": "q7lPmN1oT34C"
      }
    },
    {
      "cell_type": "code",
      "source": [
        "df[\"order_item\"].columns"
      ],
      "metadata": {
        "colab": {
          "base_uri": "https://localhost:8080/"
        },
        "id": "-EYIWDOEWWUs",
        "outputId": "276c7b40-11c6-4a8f-fb44-51253f5175d5"
      },
      "execution_count": 63,
      "outputs": [
        {
          "output_type": "execute_result",
          "data": {
            "text/plain": [
              "['id',\n",
              " 'sell out date',\n",
              " 'order id',\n",
              " 'master product code',\n",
              " 'master product name',\n",
              " 'readable name',\n",
              " 'product code',\n",
              " 'color code',\n",
              " 'size code',\n",
              " 'price per pack',\n",
              " 'pcs per pack',\n",
              " 'quantity (pack)',\n",
              " 'quantity',\n",
              " 'price per pack (ex vat)',\n",
              " 'total amount']"
            ]
          },
          "metadata": {},
          "execution_count": 63
        }
      ]
    },
    {
      "cell_type": "code",
      "source": [
        "df[\"order_item\"] = df[\"order_item\"].drop(columns=['master product name', 'readable name', 'product code','color code','size code', 'pcs per pack', 'quantity'])"
      ],
      "metadata": {
        "id": "VoW_qjfNWRmE"
      },
      "execution_count": 130,
      "outputs": []
    },
    {
      "cell_type": "code",
      "source": [
        "df[\"order_item\"] = df[\"order_item\"].rename({\n",
        "    \"id\": \"order_item_id\",\n",
        "    \"sell out date\": \"created_at\",\n",
        "    \"order id\": \"order_id\",\n",
        "    \"master product code\": \"master_product_code\",\n",
        "    \"price per pack\": \"unit_price\",\n",
        "    \"price per pack (ex vat)\": \"unit_price_ex_vat\",\n",
        "    \"quantity (pack)\": \"quantity_pack\",\n",
        "    \"total amount\": \"total_price\"\n",
        "})"
      ],
      "metadata": {
        "id": "tE9zaXK1T_8t"
      },
      "execution_count": 131,
      "outputs": []
    },
    {
      "cell_type": "code",
      "source": [
        "df[\"order_item\"].columns"
      ],
      "metadata": {
        "colab": {
          "base_uri": "https://localhost:8080/"
        },
        "id": "9lAHvWujbwI7",
        "outputId": "413f64bc-9b17-461c-e835-396205bcb8c4"
      },
      "execution_count": 132,
      "outputs": [
        {
          "output_type": "execute_result",
          "data": {
            "text/plain": [
              "['order_item_id',\n",
              " 'created_at',\n",
              " 'order_id',\n",
              " 'master_product_code',\n",
              " 'unit_price',\n",
              " 'quantity_pack',\n",
              " 'unit_price_ex_vat',\n",
              " 'total_price']"
            ]
          },
          "metadata": {},
          "execution_count": 132
        }
      ]
    },
    {
      "cell_type": "code",
      "source": [
        "df[\"order_item\"]"
      ],
      "metadata": {
        "colab": {
          "base_uri": "https://localhost:8080/",
          "height": 881
        },
        "id": "Nvl-EqYY_ln3",
        "outputId": "ac4c3174-3986-4433-9180-714ed958ae60"
      },
      "execution_count": 133,
      "outputs": [
        {
          "output_type": "execute_result",
          "data": {
            "text/plain": [
              "shape: (1_787, 8)\n",
              "┌────────────┬────────────┬──────────┬────────────┬────────────┬───────────┬───────────┬───────────┐\n",
              "│ order_item ┆ created_at ┆ order_id ┆ master_pro ┆ unit_price ┆ quantity_ ┆ unit_pric ┆ total_pri │\n",
              "│ _id        ┆ ---        ┆ ---      ┆ duct_code  ┆ ---        ┆ pack      ┆ e_ex_vat  ┆ ce        │\n",
              "│ ---        ┆ str        ┆ str      ┆ ---        ┆ f64        ┆ ---       ┆ ---       ┆ ---       │\n",
              "│ str        ┆            ┆          ┆ str        ┆            ┆ i64       ┆ f64       ┆ f64       │\n",
              "╞════════════╪════════════╪══════════╪════════════╪════════════╪═══════════╪═══════════╪═══════════╡\n",
              "│ 70427678   ┆ 6/17/2023  ┆ 65272231 ┆ EP-012-F-0 ┆ 1100.0     ┆ 2         ┆ 1028.0373 ┆ 2200.0    │\n",
              "│            ┆ 15:36:55   ┆          ┆ 1-A007     ┆            ┆           ┆ 83        ┆           │\n",
              "│ 9c69cd6d   ┆ 6/17/2023  ┆ 65272231 ┆ EP-011-F-0 ┆ 880.0      ┆ 2         ┆ 822.42990 ┆ 1760.0    │\n",
              "│            ┆ 15:44:40   ┆          ┆ 1-A002     ┆            ┆           ┆ 7         ┆           │\n",
              "│ 3082b336   ┆ 6/17/2023  ┆ 574db9e2 ┆ EP-006-M-0 ┆ 0.0        ┆ 1         ┆ 0.0       ┆ 0.0       │\n",
              "│            ┆ 16:31:53   ┆          ┆ 2-A001     ┆            ┆           ┆           ┆           │\n",
              "│ d56b8678   ┆ 6/17/2023  ┆ 574db9e2 ┆ EP-021-F-0 ┆ 0.0        ┆ 1         ┆ 0.0       ┆ 0.0       │\n",
              "│            ┆ 16:36:05   ┆          ┆ 1-A020     ┆            ┆           ┆           ┆           │\n",
              "│ …          ┆ …          ┆ …        ┆ …          ┆ …          ┆ …         ┆ …         ┆ …         │\n",
              "│ 96db5d43   ┆ 08/08/2024 ┆ 59c79e22 ┆ EP-011-F-0 ┆ 880.0      ┆ 1         ┆ 822.42990 ┆ 880.0     │\n",
              "│            ┆ 08:46:34   ┆          ┆ 1-A009     ┆            ┆           ┆ 7         ┆           │\n",
              "│ 7f6face9   ┆ 08/08/2024 ┆ 1289dbbc ┆ EP-002-M-0 ┆ 1900.0     ┆ 1         ┆ 1775.7009 ┆ 1900.0    │\n",
              "│            ┆ 08:51:19   ┆          ┆ 2-A008     ┆            ┆           ┆ 35        ┆           │\n",
              "│ 4c6a1497   ┆ 08/08/2024 ┆ 84b26708 ┆ EP-002-L-0 ┆ 2200.0     ┆ 1         ┆ 2056.0747 ┆ 2200.0    │\n",
              "│            ┆ 14:14:32   ┆          ┆ 2-A005     ┆            ┆           ┆ 66        ┆           │\n",
              "│ f5b77906   ┆ 08/08/2024 ┆ 5018ef6b ┆ EP-011-F-0 ┆ 880.0      ┆ 1         ┆ 822.42990 ┆ 880.0     │\n",
              "│            ┆ 14:46:48   ┆          ┆ 1-A009     ┆            ┆           ┆ 7         ┆           │\n",
              "└────────────┴────────────┴──────────┴────────────┴────────────┴───────────┴───────────┴───────────┘"
            ],
            "text/html": [
              "<div><style>\n",
              ".dataframe > thead > tr,\n",
              ".dataframe > tbody > tr {\n",
              "  text-align: right;\n",
              "  white-space: pre-wrap;\n",
              "}\n",
              "</style>\n",
              "<small>shape: (1_787, 8)</small><table border=\"1\" class=\"dataframe\"><thead><tr><th>order_item_id</th><th>created_at</th><th>order_id</th><th>master_product_code</th><th>unit_price</th><th>quantity_pack</th><th>unit_price_ex_vat</th><th>total_price</th></tr><tr><td>str</td><td>str</td><td>str</td><td>str</td><td>f64</td><td>i64</td><td>f64</td><td>f64</td></tr></thead><tbody><tr><td>&quot;70427678&quot;</td><td>&quot;6/17/2023 15:3…</td><td>&quot;65272231&quot;</td><td>&quot;EP-012-F-01-A0…</td><td>1100.0</td><td>2</td><td>1028.037383</td><td>2200.0</td></tr><tr><td>&quot;9c69cd6d&quot;</td><td>&quot;6/17/2023 15:4…</td><td>&quot;65272231&quot;</td><td>&quot;EP-011-F-01-A0…</td><td>880.0</td><td>2</td><td>822.429907</td><td>1760.0</td></tr><tr><td>&quot;3082b336&quot;</td><td>&quot;6/17/2023 16:3…</td><td>&quot;574db9e2&quot;</td><td>&quot;EP-006-M-02-A0…</td><td>0.0</td><td>1</td><td>0.0</td><td>0.0</td></tr><tr><td>&quot;d56b8678&quot;</td><td>&quot;6/17/2023 16:3…</td><td>&quot;574db9e2&quot;</td><td>&quot;EP-021-F-01-A0…</td><td>0.0</td><td>1</td><td>0.0</td><td>0.0</td></tr><tr><td>&quot;11a252de&quot;</td><td>&quot;6/17/2023 16:3…</td><td>&quot;547d27f1&quot;</td><td>&quot;EP-006-M-02-A0…</td><td>0.0</td><td>1</td><td>0.0</td><td>0.0</td></tr><tr><td>&quot;f81865d5&quot;</td><td>&quot;6/18/2023 14:0…</td><td>&quot;79d68bd1&quot;</td><td>&quot;EP-022-5-01-A0…</td><td>0.0</td><td>1</td><td>0.0</td><td>0.0</td></tr><tr><td>&quot;67bdb19b&quot;</td><td>&quot;6/18/2023 17:4…</td><td>&quot;b2c5be32&quot;</td><td>&quot;EP-001-M-01-A0…</td><td>0.0</td><td>1</td><td>0.0</td><td>0.0</td></tr><tr><td>&quot;285b6a0e&quot;</td><td>&quot;6/19/2023 18:4…</td><td>&quot;2e07ac0f&quot;</td><td>&quot;EP-001-M-01-A0…</td><td>0.0</td><td>1</td><td>0.0</td><td>0.0</td></tr><tr><td>&quot;100b680b&quot;</td><td>&quot;6/19/2023 18:4…</td><td>&quot;2e07ac0f&quot;</td><td>&quot;EP-021-F-01-A0…</td><td>0.0</td><td>1</td><td>0.0</td><td>0.0</td></tr><tr><td>&quot;4bcb99f0&quot;</td><td>&quot;6/20/2023 9:00…</td><td>&quot;0f604387&quot;</td><td>&quot;EP-001-L-01-A0…</td><td>0.0</td><td>1</td><td>0.0</td><td>0.0</td></tr><tr><td>&quot;b29b74c1&quot;</td><td>&quot;6/20/2023 9:01…</td><td>&quot;85808b44&quot;</td><td>&quot;EP-001-M-01-A0…</td><td>0.0</td><td>1</td><td>0.0</td><td>0.0</td></tr><tr><td>&quot;e75e578f&quot;</td><td>&quot;6/20/2023 15:4…</td><td>null</td><td>&quot;EP-022-3-01-A0…</td><td>0.0</td><td>2</td><td>0.0</td><td>0.0</td></tr><tr><td>&hellip;</td><td>&hellip;</td><td>&hellip;</td><td>&hellip;</td><td>&hellip;</td><td>&hellip;</td><td>&hellip;</td><td>&hellip;</td></tr><tr><td>&quot;d7c7dfbf&quot;</td><td>&quot;06/08/2024 09:…</td><td>&quot;0dc0ca1a&quot;</td><td>&quot;EP-011-F-01-A0…</td><td>880.0</td><td>1</td><td>822.429907</td><td>880.0</td></tr><tr><td>&quot;81692d4f&quot;</td><td>&quot;06/08/2024 09:…</td><td>&quot;96ecdcf7&quot;</td><td>&quot;EP-002-M-02-A0…</td><td>1900.0</td><td>1</td><td>1775.700935</td><td>1900.0</td></tr><tr><td>&quot;3ee69a6d&quot;</td><td>&quot;06/08/2024 18:…</td><td>&quot;f549c052&quot;</td><td>&quot;EP-007-F-01-A0…</td><td>480.0</td><td>1</td><td>448.598131</td><td>480.0</td></tr><tr><td>&quot;bb337ccc&quot;</td><td>&quot;07/08/2024 07:…</td><td>&quot;c67c4a40&quot;</td><td>&quot;EP-001-L-01-A0…</td><td>1700.0</td><td>1</td><td>1588.785047</td><td>1700.0</td></tr><tr><td>&quot;d2d2c975&quot;</td><td>&quot;07/08/2024 11:…</td><td>&quot;78742cf8&quot;</td><td>&quot;EP-001-L-01-A0…</td><td>1700.0</td><td>1</td><td>1588.785047</td><td>1700.0</td></tr><tr><td>&quot;8e397e7a&quot;</td><td>&quot;07/08/2024 11:…</td><td>&quot;6da486e8&quot;</td><td>&quot;EP-002-L-02-A0…</td><td>2200.0</td><td>1</td><td>2056.074766</td><td>2200.0</td></tr><tr><td>&quot;e3650727&quot;</td><td>&quot;07/08/2024 23:…</td><td>&quot;c2bcb993&quot;</td><td>&quot;EP-021-XL-01-A…</td><td>300.0</td><td>1</td><td>280.373832</td><td>300.0</td></tr><tr><td>&quot;d991bca2&quot;</td><td>&quot;08/08/2024 08:…</td><td>&quot;7c4f7a38&quot;</td><td>&quot;EP-002-L-02-A0…</td><td>2200.0</td><td>1</td><td>2056.074766</td><td>2200.0</td></tr><tr><td>&quot;96db5d43&quot;</td><td>&quot;08/08/2024 08:…</td><td>&quot;59c79e22&quot;</td><td>&quot;EP-011-F-01-A0…</td><td>880.0</td><td>1</td><td>822.429907</td><td>880.0</td></tr><tr><td>&quot;7f6face9&quot;</td><td>&quot;08/08/2024 08:…</td><td>&quot;1289dbbc&quot;</td><td>&quot;EP-002-M-02-A0…</td><td>1900.0</td><td>1</td><td>1775.700935</td><td>1900.0</td></tr><tr><td>&quot;4c6a1497&quot;</td><td>&quot;08/08/2024 14:…</td><td>&quot;84b26708&quot;</td><td>&quot;EP-002-L-02-A0…</td><td>2200.0</td><td>1</td><td>2056.074766</td><td>2200.0</td></tr><tr><td>&quot;f5b77906&quot;</td><td>&quot;08/08/2024 14:…</td><td>&quot;5018ef6b&quot;</td><td>&quot;EP-011-F-01-A0…</td><td>880.0</td><td>1</td><td>822.429907</td><td>880.0</td></tr></tbody></table></div>"
            ]
          },
          "metadata": {},
          "execution_count": 133
        }
      ]
    },
    {
      "cell_type": "markdown",
      "source": [
        "### canceled_item\n",
        "  - id -> order_item_id\n",
        "  - cn id -> order_id\n",
        "  - ...นอกนั้นคล้าย inventory_output แต่ข้อมูล created_at ต้องเติมเองอีกที..."
      ],
      "metadata": {
        "id": "oBWrqqTYT6vk"
      }
    },
    {
      "cell_type": "code",
      "source": [
        "df[\"canceled_item\"]"
      ],
      "metadata": {
        "colab": {
          "base_uri": "https://localhost:8080/",
          "height": 662
        },
        "id": "uCCxy8cNakbb",
        "outputId": "ee69940c-30ed-4a6a-dd4d-9699854b3c66",
        "collapsed": true
      },
      "execution_count": 134,
      "outputs": [
        {
          "output_type": "execute_result",
          "data": {
            "text/plain": [
              "shape: (18, 11)\n",
              "┌──────────┬──────────┬────────────┬────────────┬───┬────────────┬────────────┬───────────┬────────┐\n",
              "│ id       ┆ cn id    ┆ readable   ┆ master     ┆ … ┆ price per  ┆ pcs per    ┆ quantity  ┆ total  │\n",
              "│ ---      ┆ ---      ┆ name       ┆ product    ┆   ┆ pack       ┆ pack       ┆ (pack)    ┆ amount │\n",
              "│ str      ┆ str      ┆ ---        ┆ code       ┆   ┆ ---        ┆ ---        ┆ ---       ┆ ---    │\n",
              "│          ┆          ┆ str        ┆ ---        ┆   ┆ i64        ┆ i64        ┆ i64       ┆ i64    │\n",
              "│          ┆          ┆            ┆ str        ┆   ┆            ┆            ┆           ┆        │\n",
              "╞══════════╪══════════╪════════════╪════════════╪═══╪════════════╪════════════╪═══════════╪════════╡\n",
              "│ 1dcc08c8 ┆ 93339d0c ┆ 7f75f77c   ┆ EP-004-L-0 ┆ … ┆ 2500       ┆ 1          ┆ 1         ┆ 2500   │\n",
              "│          ┆          ┆            ┆ 1-A000     ┆   ┆            ┆            ┆           ┆        │\n",
              "│ 03563dac ┆ 77f53cb8 ┆ f2f05ac4   ┆ EP-011-F-0 ┆ … ┆ 880        ┆ 2          ┆ 1         ┆ 880    │\n",
              "│          ┆          ┆            ┆ 1-A021     ┆   ┆            ┆            ┆           ┆        │\n",
              "│ cbd09247 ┆ 5a03509a ┆ 45e38e8e   ┆ EP-011-F-0 ┆ … ┆ 880        ┆ 2          ┆ 1         ┆ 880    │\n",
              "│          ┆          ┆            ┆ 1-A021     ┆   ┆            ┆            ┆           ┆        │\n",
              "│ f5944f71 ┆ 9a0e9066 ┆ a67ba987   ┆ EP-011-F-0 ┆ … ┆ 460        ┆ 1          ┆ 1         ┆ 460    │\n",
              "│          ┆          ┆            ┆ 1-A009     ┆   ┆            ┆            ┆           ┆        │\n",
              "│ …        ┆ …        ┆ …          ┆ …          ┆ … ┆ …          ┆ …          ┆ …         ┆ …      │\n",
              "│ 573d2494 ┆ 0b801279 ┆ 668ac5af   ┆ EP-002-M-0 ┆ … ┆ 1900       ┆ 1          ┆ 1         ┆ 1900   │\n",
              "│          ┆          ┆            ┆ 2-A007     ┆   ┆            ┆            ┆           ┆        │\n",
              "│ e60c0450 ┆ 01c667d3 ┆ 7bff4f4c   ┆ EP-002-L-0 ┆ … ┆ 2200       ┆ 1          ┆ 1         ┆ 2200   │\n",
              "│          ┆          ┆            ┆ 2-A007     ┆   ┆            ┆            ┆           ┆        │\n",
              "│ 96d5eae9 ┆ 5c06532b ┆ 4671c126   ┆ EP-011-F-0 ┆ … ┆ 880        ┆ 2          ┆ 1         ┆ 880    │\n",
              "│          ┆          ┆            ┆ 1-A009     ┆   ┆            ┆            ┆           ┆        │\n",
              "│ e9ead425 ┆ 93af7caa ┆ d2d2c975   ┆ EP-001-L-0 ┆ … ┆ 1700       ┆ 1          ┆ 1         ┆ 1700   │\n",
              "│          ┆          ┆            ┆ 1-A023     ┆   ┆            ┆            ┆           ┆        │\n",
              "└──────────┴──────────┴────────────┴────────────┴───┴────────────┴────────────┴───────────┴────────┘"
            ],
            "text/html": [
              "<div><style>\n",
              ".dataframe > thead > tr,\n",
              ".dataframe > tbody > tr {\n",
              "  text-align: right;\n",
              "  white-space: pre-wrap;\n",
              "}\n",
              "</style>\n",
              "<small>shape: (18, 11)</small><table border=\"1\" class=\"dataframe\"><thead><tr><th>id</th><th>cn id</th><th>readable name</th><th>master product code</th><th>product code</th><th>size code</th><th>color code</th><th>price per pack</th><th>pcs per pack</th><th>quantity (pack)</th><th>total amount</th></tr><tr><td>str</td><td>str</td><td>str</td><td>str</td><td>str</td><td>str</td><td>str</td><td>i64</td><td>i64</td><td>i64</td><td>i64</td></tr></thead><tbody><tr><td>&quot;1dcc08c8&quot;</td><td>&quot;93339d0c&quot;</td><td>&quot;7f75f77c&quot;</td><td>&quot;EP-004-L-01-A0…</td><td>&quot;EP-004&quot;</td><td>&quot;L&quot;</td><td>&quot;01-A000&quot;</td><td>2500</td><td>1</td><td>1</td><td>2500</td></tr><tr><td>&quot;03563dac&quot;</td><td>&quot;77f53cb8&quot;</td><td>&quot;f2f05ac4&quot;</td><td>&quot;EP-011-F-01-A0…</td><td>&quot;EP-011&quot;</td><td>&quot;F&quot;</td><td>&quot;01-A021&quot;</td><td>880</td><td>2</td><td>1</td><td>880</td></tr><tr><td>&quot;cbd09247&quot;</td><td>&quot;5a03509a&quot;</td><td>&quot;45e38e8e&quot;</td><td>&quot;EP-011-F-01-A0…</td><td>&quot;EP-011&quot;</td><td>&quot;F&quot;</td><td>&quot;01-A021&quot;</td><td>880</td><td>2</td><td>1</td><td>880</td></tr><tr><td>&quot;f5944f71&quot;</td><td>&quot;9a0e9066&quot;</td><td>&quot;a67ba987&quot;</td><td>&quot;EP-011-F-01-A0…</td><td>&quot;EP-011&quot;</td><td>&quot;F&quot;</td><td>&quot;01-A009&quot;</td><td>460</td><td>1</td><td>1</td><td>460</td></tr><tr><td>&quot;9cfcb6b6&quot;</td><td>&quot;ae6876dc&quot;</td><td>&quot;a67ba987&quot;</td><td>&quot;EP-011-F-01-A0…</td><td>&quot;EP-011&quot;</td><td>&quot;F&quot;</td><td>&quot;01-A009&quot;</td><td>460</td><td>1</td><td>1</td><td>460</td></tr><tr><td>&quot;b58d766b&quot;</td><td>&quot;6cee400d&quot;</td><td>&quot;c35ff230&quot;</td><td>&quot;EP-006-XL-02-A…</td><td>&quot;EP-006&quot;</td><td>&quot;XL&quot;</td><td>&quot;02-A001&quot;</td><td>1750</td><td>1</td><td>1</td><td>1750</td></tr><tr><td>&quot;358fdfaf&quot;</td><td>&quot;01d7aa97&quot;</td><td>&quot;c6e50079&quot;</td><td>&quot;EP-022-5-01-A0…</td><td>&quot;EP-022&quot;</td><td>&quot;5&quot;</td><td>&quot;01-A000&quot;</td><td>100</td><td>5</td><td>1</td><td>100</td></tr><tr><td>&quot;230795b7&quot;</td><td>&quot;618c4e45&quot;</td><td>&quot;2cad9158&quot;</td><td>&quot;EP-007-F-01-A0…</td><td>&quot;EP-007&quot;</td><td>&quot;F&quot;</td><td>&quot;01-A005&quot;</td><td>480</td><td>1</td><td>1</td><td>480</td></tr><tr><td>&quot;562ba118&quot;</td><td>&quot;8676de51&quot;</td><td>&quot;bd75d1ae&quot;</td><td>&quot;EP-011-F-01-A0…</td><td>&quot;EP-011&quot;</td><td>&quot;F&quot;</td><td>&quot;01-A002&quot;</td><td>460</td><td>1</td><td>1</td><td>460</td></tr><tr><td>&quot;f5f5f066&quot;</td><td>&quot;06b10bc9&quot;</td><td>&quot;141e946a&quot;</td><td>&quot;EP-001-L-01-A0…</td><td>&quot;EP-001&quot;</td><td>&quot;L&quot;</td><td>&quot;01-A001&quot;</td><td>1700</td><td>1</td><td>1</td><td>1700</td></tr><tr><td>&quot;38704177&quot;</td><td>&quot;1b08663d&quot;</td><td>&quot;66d33614&quot;</td><td>&quot;EP-001-M-01-A0…</td><td>&quot;EP-001&quot;</td><td>&quot;M&quot;</td><td>&quot;01-A001&quot;</td><td>1400</td><td>1</td><td>1</td><td>1400</td></tr><tr><td>&quot;e06358ff&quot;</td><td>&quot;1ec023f3&quot;</td><td>&quot;12892444&quot;</td><td>&quot;EP-002-L-02-A0…</td><td>&quot;EP-002&quot;</td><td>&quot;L&quot;</td><td>&quot;02-A002&quot;</td><td>2200</td><td>1</td><td>1</td><td>2200</td></tr><tr><td>&quot;ca75e1df&quot;</td><td>&quot;431d89a6&quot;</td><td>&quot;83d096e4&quot;</td><td>&quot;EP-007-F-01-A0…</td><td>&quot;EP-007&quot;</td><td>&quot;F&quot;</td><td>&quot;01-A005&quot;</td><td>480</td><td>2</td><td>1</td><td>480</td></tr><tr><td>&quot;767bbfa6&quot;</td><td>&quot;b4cc219d&quot;</td><td>&quot;964d623a&quot;</td><td>&quot;EP-001-XL-01-A…</td><td>&quot;EP-001&quot;</td><td>&quot;XL&quot;</td><td>&quot;01-A005&quot;</td><td>2350</td><td>1</td><td>1</td><td>2350</td></tr><tr><td>&quot;573d2494&quot;</td><td>&quot;0b801279&quot;</td><td>&quot;668ac5af&quot;</td><td>&quot;EP-002-M-02-A0…</td><td>&quot;EP-002&quot;</td><td>&quot;M&quot;</td><td>&quot;02-A007&quot;</td><td>1900</td><td>1</td><td>1</td><td>1900</td></tr><tr><td>&quot;e60c0450&quot;</td><td>&quot;01c667d3&quot;</td><td>&quot;7bff4f4c&quot;</td><td>&quot;EP-002-L-02-A0…</td><td>&quot;EP-002&quot;</td><td>&quot;L&quot;</td><td>&quot;02-A007&quot;</td><td>2200</td><td>1</td><td>1</td><td>2200</td></tr><tr><td>&quot;96d5eae9&quot;</td><td>&quot;5c06532b&quot;</td><td>&quot;4671c126&quot;</td><td>&quot;EP-011-F-01-A0…</td><td>&quot;EP-011&quot;</td><td>&quot;F&quot;</td><td>&quot;01-A009&quot;</td><td>880</td><td>2</td><td>1</td><td>880</td></tr><tr><td>&quot;e9ead425&quot;</td><td>&quot;93af7caa&quot;</td><td>&quot;d2d2c975&quot;</td><td>&quot;EP-001-L-01-A0…</td><td>&quot;EP-001&quot;</td><td>&quot;L&quot;</td><td>&quot;01-A023&quot;</td><td>1700</td><td>1</td><td>1</td><td>1700</td></tr></tbody></table></div>"
            ]
          },
          "metadata": {},
          "execution_count": 134
        }
      ]
    },
    {
      "cell_type": "code",
      "source": [
        "df[\"canceled_item\"].columns"
      ],
      "metadata": {
        "colab": {
          "base_uri": "https://localhost:8080/"
        },
        "id": "8bBpiJZEplV9",
        "outputId": "7e3a36cb-4d90-4a01-d236-68ffbb9ca1e9"
      },
      "execution_count": 135,
      "outputs": [
        {
          "output_type": "execute_result",
          "data": {
            "text/plain": [
              "['id',\n",
              " 'cn id',\n",
              " 'readable name',\n",
              " 'master product code',\n",
              " 'product code',\n",
              " 'size code',\n",
              " 'color code',\n",
              " 'price per pack',\n",
              " 'pcs per pack',\n",
              " 'quantity (pack)',\n",
              " 'total amount']"
            ]
          },
          "metadata": {},
          "execution_count": 135
        }
      ]
    },
    {
      "cell_type": "code",
      "source": [
        "df[\"canceled_item\"] = df[\"canceled_item\"].drop(columns=['readable name', 'product code','color code','size code', 'color code', 'pcs per pack'])"
      ],
      "metadata": {
        "id": "L0EM1AjYUAfk"
      },
      "execution_count": 136,
      "outputs": []
    },
    {
      "cell_type": "code",
      "source": [
        "df[\"canceled_item\"] = df[\"canceled_item\"].rename({\n",
        "    \"id\": \"order_item_id\",\n",
        "    \"cn id\": \"order_id\",\n",
        "    \"master product code\": \"master_product_code\",\n",
        "    \"price per pack\": \"unit_price\",\n",
        "    \"quantity (pack)\": \"quantity_pack\",\n",
        "    \"total amount\": \"total_price\"\n",
        "})\n",
        "df[\"canceled_item\"].columns"
      ],
      "metadata": {
        "colab": {
          "base_uri": "https://localhost:8080/"
        },
        "id": "uXTLHXX6bXbC",
        "outputId": "753c42d2-c0ef-4efc-d017-649e2b845d79"
      },
      "execution_count": 137,
      "outputs": [
        {
          "output_type": "execute_result",
          "data": {
            "text/plain": [
              "['order_item_id',\n",
              " 'order_id',\n",
              " 'master_product_code',\n",
              " 'unit_price',\n",
              " 'quantity_pack',\n",
              " 'total_price']"
            ]
          },
          "metadata": {},
          "execution_count": 137
        }
      ]
    },
    {
      "cell_type": "markdown",
      "source": [
        "### waybill\n",
        "  - ordernumber -> order_number\n",
        "  - address -> shipping_address"
      ],
      "metadata": {
        "id": "lmgwtuRxT8X3"
      }
    },
    {
      "cell_type": "code",
      "source": [
        "df[\"waybill\"].columns"
      ],
      "metadata": {
        "colab": {
          "base_uri": "https://localhost:8080/"
        },
        "id": "rElIf5npUA34",
        "outputId": "0ac544bd-0db8-4d13-99f6-1a4f98d57a56"
      },
      "execution_count": 138,
      "outputs": [
        {
          "output_type": "execute_result",
          "data": {
            "text/plain": [
              "['ordernumber',\n",
              " 'file',\n",
              " 'platform',\n",
              " 'name',\n",
              " 'address',\n",
              " 'billing_address',\n",
              " 'phone',\n",
              " 'price',\n",
              " 'postcode',\n",
              " 'ship_date',\n",
              " 'tracking_number',\n",
              " 'invoice_number',\n",
              " 'awb_format',\n",
              " 'sales_channel_id']"
            ]
          },
          "metadata": {},
          "execution_count": 138
        }
      ]
    },
    {
      "cell_type": "code",
      "source": [
        "df[\"waybill\"] = df[\"waybill\"].drop(columns=['file', 'platform', 'price', 'sales_channel_id'])\n",
        "df[\"waybill\"].columns"
      ],
      "metadata": {
        "id": "LIHflw41cIqD",
        "colab": {
          "base_uri": "https://localhost:8080/"
        },
        "outputId": "fd25be87-fe7c-40cf-943e-757da6779ed5"
      },
      "execution_count": 139,
      "outputs": [
        {
          "output_type": "execute_result",
          "data": {
            "text/plain": [
              "['ordernumber',\n",
              " 'name',\n",
              " 'address',\n",
              " 'billing_address',\n",
              " 'phone',\n",
              " 'postcode',\n",
              " 'ship_date',\n",
              " 'tracking_number',\n",
              " 'invoice_number',\n",
              " 'awb_format']"
            ]
          },
          "metadata": {},
          "execution_count": 139
        }
      ]
    },
    {
      "cell_type": "code",
      "source": [
        "df[\"waybill\"] = df[\"waybill\"].rename({\n",
        "    \"ordernumber\": \"order_number\",\n",
        "    \"address\": \"shipping_address\"\n",
        "})\n",
        "df[\"waybill\"].columns"
      ],
      "metadata": {
        "colab": {
          "base_uri": "https://localhost:8080/"
        },
        "id": "qqMiCIE2cI58",
        "outputId": "524edcd2-00c3-4262-fc06-e33d45df879a"
      },
      "execution_count": 140,
      "outputs": [
        {
          "output_type": "execute_result",
          "data": {
            "text/plain": [
              "['order_number',\n",
              " 'name',\n",
              " 'shipping_address',\n",
              " 'billing_address',\n",
              " 'phone',\n",
              " 'postcode',\n",
              " 'ship_date',\n",
              " 'tracking_number',\n",
              " 'invoice_number',\n",
              " 'awb_format']"
            ]
          },
          "metadata": {},
          "execution_count": 140
        }
      ]
    },
    {
      "cell_type": "markdown",
      "source": [
        "### customer_code\n",
        "  - code -> customer_category_id\n",
        "  - customer address -> shipping_address\n",
        "  - billing address -> billing_address\n",
        "  - tax id -> tax_id\n",
        "  - tel -> phone\n",
        "  - description -> note\n",
        "  - channel catagory -> channel_catagory"
      ],
      "metadata": {
        "id": "_DmPfpt2T9tm"
      }
    },
    {
      "cell_type": "code",
      "source": [
        "df[\"customer_code\"]"
      ],
      "metadata": {
        "colab": {
          "base_uri": "https://localhost:8080/",
          "height": 1000
        },
        "id": "pLtDFq2mUBfh",
        "outputId": "13c7dbbb-e7ed-4038-96be-973be0c1b8f7",
        "collapsed": true
      },
      "execution_count": 82,
      "outputs": [
        {
          "output_type": "execute_result",
          "data": {
            "text/plain": [
              "shape: (96, 14)\n",
              "┌────────┬──────────┬────────┬──────────────┬───┬──────────┬──────────────┬──────────────┬─────────┐\n",
              "│ code   ┆ category ┆ number ┆ name         ┆ … ┆ contact  ┆ description  ┆ channel      ┆ require │\n",
              "│ ---    ┆ ---      ┆ ---    ┆ ---          ┆   ┆ person   ┆ ---          ┆ catagory     ┆ tax     │\n",
              "│ str    ┆ str      ┆ i64    ┆ str          ┆   ┆ ---      ┆ str          ┆ ---          ┆ ---     │\n",
              "│        ┆          ┆        ┆              ┆   ┆ str      ┆              ┆ str          ┆ bool    │\n",
              "╞════════╪══════════╪════════╪══════════════╪═══╪══════════╪══════════════╪══════════════╪═════════╡\n",
              "│ A002   ┆ A        ┆ 2      ┆ บ.มหาชัยฟู๊ดส์   ┆ … ┆ null     ┆ ซื้อน้ำมัน palm  ┆ Food Factory ┆ true    │\n",
              "│        ┆          ┆        ┆ จก.          ┆   ┆          ┆ olein        ┆              ┆         │\n",
              "│ A015   ┆ A        ┆ 15     ┆ บริษัท เจดีฟู้ด   ┆ … ┆ null     ┆ null         ┆ Food Factory ┆ true    │\n",
              "│        ┆          ┆        ┆ จำกัด(มหาชน)  ┆   ┆          ┆              ┆              ┆         │\n",
              "│ A016   ┆ A        ┆ 16     ┆ บริษัท เจดีฟู้ด   ┆ … ┆ null     ┆ null         ┆ Food Factory ┆ true    │\n",
              "│        ┆          ┆        ┆ จำกัด(มหาชน)  ┆   ┆          ┆              ┆              ┆         │\n",
              "│ A001   ┆ A        ┆ 1      ┆ บ.แอลไลด์เคมีเ ┆ … ┆ null     ┆ null         ┆ Food Factory ┆ true    │\n",
              "│        ┆          ┆        ┆ คิลอินเตอร์เนชั่น ┆   ┆          ┆              ┆              ┆         │\n",
              "│        ┆          ┆        ┆ แ…           ┆   ┆          ┆              ┆              ┆         │\n",
              "│ …      ┆ …        ┆ …      ┆ …            ┆ … ┆ …        ┆ …            ┆ …            ┆ …       │\n",
              "│ EH0092 ┆ EH       ┆ 90     ┆ หจก.พรรษาเวช ┆ … ┆ สุพรรษา   ┆ ขายต่อโรงพยาบ ┆ Medical Shop ┆ true    │\n",
              "│        ┆          ┆        ┆ ภัณฑ์          ┆   ┆ บำรุงวงค์  ┆ าล           ┆              ┆         │\n",
              "│ EH0093 ┆ EH       ┆ 91     ┆ บจ. ธนบุรี     ┆ … ┆ null     ┆ null         ┆ nursing home ┆ null    │\n",
              "│        ┆          ┆        ┆ เวลบีอิ้ง       ┆   ┆          ┆              ┆              ┆         │\n",
              "│ EH0094 ┆ EH       ┆ 92     ┆ บจ.สุขภาพดี-อา ┆ … ┆ K Nunat  ┆ null         ┆ Hospital     ┆ true    │\n",
              "│        ┆          ┆        ┆ ยุยืน การแพทย์  ┆   ┆          ┆              ┆              ┆         │\n",
              "│ EH0095 ┆ EH       ┆ 93     ┆ บจ.คลังสุขภาพ  ┆ … ┆ คุณ วุฒ    ┆ null         ┆ Medical Shop ┆ false   │\n",
              "│        ┆          ┆        ┆              ┆   ┆ ธนวิชชบูรณ์ ┆              ┆              ┆         │\n",
              "└────────┴──────────┴────────┴──────────────┴───┴──────────┴──────────────┴──────────────┴─────────┘"
            ],
            "text/html": [
              "<div><style>\n",
              ".dataframe > thead > tr,\n",
              ".dataframe > tbody > tr {\n",
              "  text-align: right;\n",
              "  white-space: pre-wrap;\n",
              "}\n",
              "</style>\n",
              "<small>shape: (96, 14)</small><table border=\"1\" class=\"dataframe\"><thead><tr><th>code</th><th>category</th><th>number</th><th>name</th><th>customer address</th><th>billing address</th><th>branch</th><th>tax id</th><th>tel</th><th>email</th><th>contact person</th><th>description</th><th>channel catagory</th><th>require tax</th></tr><tr><td>str</td><td>str</td><td>i64</td><td>str</td><td>str</td><td>str</td><td>str</td><td>str</td><td>str</td><td>str</td><td>str</td><td>str</td><td>str</td><td>bool</td></tr></thead><tbody><tr><td>&quot;A002&quot;</td><td>&quot;A&quot;</td><td>2</td><td>&quot;บ.มหาชัยฟู๊ดส์…</td><td>&quot;71/11 หมู่ที่6…</td><td>null</td><td>&quot;00001&quot;</td><td>&quot;0105532104629&quot;</td><td>null</td><td>null</td><td>null</td><td>&quot;ซื้อน้ำมัน pal…</td><td>&quot;Food Factory&quot;</td><td>true</td></tr><tr><td>&quot;A015&quot;</td><td>&quot;A&quot;</td><td>15</td><td>&quot;บริษัท เจดีฟู้…</td><td>&quot;48/52-53 ม.1 ถ…</td><td>null</td><td>&quot;00001&quot;</td><td>&quot;0107563000151&quot;</td><td>null</td><td>null</td><td>null</td><td>null</td><td>&quot;Food Factory&quot;</td><td>true</td></tr><tr><td>&quot;A016&quot;</td><td>&quot;A&quot;</td><td>16</td><td>&quot;บริษัท เจดีฟู้…</td><td>&quot;116, 116/1, 11…</td><td>null</td><td>&quot;00001&quot;</td><td>&quot;0107563000151&quot;</td><td>null</td><td>null</td><td>null</td><td>null</td><td>&quot;Food Factory&quot;</td><td>true</td></tr><tr><td>&quot;A001&quot;</td><td>&quot;A&quot;</td><td>1</td><td>&quot;บ.แอลไลด์เคมีเ…</td><td>&quot;255/2 นิคมอุตส…</td><td>null</td><td>&quot;00001&quot;</td><td>&quot;0105534105169&quot;</td><td>null</td><td>null</td><td>null</td><td>null</td><td>&quot;Food Factory&quot;</td><td>true</td></tr><tr><td>&quot;A042&quot;</td><td>&quot;A&quot;</td><td>42</td><td>&quot;บ.ทริปเปิ้ล-เอ…</td><td>&quot;314/15,314/16 …</td><td>null</td><td>&quot;สำนักงานใหญ่&quot;</td><td>&quot;0105548105522&quot;</td><td>null</td><td>null</td><td>null</td><td>null</td><td>&quot;Food Factory&quot;</td><td>true</td></tr><tr><td>&quot;A046&quot;</td><td>&quot;A&quot;</td><td>46</td><td>&quot;บ.อินทัชธนากร …</td><td>&quot;216/2 ม.1 ต.บ้…</td><td>null</td><td>&quot;สาขาที่ 1&quot;</td><td>&quot;0105540071343&quot;</td><td>null</td><td>null</td><td>null</td><td>null</td><td>&quot;Food Factory&quot;</td><td>true</td></tr><tr><td>&quot;A047&quot;</td><td>&quot;A&quot;</td><td>47</td><td>&quot;บ.เอ็น เอส ที …</td><td>&quot;45/19 ม.5 ซ.วั…</td><td>null</td><td>&quot;-&quot;</td><td>&quot;0105540011871&quot;</td><td>null</td><td>null</td><td>null</td><td>null</td><td>&quot;Food Factory&quot;</td><td>true</td></tr><tr><td>&quot;A048&quot;</td><td>&quot;A&quot;</td><td>48</td><td>&quot;บ.เอส ทรี พี โ…</td><td>&quot;513/2 ถนนประชา…</td><td>null</td><td>&quot;สำนักงานใหญ่&quot;</td><td>&quot;0105560171564&quot;</td><td>null</td><td>null</td><td>null</td><td>null</td><td>&quot;Food Factory&quot;</td><td>true</td></tr><tr><td>&quot;A049&quot;</td><td>&quot;A&quot;</td><td>49</td><td>&quot;บ.สินสวัสดิ์แท…</td><td>&quot;204 ม.6 ถ.สุขุ…</td><td>null</td><td>null</td><td>&quot;0115534001789&quot;</td><td>null</td><td>null</td><td>null</td><td>null</td><td>&quot;Food Factory&quot;</td><td>true</td></tr><tr><td>&quot;A050&quot;</td><td>&quot;A&quot;</td><td>50</td><td>&quot;บ.ไทยเอ็มฟู้ดโ…</td><td>&quot; 22 ซอยเอกชัย …</td><td>null</td><td>&quot;สำนักงานใหญ่&quot;</td><td>&quot;0105536033351&quot;</td><td>null</td><td>null</td><td>null</td><td>null</td><td>&quot;Food Factory&quot;</td><td>true</td></tr><tr><td>&quot;A051&quot;</td><td>&quot;A&quot;</td><td>51</td><td>&quot;บ.สยาม พี เจ ฟ…</td><td>&quot;77/69 ม.7 ต.คล…</td><td>null</td><td>&quot;สำนักงานใหญ่&quot;</td><td>&quot;0125547003165&quot;</td><td>null</td><td>null</td><td>null</td><td>null</td><td>&quot;Food Factory&quot;</td><td>true</td></tr><tr><td>&quot;EC0001&quot;</td><td>&quot;EC&quot;</td><td>1</td><td>&quot;Lazada&quot;</td><td>null</td><td>null</td><td>null</td><td>null</td><td>null</td><td>null</td><td>null</td><td>null</td><td>&quot;E-Market Place…</td><td>true</td></tr><tr><td>&hellip;</td><td>&hellip;</td><td>&hellip;</td><td>&hellip;</td><td>&hellip;</td><td>&hellip;</td><td>&hellip;</td><td>&hellip;</td><td>&hellip;</td><td>&hellip;</td><td>&hellip;</td><td>&hellip;</td><td>&hellip;</td><td>&hellip;</td></tr><tr><td>&quot;EH0075&quot;</td><td>&quot;EH&quot;</td><td>75</td><td>&quot;บจ.ออลเฮท์เซอร…</td><td>&quot;200/2 ถ.นนทบุร…</td><td>null</td><td>null</td><td>null</td><td>&quot;0827607626&quot;</td><td>null</td><td>&quot;ณัฐวุฒิ (บอย)&quot;</td><td>null</td><td>&quot;Nursing Care&quot;</td><td>true</td></tr><tr><td>&quot;EH0076&quot;</td><td>&quot;EH&quot;</td><td>76</td><td>&quot;ที่อยู่ในการออ…</td><td>&quot;61/160 Rama IX…</td><td>null</td><td>&quot;สำนักงานใหญ่&quot;</td><td>&quot;0-1055-57165-4…</td><td>&quot;0&quot;</td><td>null</td><td>null</td><td>null</td><td>null</td><td>null</td></tr><tr><td>&quot;EH0079&quot;</td><td>&quot;EH&quot;</td><td>79</td><td>&quot;บจ.เค.พี่.เอ็น…</td><td>&quot;93 Thanon Sukh…</td><td>null</td><td>&quot;00002&quot;</td><td>&quot;0105562167777&quot;</td><td>&quot;0980515593&quot;</td><td>null</td><td>&quot;K Fern&quot;</td><td>null</td><td>&quot;nursing home&quot;</td><td>true</td></tr><tr><td>&quot;EH0080&quot;</td><td>&quot;EH&quot;</td><td>80</td><td>&quot;บริษัท โรงพยาบ…</td><td>null</td><td>&quot;57 ม.3ถ.ทวีราษ…</td><td>null</td><td>&quot;0105546096381&quot;</td><td>&quot;0&quot;</td><td>&quot;bshicu@bdms.co…</td><td>null</td><td>null</td><td>&quot;Hospital&quot;</td><td>true</td></tr><tr><td>&quot;EH0055&quot;</td><td>&quot;EH&quot;</td><td>55</td><td>&quot;โรงพยาบาลเขาค้…</td><td>&quot;Khao Kho, Khao…</td><td>&quot;โรงพยาบาลเขาค้…</td><td>null</td><td>&quot;0994000932553&quot;</td><td>&quot;0824833832&quot;</td><td>null</td><td>&quot;Film&quot;</td><td>null</td><td>&quot;Hospital&quot;</td><td>true</td></tr><tr><td>&quot;EH0087&quot;</td><td>&quot;EH&quot;</td><td>87</td><td>&quot;AP Medical&quot;</td><td>null</td><td>null</td><td>null</td><td>null</td><td>&quot;0&quot;</td><td>null</td><td>null</td><td>null</td><td>null</td><td>false</td></tr><tr><td>&quot;EH0081&quot;</td><td>&quot;EH&quot;</td><td>88</td><td>&quot;ร้าน MD Meda&quot;</td><td>null</td><td>null</td><td>null</td><td>null</td><td>&quot;0&quot;</td><td>null</td><td>null</td><td>null</td><td>&quot;Medical Shop&quot;</td><td>false</td></tr><tr><td>&quot;EH0099&quot;</td><td>&quot;EH&quot;</td><td>89</td><td>&quot;สมิติเวช ชลบุร…</td><td>null</td><td>null</td><td>null</td><td>null</td><td>&quot;0&quot;</td><td>null</td><td>null</td><td>null</td><td>null</td><td>true</td></tr><tr><td>&quot;EH0092&quot;</td><td>&quot;EH&quot;</td><td>90</td><td>&quot;หจก.พรรษาเวชภั…</td><td>&quot;หจก.พรรษาเวชภั…</td><td>&quot;136 ม.4 ตำบลสว…</td><td>null</td><td>&quot;0563562000508&quot;</td><td>&quot;0924793998&quot;</td><td>&quot;Punsa_wet@outl…</td><td>&quot;สุพรรษา บำรุงว…</td><td>&quot;ขายต่อโรงพยาบา…</td><td>&quot;Medical Shop&quot;</td><td>true</td></tr><tr><td>&quot;EH0093&quot;</td><td>&quot;EH&quot;</td><td>91</td><td>&quot;บจ. ธนบุรี เวล…</td><td>null</td><td>null</td><td>null</td><td>null</td><td>&quot;0&quot;</td><td>null</td><td>null</td><td>null</td><td>&quot;nursing home&quot;</td><td>null</td></tr><tr><td>&quot;EH0094&quot;</td><td>&quot;EH&quot;</td><td>92</td><td>&quot;บจ.สุขภาพดี-อา…</td><td>null</td><td>&quot;32 (ชั้น 3 บี)…</td><td>&quot;สำนักงานใหญ่&quot;</td><td>null</td><td>&quot;0660971249&quot;</td><td>null</td><td>&quot;K Nunat&quot;</td><td>null</td><td>&quot;Hospital&quot;</td><td>true</td></tr><tr><td>&quot;EH0095&quot;</td><td>&quot;EH&quot;</td><td>93</td><td>&quot;บจ.คลังสุขภาพ&quot;</td><td>null</td><td>&quot;338,340 ถ.ประช…</td><td>null</td><td>null</td><td>&quot;0892311515&quot;</td><td>null</td><td>&quot;คุณ วุฒ ธนวิชช…</td><td>null</td><td>&quot;Medical Shop&quot;</td><td>false</td></tr></tbody></table></div>"
            ]
          },
          "metadata": {},
          "execution_count": 82
        }
      ]
    },
    {
      "cell_type": "code",
      "source": [
        "df[\"customer_code\"] = df[\"customer_code\"].drop(columns=['category', 'number', 'contact person', 'require tax'])\n",
        "df[\"customer_code\"].columns"
      ],
      "metadata": {
        "colab": {
          "base_uri": "https://localhost:8080/"
        },
        "id": "QkABe75acJO6",
        "outputId": "7a26384e-dc4e-4194-f008-155b7e299fed"
      },
      "execution_count": 141,
      "outputs": [
        {
          "output_type": "execute_result",
          "data": {
            "text/plain": [
              "['code',\n",
              " 'name',\n",
              " 'customer address',\n",
              " 'billing address',\n",
              " 'branch',\n",
              " 'tax id',\n",
              " 'tel',\n",
              " 'email',\n",
              " 'description',\n",
              " 'channel catagory']"
            ]
          },
          "metadata": {},
          "execution_count": 141
        }
      ]
    },
    {
      "cell_type": "code",
      "source": [
        "df[\"customer_code\"] = df[\"customer_code\"].rename({\n",
        "    \"code\": \"customer_category_id\",\n",
        "    \"customer address\": \"shipping_address\",\n",
        "    \"billing address\": \"billing_address\",\n",
        "    \"tax id\": \"tax_id\",\n",
        "    \"tel\": \"phone\",\n",
        "    \"description\": \"note\",\n",
        "    \"channel catagory\": \"channel_catagory\"\n",
        "})\n",
        "df[\"customer_code\"].columns"
      ],
      "metadata": {
        "colab": {
          "base_uri": "https://localhost:8080/"
        },
        "id": "o90SbAe-cJcy",
        "outputId": "43bcb052-eda9-4e83-a835-c25beb83d35f"
      },
      "execution_count": 142,
      "outputs": [
        {
          "output_type": "execute_result",
          "data": {
            "text/plain": [
              "['customer_category_id',\n",
              " 'name',\n",
              " 'shipping_address',\n",
              " 'billing_address',\n",
              " 'branch',\n",
              " 'tax_id',\n",
              " 'phone',\n",
              " 'email',\n",
              " 'note',\n",
              " 'channel_catagory']"
            ]
          },
          "metadata": {},
          "execution_count": 142
        }
      ]
    },
    {
      "cell_type": "markdown",
      "source": [
        "# Step 2) Transform - Schema/Value Integration"
      ],
      "metadata": {
        "id": "vV1op3q3ki_y"
      }
    },
    {
      "cell_type": "markdown",
      "source": [
        "Process ข้อมูลด้วย Polars ในการรวมและแยก Dataset\n",
        "- เติมและย้ายข้อมูลให้ถูกต้อง\n",
        "- Change format of day\n",
        "- รวม data\n",
        "- แยก data\n",
        "- สร้าง fake values\n",
        "- สรุปผลข้อมูล\n",
        "- Check Value"
      ],
      "metadata": {
        "id": "ofHQqSuFVrT9"
      }
    },
    {
      "cell_type": "markdown",
      "source": [
        "## เติมช่องว่าง ย้ายข้อมูลให้ถูกต้อง และเปลี่ยน format วันที่"
      ],
      "metadata": {
        "id": "zlhuZhyRYH-O"
      }
    },
    {
      "cell_type": "markdown",
      "source": [
        "### canceled_order dataframe\n",
        "ตัด -CN ที่อยู่ท้าย invoice_number ไปลงข้อมูลใน status แทน"
      ],
      "metadata": {
        "id": "zf8eBvORHPhF"
      }
    },
    {
      "cell_type": "code",
      "source": [
        "# remove \"-CN\" from invoice_number column and add \"Canceled\" to new status column\n",
        "df[\"canceled_order\"] = df[\"canceled_order\"].with_columns(\n",
        "    pl.lit(\"Canceled\").alias(\"status\"),\n",
        "    pl.col(\"invoice_number\").str.replace(\"-CN\",\"\")\n",
        ")\n",
        "df[\"canceled_order\"]"
      ],
      "metadata": {
        "id": "Qf4H07xigq4K",
        "colab": {
          "base_uri": "https://localhost:8080/"
        },
        "collapsed": true,
        "outputId": "b760d165-b26f-4066-9586-38bc62e0b2db"
      },
      "execution_count": 151,
      "outputs": [
        {
          "output_type": "execute_result",
          "data": {
            "text/plain": [
              "['cancel_id',\n",
              " 'updated_at',\n",
              " 'order_id',\n",
              " 'invoice_number',\n",
              " 'order_number',\n",
              " 'sales_channel',\n",
              " 'require_vat',\n",
              " 'shipping_charge',\n",
              " 'discount_baht',\n",
              " 'name',\n",
              " 'billing_address',\n",
              " 'shipping_address',\n",
              " 'phone',\n",
              " 'cancel_reason',\n",
              " 'status']"
            ]
          },
          "metadata": {},
          "execution_count": 151
        }
      ]
    },
    {
      "cell_type": "markdown",
      "source": [
        "### Other\n",
        "- เติมข้อมูลที่อยู่ ถ้าที่อยู่จัดส่งหรือที่อยู่ตามหน้าบิล อันใดอันหนึ่งเป็น null ให้ใช้ข้อมูลเหมือนที่อยู่อีกอันได้เลย\n",
        "- แปลง format ของวันที่"
      ],
      "metadata": {
        "id": "OEsVoGoeN276"
      }
    },
    {
      "cell_type": "code",
      "source": [
        "for df_name in csv_list:\n",
        "  for column in df[df_name]:\n",
        "    if column.name in [\"billing_address\", \"shipping_address\"]:\n",
        "      df[df_name] = df[df_name].with_columns(\n",
        "        pl.col(\"billing_address\").fill_null(pl.col(\"shipping_address\")),\n",
        "        pl.col(\"shipping_address\").fill_null(pl.col(\"billing_address\"))\n",
        "      )\n",
        "    if \"_at\" in column.name and column.dtype != pl.Datetime:\n",
        "      print(f\"Table: {df_name}\")\n",
        "      print(f\"Column: {column.name}\")\n",
        "      df[df_name] = df[df_name].with_columns(\n",
        "        pl.coalesce(\n",
        "          pl.col(column.name).str.strptime(pl.Datetime, \"%d/%m/%Y %H:%M:%S\", strict=False),\n",
        "          pl.col(column.name).str.strptime(pl.Date, \"%d/%m/%Y\", strict=False)\n",
        "        )\n",
        "      )\n",
        "      print(\"--------\")\n"
      ],
      "metadata": {
        "id": "CHNxRhVeN5eN"
      },
      "execution_count": 177,
      "outputs": []
    },
    {
      "cell_type": "markdown",
      "source": [
        "## รวม data\n",
        "- sale_order + cn_order(canceled order) -> sale_order\n",
        "- inventory_output + cn_item(canceled item) + Price -> order_item"
      ],
      "metadata": {
        "id": "A_uq_TzmONta"
      }
    },
    {
      "cell_type": "code",
      "source": [],
      "metadata": {
        "id": "uy47qE5QhKX9"
      },
      "execution_count": null,
      "outputs": []
    },
    {
      "cell_type": "markdown",
      "source": [
        "## แยก data\n",
        "- awb_info -> waybill + customer_address(1)\n",
        "  > เอา platform ออกเพราะมี sales_channel ใน sale_order แล้ว\n",
        "- customer_code -> customer + customer_category + customer_address(2)\n",
        "  >customer code/address/... -> customer_address_id"
      ],
      "metadata": {
        "id": "gV-OZvMvOomX"
      }
    },
    {
      "cell_type": "code",
      "source": [
        ".drop_duplicates()\n"
      ],
      "metadata": {
        "id": "Horx99eXOvsJ"
      },
      "execution_count": null,
      "outputs": []
    },
    {
      "cell_type": "markdown",
      "source": [
        "## Use Faker library to generate fake names"
      ],
      "metadata": {
        "id": "8IqEuK5HO2c0"
      }
    },
    {
      "cell_type": "code",
      "source": [
        "!pip install faker"
      ],
      "metadata": {
        "id": "6LfioSdwO6rc"
      },
      "execution_count": null,
      "outputs": []
    },
    {
      "cell_type": "code",
      "source": [
        "from faker import Faker\n",
        "fake = Faker()\n",
        "customer_master['Name'] = customer_master['CustomerNo'].apply(lambda x: fake.name())"
      ],
      "metadata": {
        "id": "_zD0LLObO12x"
      },
      "execution_count": null,
      "outputs": []
    },
    {
      "cell_type": "markdown",
      "source": [
        "## Summary"
      ],
      "metadata": {
        "id": "H4efnycnXLTB"
      }
    },
    {
      "cell_type": "code",
      "source": [
        "df.info()"
      ],
      "metadata": {
        "id": "mFBBXGc6XTEq"
      },
      "execution_count": null,
      "outputs": []
    },
    {
      "cell_type": "code",
      "source": [
        "df.describe()"
      ],
      "metadata": {
        "id": "8_nNEsPwXNWf"
      },
      "execution_count": null,
      "outputs": []
    },
    {
      "cell_type": "markdown",
      "source": [
        "# Step 3) Insert into Database"
      ],
      "metadata": {
        "id": "SfNxkjmXYg7D"
      }
    },
    {
      "cell_type": "markdown",
      "source": [
        "Insert ข้อมูลลงใน MySQL Database\n",
        "- อ่าน Secrets ของ Colab (เก็บลง class Config)\n",
        "- ใช้ Sqlalchemy เชื่อมต่อไปที่ MySQL\n",
        "- สร้าง Schema (database)\n",
        "- Insert ข้อมูลลงใน tables"
      ],
      "metadata": {
        "id": "2T-7DMplWdxQ"
      }
    },
    {
      "cell_type": "markdown",
      "source": [
        "## Getting Secrets"
      ],
      "metadata": {
        "id": "HoGnBYa4oD4i"
      }
    },
    {
      "cell_type": "code",
      "source": [
        "from google.colab import userdata\n",
        "\n",
        "class Config:\n",
        "  MYSQL_HOST = userdata.get(\"MYSQL_HOST\")\n",
        "  MYSQL_PORT = userdata.get(\"MYSQL_PORT\")\n",
        "  MYSQL_USER = userdata.get(\"MYSQL_USER\")\n",
        "  MYSQL_PASSWORD = userdata.get(\"MYSQL_PASSWORD\")\n",
        "  MYSQL_DB = ''\n",
        "  MYSQL_CHARSET = 'utf8mb4'\n"
      ],
      "metadata": {
        "id": "bV5pD0zxoGHo"
      },
      "execution_count": null,
      "outputs": []
    },
    {
      "cell_type": "markdown",
      "source": [
        "## Connect to MySQL"
      ],
      "metadata": {
        "id": "cvJTxMv4wDYw"
      }
    },
    {
      "cell_type": "code",
      "source": [
        "!pip install pymysql"
      ],
      "metadata": {
        "id": "ThRZwmQWDjd3"
      },
      "execution_count": null,
      "outputs": []
    },
    {
      "cell_type": "code",
      "source": [
        "import sqlalchemy\n",
        "\n",
        "engine = sqlalchemy.create_engine(\n",
        "    \"mysql+pymysql://{user}:{password}@{host}:{port}/{db}\".format(\n",
        "        user=Config.MYSQL_USER,\n",
        "        password=Config.MYSQL_PASSWORD,\n",
        "        host=Config.MYSQL_HOST,\n",
        "        port=Config.MYSQL_PORT,\n",
        "        db=Config.MYSQL_DB,\n",
        "    )\n",
        ")"
      ],
      "metadata": {
        "id": "0CCbIpAalkAf"
      },
      "execution_count": null,
      "outputs": []
    },
    {
      "cell_type": "code",
      "source": [
        "df"
      ],
      "metadata": {
        "id": "owhZsMtceaTk"
      },
      "execution_count": null,
      "outputs": []
    },
    {
      "cell_type": "markdown",
      "source": [
        "**Tables:**\n",
        "- transaction\n",
        "- customer\n",
        "- product"
      ],
      "metadata": {
        "id": "b8fu37mz0Ubp"
      }
    },
    {
      "cell_type": "markdown",
      "source": [
        "## Create Schema"
      ],
      "metadata": {
        "id": "dQMThoQrfJrg"
      }
    },
    {
      "cell_type": "code",
      "source": [
        "schema_name = \"elgo\"\n",
        "\n",
        "with engine.connect() as connection:\n",
        "    connection.execute(sqlalchemy.text(f\"CREATE DATABASE IF NOT EXISTS {schema_name};\"))\n"
      ],
      "metadata": {
        "id": "uc8-Way5fJb5"
      },
      "execution_count": null,
      "outputs": []
    },
    {
      "cell_type": "markdown",
      "source": [
        "## Insert to tables"
      ],
      "metadata": {
        "id": "810h4DQO-N0G"
      }
    },
    {
      "cell_type": "code",
      "source": [
        "df.to_sql(\n",
        "    '',        # Name of the table to be created\n",
        "    con=engine,           # SQLAlchemy engine connection\n",
        "    schema=schema_name,   # Database name\n",
        "    if_exists='replace',  # 'fail', 'replace', or 'append'\n",
        "    index=False,          # Whether to include the DataFrame's index as a column\n",
        "    chunksize=1000,       # Number of rows to insert in each chunk (for large DataFrames)\n",
        ")"
      ],
      "metadata": {
        "colab": {
          "base_uri": "https://localhost:8080/"
        },
        "id": "rU3u12R4e6zX",
        "outputId": "227bf613-01a4-422e-de28-f00fd781d539",
        "collapsed": true
      },
      "execution_count": null,
      "outputs": [
        {
          "output_type": "execute_result",
          "data": {
            "text/plain": [
              "536350"
            ]
          },
          "metadata": {},
          "execution_count": 61
        }
      ]
    },
    {
      "cell_type": "markdown",
      "source": [
        "# Step 4) Query and save output files"
      ],
      "metadata": {
        "id": "kLoqr8MQ_YHb"
      }
    },
    {
      "cell_type": "markdown",
      "source": [
        "Query ข้อมูลใน table และเซฟไฟล์ output\n",
        "- Query ข้อมูลด้วย Pandas\n",
        "- Output ไฟล์เป็น parquet"
      ],
      "metadata": {
        "id": "8Nu0fHprWnKp"
      }
    },
    {
      "cell_type": "markdown",
      "source": [
        "## Query"
      ],
      "metadata": {
        "id": "wKcFJi4qBb-8"
      }
    },
    {
      "cell_type": "code",
      "source": [
        "sql = \"SELECT * FROM \"\n",
        " = pd.read_sql_query(sql, engine)"
      ],
      "metadata": {
        "colab": {
          "base_uri": "https://localhost:8080/",
          "height": 424
        },
        "id": "27oN_A_ABg45",
        "outputId": "38de3726-b577-4869-ebe1-3093468c48bd",
        "collapsed": true
      },
      "execution_count": null,
      "outputs": [
        {
          "output_type": "execute_result",
          "data": {
            "text/plain": [
              "      CustomerNo         Country            Name\n",
              "0        17490.0  United Kingdom    Sara Griffin\n",
              "1        13069.0  United Kingdom    Michael Holt\n",
              "2        12433.0          Norway  Kelli Sandoval\n",
              "3        13426.0  United Kingdom   Dalton Graves\n",
              "4        17364.0  United Kingdom  Michelle James\n",
              "...          ...             ...             ...\n",
              "4734     16274.0  United Kingdom     Megan Young\n",
              "4735     14142.0  United Kingdom   Luke Williams\n",
              "4736     13065.0  United Kingdom      Lisa Jones\n",
              "4737     18011.0  United Kingdom   Kelly Jenkins\n",
              "4738     17558.0  United Kingdom   Scott Johnson\n",
              "\n",
              "[4739 rows x 3 columns]"
            ],
            "text/html": [
              "\n",
              "  <div id=\"df-be83f9d0-3699-4023-8f37-1f83ad802247\" class=\"colab-df-container\">\n",
              "    <div>\n",
              "<style scoped>\n",
              "    .dataframe tbody tr th:only-of-type {\n",
              "        vertical-align: middle;\n",
              "    }\n",
              "\n",
              "    .dataframe tbody tr th {\n",
              "        vertical-align: top;\n",
              "    }\n",
              "\n",
              "    .dataframe thead th {\n",
              "        text-align: right;\n",
              "    }\n",
              "</style>\n",
              "<table border=\"1\" class=\"dataframe\">\n",
              "  <thead>\n",
              "    <tr style=\"text-align: right;\">\n",
              "      <th></th>\n",
              "      <th>CustomerNo</th>\n",
              "      <th>Country</th>\n",
              "      <th>Name</th>\n",
              "    </tr>\n",
              "  </thead>\n",
              "  <tbody>\n",
              "    <tr>\n",
              "      <th>0</th>\n",
              "      <td>17490.0</td>\n",
              "      <td>United Kingdom</td>\n",
              "      <td>Sara Griffin</td>\n",
              "    </tr>\n",
              "    <tr>\n",
              "      <th>1</th>\n",
              "      <td>13069.0</td>\n",
              "      <td>United Kingdom</td>\n",
              "      <td>Michael Holt</td>\n",
              "    </tr>\n",
              "    <tr>\n",
              "      <th>2</th>\n",
              "      <td>12433.0</td>\n",
              "      <td>Norway</td>\n",
              "      <td>Kelli Sandoval</td>\n",
              "    </tr>\n",
              "    <tr>\n",
              "      <th>3</th>\n",
              "      <td>13426.0</td>\n",
              "      <td>United Kingdom</td>\n",
              "      <td>Dalton Graves</td>\n",
              "    </tr>\n",
              "    <tr>\n",
              "      <th>4</th>\n",
              "      <td>17364.0</td>\n",
              "      <td>United Kingdom</td>\n",
              "      <td>Michelle James</td>\n",
              "    </tr>\n",
              "    <tr>\n",
              "      <th>...</th>\n",
              "      <td>...</td>\n",
              "      <td>...</td>\n",
              "      <td>...</td>\n",
              "    </tr>\n",
              "    <tr>\n",
              "      <th>4734</th>\n",
              "      <td>16274.0</td>\n",
              "      <td>United Kingdom</td>\n",
              "      <td>Megan Young</td>\n",
              "    </tr>\n",
              "    <tr>\n",
              "      <th>4735</th>\n",
              "      <td>14142.0</td>\n",
              "      <td>United Kingdom</td>\n",
              "      <td>Luke Williams</td>\n",
              "    </tr>\n",
              "    <tr>\n",
              "      <th>4736</th>\n",
              "      <td>13065.0</td>\n",
              "      <td>United Kingdom</td>\n",
              "      <td>Lisa Jones</td>\n",
              "    </tr>\n",
              "    <tr>\n",
              "      <th>4737</th>\n",
              "      <td>18011.0</td>\n",
              "      <td>United Kingdom</td>\n",
              "      <td>Kelly Jenkins</td>\n",
              "    </tr>\n",
              "    <tr>\n",
              "      <th>4738</th>\n",
              "      <td>17558.0</td>\n",
              "      <td>United Kingdom</td>\n",
              "      <td>Scott Johnson</td>\n",
              "    </tr>\n",
              "  </tbody>\n",
              "</table>\n",
              "<p>4739 rows × 3 columns</p>\n",
              "</div>\n",
              "    <div class=\"colab-df-buttons\">\n",
              "\n",
              "  <div class=\"colab-df-container\">\n",
              "    <button class=\"colab-df-convert\" onclick=\"convertToInteractive('df-be83f9d0-3699-4023-8f37-1f83ad802247')\"\n",
              "            title=\"Convert this dataframe to an interactive table.\"\n",
              "            style=\"display:none;\">\n",
              "\n",
              "  <svg xmlns=\"http://www.w3.org/2000/svg\" height=\"24px\" viewBox=\"0 -960 960 960\">\n",
              "    <path d=\"M120-120v-720h720v720H120Zm60-500h600v-160H180v160Zm220 220h160v-160H400v160Zm0 220h160v-160H400v160ZM180-400h160v-160H180v160Zm440 0h160v-160H620v160ZM180-180h160v-160H180v160Zm440 0h160v-160H620v160Z\"/>\n",
              "  </svg>\n",
              "    </button>\n",
              "\n",
              "  <style>\n",
              "    .colab-df-container {\n",
              "      display:flex;\n",
              "      gap: 12px;\n",
              "    }\n",
              "\n",
              "    .colab-df-convert {\n",
              "      background-color: #E8F0FE;\n",
              "      border: none;\n",
              "      border-radius: 50%;\n",
              "      cursor: pointer;\n",
              "      display: none;\n",
              "      fill: #1967D2;\n",
              "      height: 32px;\n",
              "      padding: 0 0 0 0;\n",
              "      width: 32px;\n",
              "    }\n",
              "\n",
              "    .colab-df-convert:hover {\n",
              "      background-color: #E2EBFA;\n",
              "      box-shadow: 0px 1px 2px rgba(60, 64, 67, 0.3), 0px 1px 3px 1px rgba(60, 64, 67, 0.15);\n",
              "      fill: #174EA6;\n",
              "    }\n",
              "\n",
              "    .colab-df-buttons div {\n",
              "      margin-bottom: 4px;\n",
              "    }\n",
              "\n",
              "    [theme=dark] .colab-df-convert {\n",
              "      background-color: #3B4455;\n",
              "      fill: #D2E3FC;\n",
              "    }\n",
              "\n",
              "    [theme=dark] .colab-df-convert:hover {\n",
              "      background-color: #434B5C;\n",
              "      box-shadow: 0px 1px 3px 1px rgba(0, 0, 0, 0.15);\n",
              "      filter: drop-shadow(0px 1px 2px rgba(0, 0, 0, 0.3));\n",
              "      fill: #FFFFFF;\n",
              "    }\n",
              "  </style>\n",
              "\n",
              "    <script>\n",
              "      const buttonEl =\n",
              "        document.querySelector('#df-be83f9d0-3699-4023-8f37-1f83ad802247 button.colab-df-convert');\n",
              "      buttonEl.style.display =\n",
              "        google.colab.kernel.accessAllowed ? 'block' : 'none';\n",
              "\n",
              "      async function convertToInteractive(key) {\n",
              "        const element = document.querySelector('#df-be83f9d0-3699-4023-8f37-1f83ad802247');\n",
              "        const dataTable =\n",
              "          await google.colab.kernel.invokeFunction('convertToInteractive',\n",
              "                                                    [key], {});\n",
              "        if (!dataTable) return;\n",
              "\n",
              "        const docLinkHtml = 'Like what you see? Visit the ' +\n",
              "          '<a target=\"_blank\" href=https://colab.research.google.com/notebooks/data_table.ipynb>data table notebook</a>'\n",
              "          + ' to learn more about interactive tables.';\n",
              "        element.innerHTML = '';\n",
              "        dataTable['output_type'] = 'display_data';\n",
              "        await google.colab.output.renderOutput(dataTable, element);\n",
              "        const docLink = document.createElement('div');\n",
              "        docLink.innerHTML = docLinkHtml;\n",
              "        element.appendChild(docLink);\n",
              "      }\n",
              "    </script>\n",
              "  </div>\n",
              "\n",
              "\n",
              "<div id=\"df-d38d887f-dd55-4a09-9866-1fdb1fa4912d\">\n",
              "  <button class=\"colab-df-quickchart\" onclick=\"quickchart('df-d38d887f-dd55-4a09-9866-1fdb1fa4912d')\"\n",
              "            title=\"Suggest charts\"\n",
              "            style=\"display:none;\">\n",
              "\n",
              "<svg xmlns=\"http://www.w3.org/2000/svg\" height=\"24px\"viewBox=\"0 0 24 24\"\n",
              "     width=\"24px\">\n",
              "    <g>\n",
              "        <path d=\"M19 3H5c-1.1 0-2 .9-2 2v14c0 1.1.9 2 2 2h14c1.1 0 2-.9 2-2V5c0-1.1-.9-2-2-2zM9 17H7v-7h2v7zm4 0h-2V7h2v10zm4 0h-2v-4h2v4z\"/>\n",
              "    </g>\n",
              "</svg>\n",
              "  </button>\n",
              "\n",
              "<style>\n",
              "  .colab-df-quickchart {\n",
              "      --bg-color: #E8F0FE;\n",
              "      --fill-color: #1967D2;\n",
              "      --hover-bg-color: #E2EBFA;\n",
              "      --hover-fill-color: #174EA6;\n",
              "      --disabled-fill-color: #AAA;\n",
              "      --disabled-bg-color: #DDD;\n",
              "  }\n",
              "\n",
              "  [theme=dark] .colab-df-quickchart {\n",
              "      --bg-color: #3B4455;\n",
              "      --fill-color: #D2E3FC;\n",
              "      --hover-bg-color: #434B5C;\n",
              "      --hover-fill-color: #FFFFFF;\n",
              "      --disabled-bg-color: #3B4455;\n",
              "      --disabled-fill-color: #666;\n",
              "  }\n",
              "\n",
              "  .colab-df-quickchart {\n",
              "    background-color: var(--bg-color);\n",
              "    border: none;\n",
              "    border-radius: 50%;\n",
              "    cursor: pointer;\n",
              "    display: none;\n",
              "    fill: var(--fill-color);\n",
              "    height: 32px;\n",
              "    padding: 0;\n",
              "    width: 32px;\n",
              "  }\n",
              "\n",
              "  .colab-df-quickchart:hover {\n",
              "    background-color: var(--hover-bg-color);\n",
              "    box-shadow: 0 1px 2px rgba(60, 64, 67, 0.3), 0 1px 3px 1px rgba(60, 64, 67, 0.15);\n",
              "    fill: var(--button-hover-fill-color);\n",
              "  }\n",
              "\n",
              "  .colab-df-quickchart-complete:disabled,\n",
              "  .colab-df-quickchart-complete:disabled:hover {\n",
              "    background-color: var(--disabled-bg-color);\n",
              "    fill: var(--disabled-fill-color);\n",
              "    box-shadow: none;\n",
              "  }\n",
              "\n",
              "  .colab-df-spinner {\n",
              "    border: 2px solid var(--fill-color);\n",
              "    border-color: transparent;\n",
              "    border-bottom-color: var(--fill-color);\n",
              "    animation:\n",
              "      spin 1s steps(1) infinite;\n",
              "  }\n",
              "\n",
              "  @keyframes spin {\n",
              "    0% {\n",
              "      border-color: transparent;\n",
              "      border-bottom-color: var(--fill-color);\n",
              "      border-left-color: var(--fill-color);\n",
              "    }\n",
              "    20% {\n",
              "      border-color: transparent;\n",
              "      border-left-color: var(--fill-color);\n",
              "      border-top-color: var(--fill-color);\n",
              "    }\n",
              "    30% {\n",
              "      border-color: transparent;\n",
              "      border-left-color: var(--fill-color);\n",
              "      border-top-color: var(--fill-color);\n",
              "      border-right-color: var(--fill-color);\n",
              "    }\n",
              "    40% {\n",
              "      border-color: transparent;\n",
              "      border-right-color: var(--fill-color);\n",
              "      border-top-color: var(--fill-color);\n",
              "    }\n",
              "    60% {\n",
              "      border-color: transparent;\n",
              "      border-right-color: var(--fill-color);\n",
              "    }\n",
              "    80% {\n",
              "      border-color: transparent;\n",
              "      border-right-color: var(--fill-color);\n",
              "      border-bottom-color: var(--fill-color);\n",
              "    }\n",
              "    90% {\n",
              "      border-color: transparent;\n",
              "      border-bottom-color: var(--fill-color);\n",
              "    }\n",
              "  }\n",
              "</style>\n",
              "\n",
              "  <script>\n",
              "    async function quickchart(key) {\n",
              "      const quickchartButtonEl =\n",
              "        document.querySelector('#' + key + ' button');\n",
              "      quickchartButtonEl.disabled = true;  // To prevent multiple clicks.\n",
              "      quickchartButtonEl.classList.add('colab-df-spinner');\n",
              "      try {\n",
              "        const charts = await google.colab.kernel.invokeFunction(\n",
              "            'suggestCharts', [key], {});\n",
              "      } catch (error) {\n",
              "        console.error('Error during call to suggestCharts:', error);\n",
              "      }\n",
              "      quickchartButtonEl.classList.remove('colab-df-spinner');\n",
              "      quickchartButtonEl.classList.add('colab-df-quickchart-complete');\n",
              "    }\n",
              "    (() => {\n",
              "      let quickchartButtonEl =\n",
              "        document.querySelector('#df-d38d887f-dd55-4a09-9866-1fdb1fa4912d button');\n",
              "      quickchartButtonEl.style.display =\n",
              "        google.colab.kernel.accessAllowed ? 'block' : 'none';\n",
              "    })();\n",
              "  </script>\n",
              "</div>\n",
              "    </div>\n",
              "  </div>\n"
            ],
            "application/vnd.google.colaboratory.intrinsic+json": {
              "type": "dataframe",
              "variable_name": "customer",
              "summary": "{\n  \"name\": \"customer\",\n  \"rows\": 4739,\n  \"fields\": [\n    {\n      \"column\": \"CustomerNo\",\n      \"properties\": {\n        \"dtype\": \"number\",\n        \"std\": 1742.0448844505743,\n        \"min\": 12004.0,\n        \"max\": 18287.0,\n        \"num_unique_values\": 4738,\n        \"samples\": [\n          15587.0,\n          16987.0,\n          12697.0\n        ],\n        \"semantic_type\": \"\",\n        \"description\": \"\"\n      }\n    },\n    {\n      \"column\": \"Country\",\n      \"properties\": {\n        \"dtype\": \"category\",\n        \"num_unique_values\": 38,\n        \"samples\": [\n          \"Bahrain\",\n          \"Lebanon\",\n          \"France\"\n        ],\n        \"semantic_type\": \"\",\n        \"description\": \"\"\n      }\n    },\n    {\n      \"column\": \"Name\",\n      \"properties\": {\n        \"dtype\": \"string\",\n        \"num_unique_values\": 4599,\n        \"samples\": [\n          \"Heather Davis\",\n          \"Mr. Fred Nelson DDS\",\n          \"Roger Cooke\"\n        ],\n        \"semantic_type\": \"\",\n        \"description\": \"\"\n      }\n    }\n  ]\n}"
            }
          },
          "metadata": {},
          "execution_count": 65
        }
      ]
    },
    {
      "cell_type": "markdown",
      "source": [
        "## Save to Parquet files"
      ],
      "metadata": {
        "id": "w0NtRZpHBY-t"
      }
    },
    {
      "cell_type": "code",
      "source": [
        "df.to_parquet(\".parquet\", index=False)\n"
      ],
      "metadata": {
        "id": "r8hHCx8a_bO2"
      },
      "execution_count": null,
      "outputs": []
    }
  ]
}