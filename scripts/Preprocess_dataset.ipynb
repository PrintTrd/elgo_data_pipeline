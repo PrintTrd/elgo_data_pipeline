{
  "nbformat": 4,
  "nbformat_minor": 0,
  "metadata": {
    "colab": {
      "provenance": [],
      "include_colab_link": true
    },
    "kernelspec": {
      "name": "python3",
      "display_name": "Python 3"
    },
    "language_info": {
      "name": "python"
    }
  },
  "cells": [
    {
      "cell_type": "markdown",
      "metadata": {
        "id": "view-in-github",
        "colab_type": "text"
      },
      "source": [
        "<a href=\"https://colab.research.google.com/github/PrintTrd/elgo_data_pipeline/blob/main/scripts/Preprocess_dataset.ipynb\" target=\"_parent\"><img src=\"https://colab.research.google.com/assets/colab-badge.svg\" alt=\"Open In Colab\"/></a>"
      ]
    },
    {
      "cell_type": "markdown",
      "source": [
        "# Sales Dataset Processing\n",
        "\n",
        "ข้อมูล Business Sales Dataset ที่ได้มาจากคนรู้จักนั้น มีทั้งหมด 14 tables ซึ่งมาจาก database ที่ยังไม่นิ่ง ไม่ได้ผ่านการออกแบบมาดี มีความซ้ำซ้อนอยู่มาก และรับข้อมูลมาจากหลายช่องทางการขาย/platform รวมกัน หลังจากดูข้อมูลคร่าว ๆ ก็ได้ไปคุยกับเจ้าของข้อมูลเพื่อทำความเข้าใจมากขึ้น\n",
        "\n",
        "## Data integration\n",
        "เนื่องจากมีความซ้ำซ้อนอยู่มากจึงต้อง normalize ข้อมูล โดยเริ่มจากการไปช่วยออกแบบ ER diagrams ให้ใหม่ก่อน เพื่อวางแผนหน้าตาโครงสร้างข้อมูลใหม่ที่เราควรจะแปลงไปด้วย\n",
        "\n",
        "หลังจากออกแบบใหม่ก็จะเลือกตัดส่วนที่ดูไม่เกี่ยวข้องกับการขายออกไปบางส่วน เช่น table inventory_input ที่เกี่ยวข้องกับการจัดการ stock สินค้า เพื่อนำมาใช้กับโปรเจคนี้ และข้อมูลบางส่วนก็จะไม่ได้ normalize จนเป็นหน่วยเล็กที่สุด ออกแบบจนได้ ER diagram เป้าหมายออกมาดังภาพ\n",
        "\n",
        "![](https://drive.google.com/uc?export=view&id=15IVQGpYuX6pkeUbAQVbwUNkN5HxD7I5E)\n",
        "จากภาพ บางคอลัมน์ที่ยังไม่มีการเก็บข้อมูลเพิ่มเข้ามาก็จะข้ามไปก่อน"
      ],
      "metadata": {
        "id": "w4YtNpPZjr9A"
      }
    },
    {
      "cell_type": "markdown",
      "source": [
        "## Data Integration Plan Steps\n",
        "\n",
        "1. Extract and rename tables\n",
        "\n",
        "2. Transform - Schema/Value Integration <br>\n",
        "- Rename columns\n",
        "- Change format and add day\n",
        "- รวม data\n",
        "- แยก data\n",
        "- สร้าง fake values\n",
        "- สรุปผลข้อมูล\n",
        "- Check Value\n",
        "\n",
        "3.   Load - Insert data into MySQL Database\n",
        "     - อ่าน Secrets ของ Colab (เก็บลง class Config)\n",
        "     - ใช้ Sqlalchemy เชื่อมต่อไปที่ MySQL\n",
        "     - สร้าง Schema (database)\n",
        "     - Insert ข้อมูลลงใน tables\n",
        "\n",
        "4.   Query ข้อมูลใน table และเซฟ output\n",
        "     - Query ข้อมูลด้วย Pandas\n",
        "     - Output ไฟล์เป็น parquet\n",
        "\n",
        "5.   ทดลองอ่านไฟล์ parquet เพื่อตรวจสอบ\n",
        "\n"
      ],
      "metadata": {
        "id": "TNbePzQLMeu_"
      }
    },
    {
      "cell_type": "markdown",
      "source": [
        "# Step 1) Download and extract"
      ],
      "metadata": {
        "id": "tVPwk2dokTyj"
      }
    },
    {
      "cell_type": "markdown",
      "source": [
        "##  Rename tables\n",
        "- Geocoding -> address\n",
        "-  item_inventory -> inventory\n",
        "- product_code -> product\n",
        "- color_code -> color\n",
        "- material_code -> material\n",
        "- size_code -> size"
      ],
      "metadata": {
        "id": "XHjaTVauOusx"
      }
    },
    {
      "cell_type": "markdown",
      "source": [
        "โหลดไฟล์ข้อมูล csv มาใส่ Notebook จากนั้นย้ายที่เก็บ และเปลี่ยนชื่อใหม่"
      ],
      "metadata": {
        "id": "HmgWqAtPQLHf"
      }
    },
    {
      "cell_type": "code",
      "source": [
        "!mv 'elgo_source_database - sale_order.csv' sale_order.csv\n",
        "!mv 'elgo_source_database - cn_order.csv' canceled_order.csv\n",
        "!mv 'elgo_source_database - inventory_output.csv' order_item.csv\n",
        "!mv 'elgo_source_database - cn_item.csv' canceled_item.csv\n",
        "\n",
        "!mv 'elgo_source_database - awb_info.csv' waybill.csv\n",
        "!mv 'elgo_source_database - Geocoding.csv' address.csv\n",
        "!mv 'elgo_source_database - customer_code.csv' customer_code.csv\n",
        "\n",
        "!mv 'elgo_source_database - item_inventory.csv' inventory.csv\n",
        "!mv 'elgo_source_database - product_code.csv' product_code.csv\n",
        "!mv 'elgo_source_database - color_code.csv' color_code.csv\n",
        "!mv 'elgo_source_database - material_code.csv' material_code.csv\n",
        "!mv 'elgo_source_database - size_code.csv' size_code.csv\n",
        "!mv 'elgo_source_database - Price.csv' price.csv"
      ],
      "metadata": {
        "id": "lMkd8tcukZzT"
      },
      "execution_count": 1,
      "outputs": []
    },
    {
      "cell_type": "markdown",
      "source": [
        "## Read CSV"
      ],
      "metadata": {
        "id": "QG4ob5d8Ptwg"
      }
    },
    {
      "cell_type": "markdown",
      "source": [
        "สร้าง Dataframes"
      ],
      "metadata": {
        "id": "PG1pbwBfQU7d"
      }
    },
    {
      "cell_type": "code",
      "source": [
        "import polars as pl\n",
        "dataframes = {}\n",
        "csv_list = [\"sale_order\", \"canceled_order\", \"order_item\", \"canceled_item\", \"waybill\", \"address\", \"customer_code\", \"inventory\", \"product_code\", \"color_code\", \"material_code\", \"size_code\", \"price\"]\n",
        "for file_name in csv_list:\n",
        "  dataframes[f'{file_name}'] = pl.read_csv(f'{file_name}.csv', has_header=True, infer_schema_length=10000, null_values=[\"COMPUTED_VALUE\"])\n"
      ],
      "metadata": {
        "id": "TYLZ8VLwrlkd",
        "collapsed": true
      },
      "execution_count": 6,
      "outputs": []
    },
    {
      "cell_type": "code",
      "source": [
        "dataframes"
      ],
      "metadata": {
        "colab": {
          "base_uri": "https://localhost:8080/"
        },
        "id": "LBy768wfbYD-",
        "outputId": "2e923840-0083-4274-8e88-512395a0c0d5",
        "collapsed": true
      },
      "execution_count": 19,
      "outputs": [
        {
          "output_type": "execute_result",
          "data": {
            "text/plain": [
              "{'sale_order': shape: (1_468, 18)\n",
              " ┌──────────┬────────────┬────────────┬────────────┬───┬───────────┬───────────┬───────────┬────────┐\n",
              " │ order_id ┆ updated_at ┆ created_at ┆ invoice_nu ┆ … ┆ customer  ┆ customer  ┆ shiping_s ┆ status │\n",
              " │ ---      ┆ ---        ┆ ---        ┆ mber       ┆   ┆ tel       ┆ email     ┆ tatus     ┆ ---    │\n",
              " │ str      ┆ str        ┆ str        ┆ ---        ┆   ┆ ---       ┆ ---       ┆ ---       ┆ str    │\n",
              " │          ┆            ┆            ┆ str        ┆   ┆ str       ┆ str       ┆ str       ┆        │\n",
              " ╞══════════╪════════════╪════════════╪════════════╪═══╪═══════════╪═══════════╪═══════════╪════════╡\n",
              " │ 65272231 ┆ 6/17/2023  ┆ 6/17/2023  ┆ IV2306A001 ┆ … ┆ null      ┆ null      ┆ done      ┆ null   │\n",
              " │          ┆ 15:36:55   ┆ 15:36:55   ┆ 6          ┆   ┆           ┆           ┆           ┆        │\n",
              " │ 574db9e2 ┆ 6/17/2023  ┆ 6/17/2023  ┆ IV2306A001 ┆ … ┆ null      ┆ null      ┆ done      ┆ null   │\n",
              " │          ┆ 16:31:53   ┆ 16:31:53   ┆ 7          ┆   ┆           ┆           ┆           ┆        │\n",
              " │ 547d27f1 ┆ 6/17/2023  ┆ 6/17/2023  ┆ IV2306A002 ┆ … ┆ null      ┆ null      ┆ done      ┆ null   │\n",
              " │          ┆ 16:36:52   ┆ 16:36:52   ┆ 1          ┆   ┆           ┆           ┆           ┆        │\n",
              " │ 79d68bd1 ┆ 6/18/2023  ┆ 6/18/2023  ┆ IV2306A002 ┆ … ┆ null      ┆ null      ┆ done      ┆ null   │\n",
              " │          ┆ 14:09:00   ┆ 14:09:00   ┆ 2          ┆   ┆           ┆           ┆           ┆        │\n",
              " │ …        ┆ …          ┆ …          ┆ …          ┆ … ┆ …         ┆ …         ┆ …         ┆ …      │\n",
              " │ 59c79e22 ┆ 08/08/2024 ┆ 08/08/2024 ┆ IV2408A002 ┆ … ┆ 669619644 ┆ null      ┆ shipping  ┆ null   │\n",
              " │          ┆ 08:47:30   ┆ 08:46:15   ┆ 8          ┆   ┆ 56        ┆           ┆           ┆        │\n",
              " │ 1289dbbc ┆ 08/08/2024 ┆ 08/08/2024 ┆ IV2408A002 ┆ … ┆ 668189148 ┆ null      ┆ shipping  ┆ null   │\n",
              " │          ┆ 08:52:17   ┆ 08:50:51   ┆ 9          ┆   ┆ 69        ┆           ┆           ┆        │\n",
              " │ 84b26708 ┆ 08/08/2024 ┆ 08/08/2024 ┆ IV2408A003 ┆ … ┆ 668967878 ┆ null      ┆ shipping  ┆ null   │\n",
              " │          ┆ 14:15:24   ┆ 14:14:18   ┆ 0          ┆   ┆ 66        ┆           ┆           ┆        │\n",
              " │ 5018ef6b ┆ 08/08/2024 ┆ 08/08/2024 ┆ IV2408A003 ┆ … ┆ 669562659 ┆ null      ┆ shipping  ┆ null   │\n",
              " │          ┆ 14:47:32   ┆ 14:46:31   ┆ 1          ┆   ┆ 68        ┆           ┆           ┆        │\n",
              " └──────────┴────────────┴────────────┴────────────┴───┴───────────┴───────────┴───────────┴────────┘,\n",
              " 'canceled_order': shape: (20, 17)\n",
              " ┌───────────┬────────────┬────────────┬──────────┬───┬────────────┬───────────┬───────────┬────────┐\n",
              " │ cancel_id ┆ updated_at ┆ created_at ┆ order_id ┆ … ┆ shipping   ┆ customer  ┆ cancel_re ┆ status │\n",
              " │ ---       ┆ ---        ┆ ---        ┆ ---      ┆   ┆ address    ┆ tel       ┆ ason      ┆ ---    │\n",
              " │ str       ┆ str        ┆ str        ┆ str      ┆   ┆ ---        ┆ ---       ┆ ---       ┆ str    │\n",
              " │           ┆            ┆            ┆          ┆   ┆ str        ┆ i64       ┆ str       ┆        │\n",
              " ╞═══════════╪════════════╪════════════╪══════════╪═══╪════════════╪═══════════╪═══════════╪════════╡\n",
              " │ null      ┆ null       ┆ null       ┆ null     ┆ … ┆ null       ┆ null      ┆ null      ┆ null   │\n",
              " │ null      ┆ null       ┆ null       ┆ null     ┆ … ┆ null       ┆ null      ┆ null      ┆ null   │\n",
              " │ 93339d0c  ┆ 01/03/2024 ┆ 01/03/2024 ┆ ee066971 ┆ … ┆ null       ┆ 923750555 ┆ ออกบิลใหม่เ ┆ null   │\n",
              " │           ┆ 00:00:00   ┆            ┆          ┆   ┆            ┆           ┆ นื่องจากปิดร ┆        │\n",
              " │           ┆            ┆            ┆          ┆   ┆            ┆           ┆ อบบิลแล้ว   ┆        │\n",
              " │ 77f53cb8  ┆ 29/02/2024 ┆ 03/03/2024 ┆ 094636c1 ┆ … ┆ 11 kasem   ┆ 669677557 ┆ เบอร์ผิด    ┆ null   │\n",
              " │           ┆ 00:00:00   ┆            ┆          ┆   ┆ samran soi ┆ 27        ┆           ┆        │\n",
              " │           ┆            ┆            ┆          ┆   ┆ 4 watthana ┆           ┆           ┆        │\n",
              " │           ┆            ┆            ┆          ┆   ┆ p…         ┆           ┆           ┆        │\n",
              " │ …         ┆ …          ┆ …          ┆ …        ┆ … ┆ …          ┆ …         ┆ …         ┆ …      │\n",
              " │ 0b801279  ┆ 13/06/2024 ┆ 13/06/2024 ┆ 6a686ca3 ┆ … ┆ 191 หมู่4    ┆ 668139366 ┆ พ่อเป็นมะเร็ ┆ null   │\n",
              " │           ┆ 00:00:00   ┆            ┆          ┆   ┆ ต.เช้ือเพลิง  ┆ 43        ┆ งตับ ไม่ต้อง ┆        │\n",
              " │           ┆            ┆            ┆          ┆   ┆ (เย้ืองมห…   ┆           ┆ ใช้แล้ว     ┆        │\n",
              " │ 01c667d3  ┆ 13/06/2024 ┆ 13/06/2024 ┆ aa68c2ff ┆ … ┆ 290        ┆ null      ┆ ดึกแล้วรับขอ ┆ null   │\n",
              " │           ┆ 00:00:00   ┆            ┆          ┆   ┆ ซ.สิรินธร 2  ┆           ┆ งพรุ่งนี่     ┆        │\n",
              " │           ┆            ┆            ┆          ┆   ┆ (แยก11)    ┆           ┆           ┆        │\n",
              " │           ┆            ┆            ┆          ┆   ┆ ถ.สิรินธ…    ┆           ┆           ┆        │\n",
              " │ 5c06532b  ┆ 09/07/2024 ┆ 09/07/2024 ┆ d2e618a8 ┆ … ┆ 33 ซ.      ┆ 669792495 ┆ จัดส่งไม่สำเ ┆ null   │\n",
              " │           ┆ 00:00:00   ┆            ┆          ┆   ┆ สุขุมวิท 3    ┆ 95        ┆ ร็จ        ┆        │\n",
              " │           ┆            ┆            ┆          ┆   ┆ แขวงคลองเต ┆           ┆           ┆        │\n",
              " │           ┆            ┆            ┆          ┆   ┆ ยเหนื…      ┆           ┆           ┆        │\n",
              " │ 93af7caa  ┆ 07/08/2024 ┆ 07/08/2024 ┆ 78742cf8 ┆ … ┆ เลขที่       ┆ 668590815 ┆ ผู้ป่วยเข้า   ┆ null   │\n",
              " │           ┆ 00:00:00   ┆            ┆          ┆   ┆ 178/87,    ┆ 82        ┆ รพ        ┆        │\n",
              " │           ┆            ┆            ┆          ┆   ┆ เลคไซร์     ┆           ┆ กระทันหัน   ┆        │\n",
              " │           ┆            ┆            ┆          ┆   ┆ เลน4 สนาม… ┆           ┆           ┆        │\n",
              " └───────────┴────────────┴────────────┴──────────┴───┴────────────┴───────────┴───────────┴────────┘,\n",
              " 'order_item': shape: (1_789, 15)\n",
              " ┌──────────┬─────────────┬──────────┬────────────┬───┬────────────┬──────────┬────────────┬────────┐\n",
              " │ id       ┆ sell out    ┆ order id ┆ master     ┆ … ┆ quantity   ┆ quantity ┆ price per  ┆ total  │\n",
              " │ ---      ┆ date        ┆ ---      ┆ product    ┆   ┆ (pack)     ┆ ---      ┆ pack (ex   ┆ amount │\n",
              " │ str      ┆ ---         ┆ str      ┆ code       ┆   ┆ ---        ┆ i64      ┆ vat)       ┆ ---    │\n",
              " │          ┆ str         ┆          ┆ ---        ┆   ┆ i64        ┆          ┆ ---        ┆ f64    │\n",
              " │          ┆             ┆          ┆ str        ┆   ┆            ┆          ┆ f64        ┆        │\n",
              " ╞══════════╪═════════════╪══════════╪════════════╪═══╪════════════╪══════════╪════════════╪════════╡\n",
              " │ 70427678 ┆ 6/17/2023   ┆ 65272231 ┆ EP-012-F-0 ┆ … ┆ 2          ┆ 2        ┆ 1028.03738 ┆ 2200.0 │\n",
              " │          ┆ 15:36:55    ┆          ┆ 1-A007     ┆   ┆            ┆          ┆ 3          ┆        │\n",
              " │ 9c69cd6d ┆ 6/17/2023   ┆ 65272231 ┆ EP-011-F-0 ┆ … ┆ 2          ┆ 2        ┆ 822.429907 ┆ 1760.0 │\n",
              " │          ┆ 15:44:40    ┆          ┆ 1-A002     ┆   ┆            ┆          ┆            ┆        │\n",
              " │ 3082b336 ┆ 6/17/2023   ┆ 574db9e2 ┆ EP-006-M-0 ┆ … ┆ 1          ┆ 1        ┆ 0.0        ┆ 0.0    │\n",
              " │          ┆ 16:31:53    ┆          ┆ 2-A001     ┆   ┆            ┆          ┆            ┆        │\n",
              " │ d56b8678 ┆ 6/17/2023   ┆ 574db9e2 ┆ EP-021-F-0 ┆ … ┆ 1          ┆ 1        ┆ 0.0        ┆ 0.0    │\n",
              " │          ┆ 16:36:05    ┆          ┆ 1-A020     ┆   ┆            ┆          ┆            ┆        │\n",
              " │ …        ┆ …           ┆ …        ┆ …          ┆ … ┆ …          ┆ …        ┆ …          ┆ …      │\n",
              " │ 96db5d43 ┆ 08/08/2024  ┆ 59c79e22 ┆ EP-011-F-0 ┆ … ┆ 1          ┆ null     ┆ 822.429907 ┆ 880.0  │\n",
              " │          ┆ 08:46:34    ┆          ┆ 1-A009     ┆   ┆            ┆          ┆            ┆        │\n",
              " │ 7f6face9 ┆ 08/08/2024  ┆ 1289dbbc ┆ EP-002-M-0 ┆ … ┆ 1          ┆ null     ┆ 1775.70093 ┆ 1900.0 │\n",
              " │          ┆ 08:51:19    ┆          ┆ 2-A008     ┆   ┆            ┆          ┆ 5          ┆        │\n",
              " │ 4c6a1497 ┆ 08/08/2024  ┆ 84b26708 ┆ EP-002-L-0 ┆ … ┆ 1          ┆ null     ┆ 2056.07476 ┆ 2200.0 │\n",
              " │          ┆ 14:14:32    ┆          ┆ 2-A005     ┆   ┆            ┆          ┆ 6          ┆        │\n",
              " │ f5b77906 ┆ 08/08/2024  ┆ 5018ef6b ┆ EP-011-F-0 ┆ … ┆ 1          ┆ null     ┆ 822.429907 ┆ 880.0  │\n",
              " │          ┆ 14:46:48    ┆          ┆ 1-A009     ┆   ┆            ┆          ┆            ┆        │\n",
              " └──────────┴─────────────┴──────────┴────────────┴───┴────────────┴──────────┴────────────┴────────┘,\n",
              " 'canceled_item': shape: (18, 11)\n",
              " ┌──────────┬──────────┬────────────┬────────────┬───┬────────────┬────────────┬───────────┬────────┐\n",
              " │ id       ┆ cn id    ┆ readable   ┆ master     ┆ … ┆ price per  ┆ pcs per    ┆ quantity  ┆ total  │\n",
              " │ ---      ┆ ---      ┆ name       ┆ product    ┆   ┆ pack       ┆ pack       ┆ (pack)    ┆ amount │\n",
              " │ str      ┆ str      ┆ ---        ┆ code       ┆   ┆ ---        ┆ ---        ┆ ---       ┆ ---    │\n",
              " │          ┆          ┆ str        ┆ ---        ┆   ┆ i64        ┆ i64        ┆ i64       ┆ i64    │\n",
              " │          ┆          ┆            ┆ str        ┆   ┆            ┆            ┆           ┆        │\n",
              " ╞══════════╪══════════╪════════════╪════════════╪═══╪════════════╪════════════╪═══════════╪════════╡\n",
              " │ 1dcc08c8 ┆ 93339d0c ┆ 7f75f77c   ┆ EP-004-L-0 ┆ … ┆ 2500       ┆ 1          ┆ 1         ┆ 2500   │\n",
              " │          ┆          ┆            ┆ 1-A000     ┆   ┆            ┆            ┆           ┆        │\n",
              " │ 03563dac ┆ 77f53cb8 ┆ f2f05ac4   ┆ EP-011-F-0 ┆ … ┆ 880        ┆ 2          ┆ 1         ┆ 880    │\n",
              " │          ┆          ┆            ┆ 1-A021     ┆   ┆            ┆            ┆           ┆        │\n",
              " │ cbd09247 ┆ 5a03509a ┆ 45e38e8e   ┆ EP-011-F-0 ┆ … ┆ 880        ┆ 2          ┆ 1         ┆ 880    │\n",
              " │          ┆          ┆            ┆ 1-A021     ┆   ┆            ┆            ┆           ┆        │\n",
              " │ f5944f71 ┆ 9a0e9066 ┆ a67ba987   ┆ EP-011-F-0 ┆ … ┆ 460        ┆ 1          ┆ 1         ┆ 460    │\n",
              " │          ┆          ┆            ┆ 1-A009     ┆   ┆            ┆            ┆           ┆        │\n",
              " │ …        ┆ …        ┆ …          ┆ …          ┆ … ┆ …          ┆ …          ┆ …         ┆ …      │\n",
              " │ 573d2494 ┆ 0b801279 ┆ 668ac5af   ┆ EP-002-M-0 ┆ … ┆ 1900       ┆ 1          ┆ 1         ┆ 1900   │\n",
              " │          ┆          ┆            ┆ 2-A007     ┆   ┆            ┆            ┆           ┆        │\n",
              " │ e60c0450 ┆ 01c667d3 ┆ 7bff4f4c   ┆ EP-002-L-0 ┆ … ┆ 2200       ┆ 1          ┆ 1         ┆ 2200   │\n",
              " │          ┆          ┆            ┆ 2-A007     ┆   ┆            ┆            ┆           ┆        │\n",
              " │ 96d5eae9 ┆ 5c06532b ┆ 4671c126   ┆ EP-011-F-0 ┆ … ┆ 880        ┆ 2          ┆ 1         ┆ 880    │\n",
              " │          ┆          ┆            ┆ 1-A009     ┆   ┆            ┆            ┆           ┆        │\n",
              " │ e9ead425 ┆ 93af7caa ┆ d2d2c975   ┆ EP-001-L-0 ┆ … ┆ 1700       ┆ 1          ┆ 1         ┆ 1700   │\n",
              " │          ┆          ┆            ┆ 1-A023     ┆   ┆            ┆            ┆           ┆        │\n",
              " └──────────┴──────────┴────────────┴────────────┴───┴────────────┴────────────┴───────────┴────────┘,\n",
              " 'waybill': shape: (1_539, 15)\n",
              " ┌────────────┬────────────┬───────┬──────────┬───┬────────────┬────────────┬───────────┬───────────┐\n",
              " │ ordernumbe ┆ file       ┆ image ┆ platform ┆ … ┆ tracking_n ┆ invoice_nu ┆ awb_forma ┆ sales_cha │\n",
              " │ r          ┆ ---        ┆ ---   ┆ ---      ┆   ┆ umber      ┆ mber       ┆ t         ┆ nnel_id   │\n",
              " │ ---        ┆ str        ┆ str   ┆ str      ┆   ┆ ---        ┆ ---        ┆ ---       ┆ ---       │\n",
              " │ str        ┆            ┆       ┆          ┆   ┆ str        ┆ str        ┆ str       ┆ i64       │\n",
              " ╞════════════╪════════════╪═══════╪══════════╪═══╪════════════╪════════════╪═══════════╪═══════════╡\n",
              " │ 2305291NYQ ┆ D:\\dump_aw ┆ null  ┆ Shopee   ┆ … ┆ null       ┆ null       ┆ null      ┆ null      │\n",
              " │ K9P2       ┆ b\\0079a6b9 ┆       ┆          ┆   ┆            ┆            ┆           ┆           │\n",
              " │            ┆ -ca7f-4009 ┆       ┆          ┆   ┆            ┆            ┆           ┆           │\n",
              " │            ┆ -a…        ┆       ┆          ┆   ┆            ┆            ┆           ┆           │\n",
              " │ 221119FDQB ┆ D:\\dump_aw ┆ null  ┆ Shopee   ┆ … ┆ null       ┆ null       ┆ null      ┆ null      │\n",
              " │ 84GV       ┆ b\\00f751da ┆       ┆          ┆   ┆            ┆            ┆           ┆           │\n",
              " │            ┆ -83e3-41f5 ┆       ┆          ┆   ┆            ┆            ┆           ┆           │\n",
              " │            ┆ -9…        ┆       ┆          ┆   ┆            ┆            ┆           ┆           │\n",
              " │ 2301259TAW ┆ D:\\dump_aw ┆ null  ┆ Shopee   ┆ … ┆ null       ┆ null       ┆ null      ┆ null      │\n",
              " │ BN1C       ┆ b\\013b9add ┆       ┆          ┆   ┆            ┆            ┆           ┆           │\n",
              " │            ┆ -88bd-4778 ┆       ┆          ┆   ┆            ┆            ┆           ┆           │\n",
              " │            ┆ -b…        ┆       ┆          ┆   ┆            ┆            ┆           ┆           │\n",
              " │ 2312242V37 ┆ D:\\dump_aw ┆ null  ┆ Shopee   ┆ … ┆ null       ┆ null       ┆ null      ┆ null      │\n",
              " │ WRK1       ┆ b\\018eac0a ┆       ┆          ┆   ┆            ┆            ┆           ┆           │\n",
              " │            ┆ -41c0-4fbb ┆       ┆          ┆   ┆            ┆            ┆           ┆           │\n",
              " │            ┆ -8…        ┆       ┆          ┆   ┆            ┆            ┆           ┆           │\n",
              " │ …          ┆ …          ┆ …     ┆ …        ┆ … ┆ …          ┆ …          ┆ …         ┆ …         │\n",
              " │ 240808NT52 ┆ IV2408A002 ┆ null  ┆ Shopee   ┆ … ┆ EB64559166 ┆ IV2408A002 ┆ Shopee    ┆ 5         │\n",
              " │ GMWC       ┆ 9-SH.pdf   ┆       ┆          ┆   ┆ 1TH        ┆ 9          ┆           ┆           │\n",
              " │ 240808PY83 ┆ IV2408A003 ┆ null  ┆ Shopee   ┆ … ┆ EB64583005 ┆ IV2408A003 ┆ Shopee    ┆ 5         │\n",
              " │ BY8V       ┆ 0-SH.pdf   ┆       ┆          ┆   ┆ 2TH        ┆ 0          ┆           ┆           │\n",
              " │ 240808Q990 ┆ IV2408A003 ┆ null  ┆ Shopee   ┆ … ┆ EB64590349 ┆ IV2408A003 ┆ Shopee    ┆ 5         │\n",
              " │ HVR1       ┆ 1-SH.pdf   ┆       ┆          ┆   ┆ 7TH        ┆ 1          ┆           ┆           │\n",
              " │ SM00000001 ┆ EV2408A000 ┆ null  ┆ line oa  ┆ … ┆ EB04577980 ┆ EV2408A000 ┆ Goship    ┆ 3         │\n",
              " │ 80         ┆ 4-GS.pdf   ┆       ┆          ┆   ┆ 2TH        ┆ 4          ┆           ┆           │\n",
              " └────────────┴────────────┴───────┴──────────┴───┴────────────┴────────────┴───────────┴───────────┘,\n",
              " 'address': shape: (50, 4)\n",
              " ┌─────────────────────────────────┬───────────┬────────────┬──────┐\n",
              " │ addresskey                      ┆ latitude  ┆ longitude  ┆ flag │\n",
              " │ ---                             ┆ ---       ┆ ---        ┆ ---  │\n",
              " │ str                             ┆ f64       ┆ f64        ┆ str  │\n",
              " ╞═════════════════════════════════╪═══════════╪════════════╪══════╡\n",
              " │ 127/83 ม.ศรีราชาแลนด์#1 ถ.สุขุมว…   ┆ 12.782018 ┆ 101.647231 ┆ null │\n",
              " │ บริษัท นาโน เบสท์ อินเตอร์เนชั่น…      ┆ 13.836925 ┆ 100.587453 ┆ null │\n",
              " │ 56/69ม6ซอย หนองใหญ่6/1 ต นาเกลือ… ┆ 12.948177 ┆ 100.911184 ┆ null │\n",
              " │ 11/2 ถนนสุขุมวิท ซอยสุขุมวิท 18,…     ┆ 13.739566 ┆ 100.556171 ┆ null │\n",
              " │ …                               ┆ …         ┆ …          ┆ …    │\n",
              " │ 4 พหลโยธิน 63 แยก 2 แขวงอนุสาวรี…  ┆ 13.886031 ┆ 100.597801 ┆ null │\n",
              " │ 222/315 ซอย 9 หมู่ 3 หมู่บ้านลุม…     ┆ 13.912735 ┆ 100.407969 ┆ null │\n",
              " │ 77/46 ม.4 ต.บา้นฉาง,บา้นฉาง/ Ban… ┆ 12.71111  ┆ 101.050057 ┆ null │\n",
              " │ เลขที่ 377 ถนนราษฎร์พัฒนา แขวงบา…   ┆ 13.677927 ┆ 100.502793 ┆ null │\n",
              " └─────────────────────────────────┴───────────┴────────────┴──────┘,\n",
              " 'customer_code': shape: (96, 14)\n",
              " ┌────────┬──────────┬────────┬──────────────┬───┬──────────┬──────────────┬──────────────┬─────────┐\n",
              " │ code   ┆ category ┆ number ┆ name         ┆ … ┆ contact  ┆ description  ┆ channel      ┆ require │\n",
              " │ ---    ┆ ---      ┆ ---    ┆ ---          ┆   ┆ person   ┆ ---          ┆ catagory     ┆ tax     │\n",
              " │ str    ┆ str      ┆ i64    ┆ str          ┆   ┆ ---      ┆ str          ┆ ---          ┆ ---     │\n",
              " │        ┆          ┆        ┆              ┆   ┆ str      ┆              ┆ str          ┆ bool    │\n",
              " ╞════════╪══════════╪════════╪══════════════╪═══╪══════════╪══════════════╪══════════════╪═════════╡\n",
              " │ A002   ┆ A        ┆ 2      ┆ บ.มหาชัยฟู๊ดส์   ┆ … ┆ null     ┆ ซื้อน้ำมัน palm  ┆ Food Factory ┆ true    │\n",
              " │        ┆          ┆        ┆ จก.          ┆   ┆          ┆ olein        ┆              ┆         │\n",
              " │ A015   ┆ A        ┆ 15     ┆ บริษัท เจดีฟู้ด   ┆ … ┆ null     ┆ null         ┆ Food Factory ┆ true    │\n",
              " │        ┆          ┆        ┆ จำกัด(มหาชน)  ┆   ┆          ┆              ┆              ┆         │\n",
              " │ A016   ┆ A        ┆ 16     ┆ บริษัท เจดีฟู้ด   ┆ … ┆ null     ┆ null         ┆ Food Factory ┆ true    │\n",
              " │        ┆          ┆        ┆ จำกัด(มหาชน)  ┆   ┆          ┆              ┆              ┆         │\n",
              " │ A001   ┆ A        ┆ 1      ┆ บ.แอลไลด์เคมีเ ┆ … ┆ null     ┆ null         ┆ Food Factory ┆ true    │\n",
              " │        ┆          ┆        ┆ คิลอินเตอร์เนชั่น ┆   ┆          ┆              ┆              ┆         │\n",
              " │        ┆          ┆        ┆ แ…           ┆   ┆          ┆              ┆              ┆         │\n",
              " │ …      ┆ …        ┆ …      ┆ …            ┆ … ┆ …        ┆ …            ┆ …            ┆ …       │\n",
              " │ EH0092 ┆ EH       ┆ 90     ┆ หจก.พรรษาเวช ┆ … ┆ สุพรรษา   ┆ ขายต่อโรงพยาบ ┆ Medical Shop ┆ true    │\n",
              " │        ┆          ┆        ┆ ภัณฑ์          ┆   ┆ บำรุงวงค์  ┆ าล           ┆              ┆         │\n",
              " │ EH0093 ┆ EH       ┆ 91     ┆ บจ. ธนบุรี     ┆ … ┆ null     ┆ null         ┆ nursing home ┆ null    │\n",
              " │        ┆          ┆        ┆ เวลบีอิ้ง       ┆   ┆          ┆              ┆              ┆         │\n",
              " │ EH0094 ┆ EH       ┆ 92     ┆ บจ.สุขภาพดี-อา ┆ … ┆ K Nunat  ┆ null         ┆ Hospital     ┆ true    │\n",
              " │        ┆          ┆        ┆ ยุยืน การแพทย์  ┆   ┆          ┆              ┆              ┆         │\n",
              " │ EH0095 ┆ EH       ┆ 93     ┆ บจ.คลังสุขภาพ  ┆ … ┆ คุณ วุฒ    ┆ null         ┆ Medical Shop ┆ false   │\n",
              " │        ┆          ┆        ┆              ┆   ┆ ธนวิชชบูรณ์ ┆              ┆              ┆         │\n",
              " └────────┴──────────┴────────┴──────────────┴───┴──────────┴──────────────┴──────────────┴─────────┘,\n",
              " 'inventory': shape: (90, 21)\n",
              " ┌──────────────┬─────────┬──────────────┬─────────────┬───┬────────┬─────────┬─────────┬───────────┐\n",
              " │ Product Name ┆ Product ┆ Colour Name  ┆ Colour Code ┆ … ┆ TikTok ┆ Balance ┆ minimum ┆ status    │\n",
              " │ ---          ┆ Code    ┆ ---          ┆ ---         ┆   ┆ ---    ┆ ---     ┆ ---     ┆ ---       │\n",
              " │ str          ┆ ---     ┆ str          ┆ str         ┆   ┆ i64    ┆ i64     ┆ i64     ┆ str       │\n",
              " │              ┆ str     ┆              ┆             ┆   ┆        ┆         ┆         ┆           │\n",
              " ╞══════════════╪═════════╪══════════════╪═════════════╪═══╪════════╪═════════╪═════════╪═══════════╡\n",
              " │ Smart        ┆ EP-002  ┆ น้ำเงินกรมท่า   ┆ 02-A001     ┆ … ┆ 0      ┆ 0       ┆ 5       ┆ LOW STOCK │\n",
              " │ Smart        ┆ EP-002  ┆ น้ำเงินกรมท่า   ┆ 02-A001     ┆ … ┆ 0      ┆ 0       ┆ 5       ┆ LOW STOCK │\n",
              " │ Smart        ┆ EP-002  ┆ น้ำเงินแกมเงิน  ┆ 02-A002     ┆ … ┆ 1      ┆ -8      ┆ 5       ┆ LOW STOCK │\n",
              " │ Smart        ┆ EP-002  ┆ น้ำเงินแกมเงิน  ┆ 02-A002     ┆ … ┆ 3      ┆ -14     ┆ 5       ┆ LOW STOCK │\n",
              " │ …            ┆ …       ┆ …            ┆ …           ┆ … ┆ …      ┆ …       ┆ …       ┆ …         │\n",
              " │ ที่วางเท้ารถเข็น ┆ EP-027  ┆ เขียว         ┆ 02-A004     ┆ … ┆ 0      ┆ -1      ┆ 1       ┆ LOW STOCK │\n",
              " │ Papoose      ┆ EP-009  ┆ ไม่มีรหัสสี      ┆ 01-A000     ┆ … ┆ 0      ┆ 1       ┆ 1       ┆ LOW STOCK │\n",
              " │ Board        ┆         ┆              ┆             ┆   ┆        ┆         ┆         ┆           │\n",
              " │ ผ้ายกตัว ELGO  ┆ EP-001  ┆ เหลือง        ┆ 01-A024     ┆ … ┆ 0      ┆ 3       ┆ 1       ┆ OK        │\n",
              " │ SOFT         ┆         ┆              ┆             ┆   ┆        ┆         ┆         ┆           │\n",
              " │ ฟองน้ำผ้ายกต้ว  ┆ EP-025  ┆ ไม่มีรหัสสี      ┆ 01-A000     ┆ … ┆ 0      ┆ 1       ┆ 1       ┆ LOW STOCK │\n",
              " │ ELGO SOFT    ┆         ┆              ┆             ┆   ┆        ┆         ┆         ┆           │\n",
              " └──────────────┴─────────┴──────────────┴─────────────┴───┴────────┴─────────┴─────────┴───────────┘,\n",
              " 'product_code': shape: (22, 5)\n",
              " ┌────────┬────────────────────┬─────────────┬────────┬───────────────┐\n",
              " │ code   ┆ name               ┆ description ┆ status ┆ default price │\n",
              " │ ---    ┆ ---                ┆ ---         ┆ ---    ┆ ---           │\n",
              " │ str    ┆ str                ┆ str         ┆ i64    ┆ i64           │\n",
              " ╞════════╪════════════════════╪═════════════╪════════╪═══════════════╡\n",
              " │ EP-001 ┆ ผ้ายกตัว ELGO SOFT   ┆ null        ┆ 1      ┆ 0             │\n",
              " │ EP-002 ┆ ผ้ายกตัว ELGO SMART  ┆ null        ┆ 1      ┆ 0             │\n",
              " │ EP-006 ┆ เข็มขัดพยุงเดิน ELGO   ┆ null        ┆ 1      ┆ 0             │\n",
              " │ EP-021 ┆ เข็มขัดรัดกันตก ELGO   ┆ null        ┆ 1      ┆ 0             │\n",
              " │ …      ┆ …                  ┆ …           ┆ …      ┆ …             │\n",
              " │ EP-016 ┆ เข็มขัดพยุงเดินแบบมีเสื้อ ┆ null        ┆ 1      ┆ null          │\n",
              " │ EP-026 ┆ ที่รัดขาเข้ากับรถเข็น    ┆ null        ┆ 1      ┆ null          │\n",
              " │ EP-027 ┆ ที่วางเท้ารถเข็น       ┆ null        ┆ 1      ┆ null          │\n",
              " │ EP-009 ┆ Papoose Board      ┆ null        ┆ 1      ┆ null          │\n",
              " └────────┴────────────────────┴─────────────┴────────┴───────────────┘,\n",
              " 'color_code': shape: (33, 8)\n",
              " ┌─────────┬───────────────┬──────────┬──────────┬─────────┬───────────────┬────────┬───────────────┐\n",
              " │ code    ┆ name          ┆ material ┆ running  ┆ running ┆ description   ┆ status ┆ codename      │\n",
              " │ ---     ┆ ---           ┆ code     ┆ alphabet ┆ number  ┆ ---           ┆ ---    ┆ ---           │\n",
              " │ str     ┆ str           ┆ ---      ┆ ---      ┆ ---     ┆ str           ┆ i64    ┆ str           │\n",
              " │         ┆               ┆ i64      ┆ str      ┆ i64     ┆               ┆        ┆               │\n",
              " ╞═════════╪═══════════════╪══════════╪══════════╪═════════╪═══════════════╪════════╪═══════════════╡\n",
              " │ 02-A001 ┆ น้ำเงินกรมท่า    ┆ 2        ┆ A        ┆ 1       ┆ ผ้ากันน้ำ        ┆ 1      ┆ 02-A001-น้ำเงิน │\n",
              " │         ┆               ┆          ┆          ┆         ┆               ┆        ┆ กรมท่า         │\n",
              " │ 02-A002 ┆ น้ำเงินแกมเงิน   ┆ 2        ┆ A        ┆ 2       ┆ ผ้ากันน้ำ        ┆ 1      ┆ 02-A002-น้ำเงิน │\n",
              " │         ┆               ┆          ┆          ┆         ┆               ┆        ┆ แกมเงิน        │\n",
              " │ 02-A003 ┆ น้ำตาล         ┆ 2        ┆ A        ┆ 3       ┆ ผ้ากันน้ำ        ┆ 1      ┆ 02-A003-น้ำตาล │\n",
              " │ 02-A004 ┆ เขียว          ┆ 2        ┆ A        ┆ 4       ┆ ผ้ากันน้ำ        ┆ 1      ┆ 02-A004-เขียว  │\n",
              " │ …       ┆ …             ┆ …        ┆ …        ┆ …       ┆ …             ┆ …      ┆ …             │\n",
              " │ 01-A021 ┆ น้ำเงินจุดเขียวมิน ┆ 1        ┆ A        ┆ 21      ┆ null          ┆ null   ┆ 01-A021-น้ำเงิน │\n",
              " │         ┆ ต์             ┆          ┆          ┆         ┆               ┆        ┆ จุดเขียวมินต์     │\n",
              " │ 01-A022 ┆ แดง           ┆ 1        ┆ A        ┆ 22      ┆ null          ┆ null   ┆ 01-A022-แดง   │\n",
              " │ 01-A023 ┆ น้ำเงินปะ       ┆ 1        ┆ A        ┆ 23      ┆ null          ┆ null   ┆ 01-A023-น้ำเงิน │\n",
              " │         ┆               ┆          ┆          ┆         ┆               ┆        ┆ ปะ            │\n",
              " │ 01-A024 ┆ เหลือง         ┆ 1        ┆ A        ┆ 24      ┆ null          ┆ null   ┆ 01-A024-เหลือง │\n",
              " └─────────┴───────────────┴──────────┴──────────┴─────────┴───────────────┴────────┴───────────────┘,\n",
              " 'material_code': shape: (2, 4)\n",
              " ┌──────┬─────────┬─────────────┬────────┐\n",
              " │ code ┆ name    ┆ description ┆ status │\n",
              " │ ---  ┆ ---     ┆ ---         ┆ ---    │\n",
              " │ i64  ┆ str     ┆ str         ┆ i64    │\n",
              " ╞══════╪═════════╪═════════════╪════════╡\n",
              " │ 2    ┆ ผ้ากันน้ำ  ┆ null        ┆ 1      │\n",
              " │ 1    ┆ ผ้าเนื้อนิ่ม ┆ null        ┆ 1      │\n",
              " └──────┴─────────┴─────────────┴────────┘,\n",
              " 'size_code': shape: (7, 5)\n",
              " ┌──────┬──────┬─────────────┬───────────────┬────────┐\n",
              " │ code ┆ name ┆ description ┆ default price ┆ status │\n",
              " │ ---  ┆ ---  ┆ ---         ┆ ---           ┆ ---    │\n",
              " │ str  ┆ str  ┆ str         ┆ i64           ┆ bool   │\n",
              " ╞══════╪══════╪═════════════╪═══════════════╪════════╡\n",
              " │ S    ┆ S    ┆ small       ┆ 0             ┆ true   │\n",
              " │ M    ┆ M    ┆ medium      ┆ 0             ┆ true   │\n",
              " │ L    ┆ L    ┆ large       ┆ 0             ┆ true   │\n",
              " │ XL   ┆ XL   ┆ extra-large ┆ 0             ┆ true   │\n",
              " │ F    ┆ F    ┆ free-size   ┆ 0             ┆ true   │\n",
              " │ 5    ┆ 5pcs ┆ package 5   ┆ 0             ┆ true   │\n",
              " │ 3    ┆ 3pcs ┆ package 3   ┆ 0             ┆ true   │\n",
              " └──────┴──────┴─────────────┴───────────────┴────────┘,\n",
              " 'price': shape: (4, 6)\n",
              " ┌──────────────┬──────────────┬───────────┬────────────────┬────────────────┬──────────────────────┐\n",
              " │ product code ┆ main product ┆ size code ┆ piece per pack ┆ price per pack ┆ price per pack (no   │\n",
              " │ ---          ┆ code         ┆ ---       ┆ ---            ┆ (inc vat)      ┆ vat)                 │\n",
              " │ str          ┆ ---          ┆ str       ┆ i64            ┆ ---            ┆ ---                  │\n",
              " │              ┆ str          ┆           ┆                ┆ i64            ┆ i64                  │\n",
              " ╞══════════════╪══════════════╪═══════════╪════════════════╪════════════════╪══════════════════════╡\n",
              " │ EP-007-F-1   ┆ EP-007       ┆ F         ┆ 1              ┆ 250            ┆ 200                  │\n",
              " │ EP-007-F-2   ┆ EP-007       ┆ F         ┆ 2              ┆ 480            ┆ 400                  │\n",
              " │ EP-011-F-1   ┆ EP-011       ┆ F         ┆ 1              ┆ 460            ┆ null                 │\n",
              " │ EP-012-F-2   ┆ EP-012       ┆ F         ┆ 2              ┆ 880            ┆ null                 │\n",
              " └──────────────┴──────────────┴───────────┴────────────────┴────────────────┴──────────────────────┘}"
            ]
          },
          "metadata": {},
          "execution_count": 19
        }
      ]
    },
    {
      "cell_type": "markdown",
      "source": [
        "## Drop and rename columns"
      ],
      "metadata": {
        "id": "Y2TQ_VUhPRdQ"
      }
    },
    {
      "cell_type": "markdown",
      "source": [
        "### sale_order\n",
        "  - id -> order_id\n",
        "  - record date ->  updated_at\n",
        "  - sell out date -> created_at\n",
        "  - invoice no2 -> invoice_number\n",
        "  - order number -> order_number\n",
        "  - sales channel -> sales_channel\n",
        "  - require vat -> require_vat\n",
        "  - shipping charges -> shipping_charge\n",
        "  - discount bath -> discount_baht\n",
        "  - customer code -> customer_category_id\n",
        "  - customer name -> customer_name\n",
        "  - customer tax id -> tax_id\n",
        "  - customer address -> billing_address\n",
        "  - shipping address -> shipping_address\n",
        "  - customer tel -> phone\n",
        "  - customer email -> email\n",
        "  - Status -> status"
      ],
      "metadata": {
        "id": "kkKLYbRPPcLS"
      }
    },
    {
      "cell_type": "code",
      "source": [
        "dataframes[\"sale_order\"].columns"
      ],
      "metadata": {
        "id": "jda2DEpvaiMv"
      },
      "execution_count": null,
      "outputs": []
    },
    {
      "cell_type": "code",
      "source": [
        "dataframes[\"sale_order\"] = dataframes[\"sale_order\"].drop(columns=['invoice no', 'invoice folder', 'invoice page', 'note', 'pdf', \"shiping_status\"])"
      ],
      "metadata": {
        "id": "IFkyy4QAuCUO"
      },
      "execution_count": 13,
      "outputs": []
    },
    {
      "cell_type": "code",
      "source": [
        "dataframes[\"sale_order\"] = dataframes[\"sale_order\"].rename({\n",
        "    \"id\": \"order_id\",\n",
        "    \"record date\": \"updated_at\",\n",
        "    \"sell out date\": \"created_at\",\n",
        "    \"invoice no2\": \"invoice_number\",\n",
        "    \"order number\": \"order_number\",\n",
        "    \"sales channel\": \"sales_channel\",\n",
        "    \"require vat\": \"require_vat\",\n",
        "    \"shipping charges\": \"shipping_charge\",\n",
        "    \"discount bath\": \"discount_baht\",\n",
        "    \"customer code\": \"customer_category_id\",\n",
        "    \"customer name\": \"name\",\n",
        "    \"customer tax id\": \"tax_id\",\n",
        "    \"customer address\": \"billing_address\",\n",
        "    \"shipping address\": \"shipping_address\",\n",
        "    \"customer tel\": \"phone\",\n",
        "    \"customer email\": \"email\",\n",
        "    \"Status\":\"status\"\n",
        "})\n",
        "dataframes[\"sale_order\"].columns"
      ],
      "metadata": {
        "colab": {
          "base_uri": "https://localhost:8080/"
        },
        "collapsed": true,
        "id": "kMk580ZPwEJm",
        "outputId": "928263ff-707e-4e97-fb04-85d0b46890dc"
      },
      "execution_count": 14,
      "outputs": [
        {
          "output_type": "execute_result",
          "data": {
            "text/plain": [
              "['order_id',\n",
              " 'updated_at',\n",
              " 'created_at',\n",
              " 'invoice_number',\n",
              " 'order_number',\n",
              " 'sales_channel',\n",
              " 'require_vat',\n",
              " 'shipping_charge',\n",
              " 'discount_baht',\n",
              " 'customer code',\n",
              " 'customer name',\n",
              " 'customer tax id',\n",
              " 'customer address',\n",
              " 'shipping address',\n",
              " 'customer tel',\n",
              " 'customer email',\n",
              " 'shiping_status',\n",
              " 'status']"
            ]
          },
          "metadata": {},
          "execution_count": 14
        }
      ]
    },
    {
      "cell_type": "markdown",
      "source": [
        "### canceled_order\n",
        "  - id -> canceled_id: ไว้เชื่อมกับ cn_item ก่อน\n",
        "  - creditnote no -> updated_at\n",
        "  - issue date -> created_at\n",
        "  - invoice id -> invoice_number (ต้องตัด -CN ที่อยู่ท้าย invoice id ไปลงใน status แทน)\n",
        "  - note -> cancel_reason\n",
        "  - ...นอกนั้นคล้ายที่แก้ให้ sale_order ไป..."
      ],
      "metadata": {
        "id": "8DstPvKyTyiK"
      }
    },
    {
      "cell_type": "code",
      "source": [
        "dataframes[\"canceled_order\"].columns"
      ],
      "metadata": {
        "id": "uu7TCNeBaf2s"
      },
      "execution_count": null,
      "outputs": []
    },
    {
      "cell_type": "code",
      "source": [
        "dataframes[\"canceled_order\"] = dataframes[\"canceled_order\"].drop(columns=['invoice folder', 'invoice page', 'customer tax id','customer email','pdf', 'shiping_status', 'image'])"
      ],
      "metadata": {
        "id": "YJp2ML9Kc2Uo"
      },
      "execution_count": 16,
      "outputs": []
    },
    {
      "cell_type": "code",
      "source": [
        "dataframes[\"canceled_order\"] = dataframes[\"canceled_order\"].rename({\n",
        "    \"id\": \"cancel_id\",\n",
        "    \"creditnote no\": \"updated_at\",\n",
        "    \"issue date\": \"created_at\",\n",
        "    \"invoice id\": \"invoice_number\",\n",
        "    \"order number\": \"order_number\",\n",
        "    \"sales channel\": \"sales_channel\",\n",
        "    \"require vat\": \"require_vat\",\n",
        "    \"shipping charges\": \"shipping_charge\",\n",
        "    \"discount bath\": \"discount_baht\",\n",
        "    \"note\":\"cancel_reason\",\n",
        "    \"Status\": \"status\"\n",
        "})\n",
        "dataframes[\"canceled_order\"].columns"
      ],
      "metadata": {
        "id": "a0XVcYNdgNRa",
        "colab": {
          "base_uri": "https://localhost:8080/"
        },
        "outputId": "9010472e-7f7e-4b0d-e462-d042f555edee"
      },
      "execution_count": 17,
      "outputs": [
        {
          "output_type": "execute_result",
          "data": {
            "text/plain": [
              "['cancel_id',\n",
              " 'updated_at',\n",
              " 'created_at',\n",
              " 'order_id',\n",
              " 'invoice_number',\n",
              " 'order_number',\n",
              " 'sales_channel',\n",
              " 'require_vat',\n",
              " 'shipping_charge',\n",
              " 'discount_baht',\n",
              " 'customer code',\n",
              " 'customer name',\n",
              " 'customer address',\n",
              " 'shipping address',\n",
              " 'customer tel',\n",
              " 'cancel_reason',\n",
              " 'status']"
            ]
          },
          "metadata": {},
          "execution_count": 17
        }
      ]
    },
    {
      "cell_type": "markdown",
      "source": [
        "### order_item\n",
        "  - id -> order_item_id\n",
        "  - sell out date -> created_at : จะได้รู้ราคาในเวลานั้นได้เร็ว\n",
        "  - order id -> order_id\n",
        "  - quantity (pack) -> quantity_pack\n",
        "  - price per pack -> unit_price\n",
        "  - price per pack (ex vat) -> unit_price_ex_vat\n",
        "  - total amount -> total_price"
      ],
      "metadata": {
        "id": "q7lPmN1oT34C"
      }
    },
    {
      "cell_type": "code",
      "source": [
        "dataframes[\"order_item\"].columns"
      ],
      "metadata": {
        "colab": {
          "base_uri": "https://localhost:8080/"
        },
        "id": "-EYIWDOEWWUs",
        "outputId": "27f59b61-be40-41bc-ba2d-0f4e4c180c44"
      },
      "execution_count": 20,
      "outputs": [
        {
          "output_type": "execute_result",
          "data": {
            "text/plain": [
              "['id',\n",
              " 'sell out date',\n",
              " 'order id',\n",
              " 'master product code',\n",
              " 'master product name',\n",
              " 'readable name',\n",
              " 'product code',\n",
              " 'color code',\n",
              " 'size code',\n",
              " 'price per pack',\n",
              " 'pcs per pack',\n",
              " 'quantity (pack)',\n",
              " 'quantity',\n",
              " 'price per pack (ex vat)',\n",
              " 'total amount']"
            ]
          },
          "metadata": {},
          "execution_count": 20
        }
      ]
    },
    {
      "cell_type": "code",
      "source": [
        "dataframes[\"order_item\"] = dataframes[\"order_item\"].drop(columns=['master product name', 'readable name', 'product code','color code','size code', 'pcs per pack', 'quantity'])"
      ],
      "metadata": {
        "id": "VoW_qjfNWRmE"
      },
      "execution_count": 21,
      "outputs": []
    },
    {
      "cell_type": "code",
      "source": [
        "dataframes[\"order_item\"] = dataframes[\"order_item\"].rename({\n",
        "    \"id\": \"order_item_id\",\n",
        "    \"sell out date\": \"created_at\",\n",
        "    \"order id\": \"order_id\",\n",
        "    \"master product code\": \"master_product_code\",\n",
        "    \"price per pack\": \"unit_price\",\n",
        "    \"price per pack (ex vat)\": \"unit_price_ex_vat\",\n",
        "    \"quantity (pack)\": \"quantity_pack\",\n",
        "    \"total amount\": \"total_price\"\n",
        "})"
      ],
      "metadata": {
        "colab": {
          "base_uri": "https://localhost:8080/"
        },
        "id": "tE9zaXK1T_8t",
        "outputId": "50f8e0bf-bf2d-4246-8445-b646255ecdaa"
      },
      "execution_count": 22,
      "outputs": [
        {
          "output_type": "execute_result",
          "data": {
            "text/plain": [
              "['order_item_id',\n",
              " 'created_at',\n",
              " 'order_id',\n",
              " 'master_product_code',\n",
              " 'unit_price',\n",
              " 'quantity_pack',\n",
              " 'unit_price_ex_vat',\n",
              " 'total_price']"
            ]
          },
          "metadata": {},
          "execution_count": 22
        }
      ]
    },
    {
      "cell_type": "code",
      "source": [
        "dataframes[\"order_item\"].columns"
      ],
      "metadata": {
        "colab": {
          "base_uri": "https://localhost:8080/"
        },
        "id": "9lAHvWujbwI7",
        "outputId": "bfbee945-dca7-472b-c6f2-888e4e80a8b9"
      },
      "execution_count": 29,
      "outputs": [
        {
          "output_type": "execute_result",
          "data": {
            "text/plain": [
              "['order_item_id',\n",
              " 'created_at',\n",
              " 'order_id',\n",
              " 'master_product_code',\n",
              " 'unit_price',\n",
              " 'quantity_pack',\n",
              " 'unit_price_ex_vat',\n",
              " 'total_price']"
            ]
          },
          "metadata": {},
          "execution_count": 29
        }
      ]
    },
    {
      "cell_type": "markdown",
      "source": [
        "### canceled_item\n",
        "  - id -> order_item_id\n",
        "  - cn id -> order_id\n",
        "  - ...นอกนั้นคล้าย inventory_output แต่ข้อมูล created_at ต้องเติมเองอีกที..."
      ],
      "metadata": {
        "id": "oBWrqqTYT6vk"
      }
    },
    {
      "cell_type": "code",
      "source": [
        "dataframes[\"canceled_item\"].columns"
      ],
      "metadata": {
        "colab": {
          "base_uri": "https://localhost:8080/"
        },
        "id": "uCCxy8cNakbb",
        "outputId": "5cae3c23-4814-4324-cd12-2fab7af67eb9"
      },
      "execution_count": 23,
      "outputs": [
        {
          "output_type": "execute_result",
          "data": {
            "text/plain": [
              "['id',\n",
              " 'cn id',\n",
              " 'readable name',\n",
              " 'master product code',\n",
              " 'product code',\n",
              " 'size code',\n",
              " 'color code',\n",
              " 'price per pack',\n",
              " 'pcs per pack',\n",
              " 'quantity (pack)',\n",
              " 'total amount']"
            ]
          },
          "metadata": {},
          "execution_count": 23
        }
      ]
    },
    {
      "cell_type": "code",
      "source": [
        "dataframes[\"canceled_item\"] = dataframes[\"canceled_item\"].drop(columns=['readable name', 'product code','color code','size code', 'color code', 'pcs per pack'])"
      ],
      "metadata": {
        "colab": {
          "base_uri": "https://localhost:8080/"
        },
        "id": "L0EM1AjYUAfk",
        "outputId": "dedfc57b-5bb7-4d38-c787-d7630ce65b36"
      },
      "execution_count": 26,
      "outputs": [
        {
          "output_type": "execute_result",
          "data": {
            "text/plain": [
              "['id',\n",
              " 'cn id',\n",
              " 'master product code',\n",
              " 'price per pack',\n",
              " 'quantity (pack)',\n",
              " 'total amount']"
            ]
          },
          "metadata": {},
          "execution_count": 26
        }
      ]
    },
    {
      "cell_type": "code",
      "source": [
        "dataframes[\"canceled_item\"] = dataframes[\"canceled_item\"].rename({\n",
        "    \"id\": \"order_item_id\",\n",
        "    \"cn id\": \"order_id\",\n",
        "    \"master product code\": \"master_product_code\",\n",
        "    \"price per pack\": \"unit_price\",\n",
        "    \"quantity (pack)\": \"quantity_pack\",\n",
        "    \"total amount\": \"total_price\"\n",
        "})\n",
        "dataframes[\"canceled_item\"].columns"
      ],
      "metadata": {
        "colab": {
          "base_uri": "https://localhost:8080/"
        },
        "id": "uXTLHXX6bXbC",
        "outputId": "1ea147f5-f91f-45fe-ce44-13027d435875"
      },
      "execution_count": 28,
      "outputs": [
        {
          "output_type": "execute_result",
          "data": {
            "text/plain": [
              "['order_item_id',\n",
              " 'order_id',\n",
              " 'master_product_code',\n",
              " 'unit_price',\n",
              " 'quantity_pack',\n",
              " 'total_price']"
            ]
          },
          "metadata": {},
          "execution_count": 28
        }
      ]
    },
    {
      "cell_type": "markdown",
      "source": [
        "### waybill\n",
        "  - ordernumber -> order_number\n",
        "  - address -> shipping_address"
      ],
      "metadata": {
        "id": "lmgwtuRxT8X3"
      }
    },
    {
      "cell_type": "code",
      "source": [
        "dataframes[\"waybill\"].columns"
      ],
      "metadata": {
        "colab": {
          "base_uri": "https://localhost:8080/"
        },
        "id": "rElIf5npUA34",
        "outputId": "809ac7cb-f7f6-416f-ab26-70df28b07462"
      },
      "execution_count": 30,
      "outputs": [
        {
          "output_type": "execute_result",
          "data": {
            "text/plain": [
              "['ordernumber',\n",
              " 'file',\n",
              " 'image',\n",
              " 'platform',\n",
              " 'name',\n",
              " 'address',\n",
              " 'billing_address',\n",
              " 'phone',\n",
              " 'price',\n",
              " 'postcode',\n",
              " 'ship_date',\n",
              " 'tracking_number',\n",
              " 'invoice_number',\n",
              " 'awb_format',\n",
              " 'sales_channel_id']"
            ]
          },
          "metadata": {},
          "execution_count": 30
        }
      ]
    },
    {
      "cell_type": "code",
      "source": [
        "dataframes[\"waybill\"] = dataframes[\"waybill\"].drop(columns=['file', 'image', 'platform', 'price', 'sales_channel_id'])\n",
        "dataframes[\"waybill\"].columns"
      ],
      "metadata": {
        "id": "LIHflw41cIqD"
      },
      "execution_count": 31,
      "outputs": []
    },
    {
      "cell_type": "code",
      "source": [
        "dataframes[\"waybill\"] = dataframes[\"waybill\"].rename({\n",
        "    \"ordernumber\": \"order_number\",\n",
        "    \"address\": \"shipping_address\"\n",
        "})\n",
        "dataframes[\"waybill\"].columns"
      ],
      "metadata": {
        "colab": {
          "base_uri": "https://localhost:8080/"
        },
        "id": "qqMiCIE2cI58",
        "outputId": "b7095492-65f7-403f-bb37-b812a7d30dfd"
      },
      "execution_count": 33,
      "outputs": [
        {
          "output_type": "execute_result",
          "data": {
            "text/plain": [
              "['order_number',\n",
              " 'name',\n",
              " 'shipping_address',\n",
              " 'billing_address',\n",
              " 'phone',\n",
              " 'postcode',\n",
              " 'ship_date',\n",
              " 'tracking_number',\n",
              " 'invoice_number',\n",
              " 'awb_format']"
            ]
          },
          "metadata": {},
          "execution_count": 33
        }
      ]
    },
    {
      "cell_type": "markdown",
      "source": [
        "### customer_code\n",
        "  - code -> customer_category_id\n",
        "  - customer address -> shipping_address\n",
        "  - billing address -> billing_address\n",
        "  - tax id -> tax_id\n",
        "  - tel -> phone\n",
        "  - description -> note\n",
        "  - channel catagory -> channel_catagory"
      ],
      "metadata": {
        "id": "_DmPfpt2T9tm"
      }
    },
    {
      "cell_type": "code",
      "source": [
        "dataframes[\"customer_code\"].columns"
      ],
      "metadata": {
        "colab": {
          "base_uri": "https://localhost:8080/"
        },
        "id": "pLtDFq2mUBfh",
        "outputId": "6218ab53-a9bc-45be-9813-90552b763353"
      },
      "execution_count": 34,
      "outputs": [
        {
          "output_type": "execute_result",
          "data": {
            "text/plain": [
              "['code',\n",
              " 'category',\n",
              " 'number',\n",
              " 'name',\n",
              " 'customer address',\n",
              " 'billing address',\n",
              " 'branch',\n",
              " 'tax id',\n",
              " 'tel',\n",
              " 'email',\n",
              " 'contact person',\n",
              " 'description',\n",
              " 'channel catagory',\n",
              " 'require tax']"
            ]
          },
          "metadata": {},
          "execution_count": 34
        }
      ]
    },
    {
      "cell_type": "code",
      "source": [
        "customer_code_df = dataframes[\"customer_code\"].drop(columns=['category', 'number', 'contact person', 'require tax'])\n",
        "customer_code_df.columns"
      ],
      "metadata": {
        "colab": {
          "base_uri": "https://localhost:8080/"
        },
        "id": "QkABe75acJO6",
        "outputId": "368a29be-d480-4426-8b1a-91f9147b6a3a"
      },
      "execution_count": 35,
      "outputs": [
        {
          "output_type": "execute_result",
          "data": {
            "text/plain": [
              "['code',\n",
              " 'name',\n",
              " 'customer address',\n",
              " 'billing address',\n",
              " 'branch',\n",
              " 'tax id',\n",
              " 'tel',\n",
              " 'email',\n",
              " 'description',\n",
              " 'channel catagory']"
            ]
          },
          "metadata": {},
          "execution_count": 35
        }
      ]
    },
    {
      "cell_type": "code",
      "source": [
        "customer_code_df = customer_code_df.rename({\n",
        "    \"code\": \"customer_category_id\",\n",
        "    \"customer address\": \"shipping_address\",\n",
        "    \"billing address\": \"billing_address\",\n",
        "    \"tax id\": \"tax_id\",\n",
        "    \"tel\": \"phone\",\n",
        "    \"description\": \"note\",\n",
        "    \"channel catagory\": \"channel_catagory\"\n",
        "})\n",
        "customer_code_df.columns"
      ],
      "metadata": {
        "colab": {
          "base_uri": "https://localhost:8080/"
        },
        "id": "o90SbAe-cJcy",
        "outputId": "9cd76937-01cb-4c31-ae8d-3f11b8f9e0a6"
      },
      "execution_count": 36,
      "outputs": [
        {
          "output_type": "execute_result",
          "data": {
            "text/plain": [
              "['customer_category_id',\n",
              " 'name',\n",
              " 'shipping_address',\n",
              " 'billing_address',\n",
              " 'branch',\n",
              " 'tax_id',\n",
              " 'phone',\n",
              " 'email',\n",
              " 'note',\n",
              " 'channel_catagory']"
            ]
          },
          "metadata": {},
          "execution_count": 36
        }
      ]
    },
    {
      "cell_type": "markdown",
      "source": [
        "# Step 2) Transform - Schema/Value Integration"
      ],
      "metadata": {
        "id": "vV1op3q3ki_y"
      }
    },
    {
      "cell_type": "markdown",
      "source": [
        "Process ข้อมูลด้วย Polars ในการรวมและแยก Dataset\n",
        "- เติมและย้ายข้อมูลให้ถูกต้อง\n",
        "- Change format of day\n",
        "- รวม data\n",
        "  - sale_order + cn_order(canceled order) -> sale_order\n",
        "  - inventory_output + cn_item(canceled item) + Price -> order_item\n",
        "- แยก data\n",
        "  - awb_info -> waybill + customer_address(1)\n",
        "  > เอา platform ออกเพราะมี sales_channel ใน sale_order แล้ว\n",
        "  - customer_code -> customer + customer_category + customer_address(2)\n",
        "  >customer code/address/... -> customer_address_id\n",
        "- สร้าง fake values\n",
        "- สรุปผลข้อมูล\n",
        "- Check Value"
      ],
      "metadata": {
        "id": "ofHQqSuFVrT9"
      }
    },
    {
      "cell_type": "markdown",
      "source": [
        "## เติมช่องว่าง และย้ายข้อมูลให้ถูกต้อง"
      ],
      "metadata": {
        "id": "zlhuZhyRYH-O"
      }
    },
    {
      "cell_type": "code",
      "source": [
        "# remove \"-CN\" from invoice_number column\n",
        "canceled_order_df = canceled_order_df.with_columns(pl.col(\"invoice_number\").str.replace(\"-CN\",\"\"))"
      ],
      "metadata": {
        "id": "Qf4H07xigq4K"
      },
      "execution_count": null,
      "outputs": []
    },
    {
      "cell_type": "code",
      "source": [
        "# add \"Canceled\" to status instead\n",
        "canceled_order_df = canceled_order_df.with_columns(\n",
        "    pl.col(\"status\").fill_null(\n",
        "        \"Canceled\"\n",
        "    )\n",
        ")\n",
        "canceled_order_df"
      ],
      "metadata": {
        "id": "I-JGXNKskE3Z",
        "colab": {
          "base_uri": "https://localhost:8080/",
          "height": 1000
        },
        "collapsed": true,
        "outputId": "4a7e34ca-ac71-4719-fdcc-4bca35b49cb2"
      },
      "execution_count": null,
      "outputs": [
        {
          "output_type": "execute_result",
          "data": {
            "text/plain": [
              "shape: (20, 17)\n",
              "┌───────────┬────────────┬───────────┬──────────┬───┬───────────┬───────────┬───────────┬──────────┐\n",
              "│ cancel_id ┆ updated_at ┆ created_a ┆ order_id ┆ … ┆ shipping  ┆ customer  ┆ cancel_re ┆ status   │\n",
              "│ ---       ┆ ---        ┆ t         ┆ ---      ┆   ┆ address   ┆ tel       ┆ ason      ┆ ---      │\n",
              "│ str       ┆ str        ┆ ---       ┆ str      ┆   ┆ ---       ┆ ---       ┆ ---       ┆ str      │\n",
              "│           ┆            ┆ str       ┆          ┆   ┆ str       ┆ i64       ┆ str       ┆          │\n",
              "╞═══════════╪════════════╪═══════════╪══════════╪═══╪═══════════╪═══════════╪═══════════╪══════════╡\n",
              "│ null      ┆ null       ┆ null      ┆ null     ┆ … ┆ null      ┆ null      ┆ null      ┆ Canceled │\n",
              "│ null      ┆ null       ┆ null      ┆ null     ┆ … ┆ null      ┆ null      ┆ null      ┆ Canceled │\n",
              "│ 93339d0c  ┆ 01/03/2024 ┆ 01/03/202 ┆ ee066971 ┆ … ┆ null      ┆ 923750555 ┆ ออกบิลใหม่เ ┆ Canceled │\n",
              "│           ┆ 00:00:00   ┆ 4         ┆          ┆   ┆           ┆           ┆ นื่องจากปิดร ┆          │\n",
              "│           ┆            ┆           ┆          ┆   ┆           ┆           ┆ อบบิลแล้ว   ┆          │\n",
              "│ 77f53cb8  ┆ 29/02/2024 ┆ 03/03/202 ┆ 094636c1 ┆ … ┆ 11 kasem  ┆ 669677557 ┆ เบอร์ผิด    ┆ Canceled │\n",
              "│           ┆ 00:00:00   ┆ 4         ┆          ┆   ┆ samran    ┆ 27        ┆           ┆          │\n",
              "│           ┆            ┆           ┆          ┆   ┆ soi 4     ┆           ┆           ┆          │\n",
              "│           ┆            ┆           ┆          ┆   ┆ watthana  ┆           ┆           ┆          │\n",
              "│           ┆            ┆           ┆          ┆   ┆ p…        ┆           ┆           ┆          │\n",
              "│ …         ┆ …          ┆ …         ┆ …        ┆ … ┆ …         ┆ …         ┆ …         ┆ …        │\n",
              "│ 0b801279  ┆ 13/06/2024 ┆ 13/06/202 ┆ 6a686ca3 ┆ … ┆ 191 หมู่4   ┆ 668139366 ┆ พ่อเป็นมะเร็ ┆ Canceled │\n",
              "│           ┆ 00:00:00   ┆ 4         ┆          ┆   ┆ ต.เช้ือเพลิง ┆ 43        ┆ งตับ ไม่ต้อง ┆          │\n",
              "│           ┆            ┆           ┆          ┆   ┆ (เย้ืองมห…  ┆           ┆ ใช้แล้ว     ┆          │\n",
              "│ 01c667d3  ┆ 13/06/2024 ┆ 13/06/202 ┆ aa68c2ff ┆ … ┆ 290       ┆ null      ┆ ดึกแล้วรับขอ ┆ Canceled │\n",
              "│           ┆ 00:00:00   ┆ 4         ┆          ┆   ┆ ซ.สิรินธร 2 ┆           ┆ งพรุ่งนี่     ┆          │\n",
              "│           ┆            ┆           ┆          ┆   ┆ (แยก11)   ┆           ┆           ┆          │\n",
              "│           ┆            ┆           ┆          ┆   ┆ ถ.สิรินธ…   ┆           ┆           ┆          │\n",
              "│ 5c06532b  ┆ 09/07/2024 ┆ 09/07/202 ┆ d2e618a8 ┆ … ┆ 33 ซ.     ┆ 669792495 ┆ จัดส่งไม่สำเ ┆ Canceled │\n",
              "│           ┆ 00:00:00   ┆ 4         ┆          ┆   ┆ สุขุมวิท 3   ┆ 95        ┆ ร็จ        ┆          │\n",
              "│           ┆            ┆           ┆          ┆   ┆ แขวงคลองเ ┆           ┆           ┆          │\n",
              "│           ┆            ┆           ┆          ┆   ┆ ตยเหนื…    ┆           ┆           ┆          │\n",
              "│ 93af7caa  ┆ 07/08/2024 ┆ 07/08/202 ┆ 78742cf8 ┆ … ┆ เลขที่      ┆ 668590815 ┆ ผู้ป่วยเข้า   ┆ Canceled │\n",
              "│           ┆ 00:00:00   ┆ 4         ┆          ┆   ┆ 178/87,   ┆ 82        ┆ รพ        ┆          │\n",
              "│           ┆            ┆           ┆          ┆   ┆ เลคไซร์    ┆           ┆ กระทันหัน   ┆          │\n",
              "│           ┆            ┆           ┆          ┆   ┆ เลน4      ┆           ┆           ┆          │\n",
              "│           ┆            ┆           ┆          ┆   ┆ สนาม…     ┆           ┆           ┆          │\n",
              "└───────────┴────────────┴───────────┴──────────┴───┴───────────┴───────────┴───────────┴──────────┘"
            ],
            "text/html": [
              "<div><style>\n",
              ".dataframe > thead > tr,\n",
              ".dataframe > tbody > tr {\n",
              "  text-align: right;\n",
              "  white-space: pre-wrap;\n",
              "}\n",
              "</style>\n",
              "<small>shape: (20, 17)</small><table border=\"1\" class=\"dataframe\"><thead><tr><th>cancel_id</th><th>updated_at</th><th>created_at</th><th>order_id</th><th>invoice_number</th><th>order_number</th><th>sales_channel</th><th>require_vat</th><th>shipping_charge</th><th>discount_baht</th><th>customer code</th><th>customer name</th><th>customer address</th><th>shipping address</th><th>customer tel</th><th>cancel_reason</th><th>status</th></tr><tr><td>str</td><td>str</td><td>str</td><td>str</td><td>str</td><td>str</td><td>str</td><td>bool</td><td>i64</td><td>i64</td><td>str</td><td>str</td><td>str</td><td>str</td><td>i64</td><td>str</td><td>str</td></tr></thead><tbody><tr><td>null</td><td>null</td><td>null</td><td>null</td><td>null</td><td>null</td><td>null</td><td>null</td><td>null</td><td>null</td><td>null</td><td>null</td><td>null</td><td>null</td><td>null</td><td>null</td><td>&quot;Canceled&quot;</td></tr><tr><td>null</td><td>null</td><td>null</td><td>null</td><td>null</td><td>null</td><td>null</td><td>null</td><td>null</td><td>null</td><td>null</td><td>null</td><td>null</td><td>null</td><td>null</td><td>null</td><td>&quot;Canceled&quot;</td></tr><tr><td>&quot;93339d0c&quot;</td><td>&quot;01/03/2024 00:…</td><td>&quot;01/03/2024&quot;</td><td>&quot;ee066971&quot;</td><td>&quot;87/88&quot;</td><td>null</td><td>&quot;nursing home&quot;</td><td>true</td><td>0</td><td>125</td><td>null</td><td>&quot;EH0072&quot;</td><td>&quot;65 Thanon Witt…</td><td>null</td><td>923750555</td><td>&quot;ออกบิลใหม่เนื่…</td><td>&quot;Canceled&quot;</td></tr><tr><td>&quot;77f53cb8&quot;</td><td>&quot;29/02/2024 00:…</td><td>&quot;03/03/2024&quot;</td><td>&quot;094636c1&quot;</td><td>&quot;93/02&quot;</td><td>&quot;240218V0RUWE5H…</td><td>&quot;shopee&quot;</td><td>true</td><td>0</td><td>0</td><td>null</td><td>&quot;Prem Singh&quot;</td><td>null</td><td>&quot;11 kasem samra…</td><td>66967755727</td><td>&quot;เบอร์ผิด&quot;</td><td>&quot;Canceled&quot;</td></tr><tr><td>&quot;5a03509a&quot;</td><td>&quot;29/02/2024 00:…</td><td>&quot;03/03/2024&quot;</td><td>&quot;1f870eca&quot;</td><td>&quot;93/19&quot;</td><td>&quot;2402215U02C6XB…</td><td>&quot;shopee&quot;</td><td>true</td><td>0</td><td>0</td><td>null</td><td>&quot;Prem Singh&quot;</td><td>null</td><td>&quot;11 kasem samra…</td><td>66967755727</td><td>&quot;เบอร์ผิด&quot;</td><td>&quot;Canceled&quot;</td></tr><tr><td>&quot;9a0e9066&quot;</td><td>&quot;03/03/2024 00:…</td><td>&quot;03/03/2024&quot;</td><td>&quot;2b79b368&quot;</td><td>&quot;93/55&quot;</td><td>&quot;82547889311676…</td><td>&quot;lazada&quot;</td><td>true</td><td>0</td><td>0</td><td>null</td><td>&quot;สคุ นธา ชยั ฤก…</td><td>&quot;สคุ นธา ชยั ฤก…</td><td>&quot;26/1 หม ู่13 ·…</td><td>660896015539</td><td>&quot;ลูกค้าขอยกเลิก…</td><td>&quot;Canceled&quot;</td></tr><tr><td>&quot;ae6876dc&quot;</td><td>&quot;10/03/2024 00:…</td><td>&quot;10/03/2024&quot;</td><td>&quot;2b79b368&quot;</td><td>&quot;93/55&quot;</td><td>&quot;82547889311676…</td><td>&quot;lazada&quot;</td><td>true</td><td>0</td><td>0</td><td>null</td><td>&quot;สคุ นธา ชยั ฤก…</td><td>&quot;สคุ นธา ชยั ฤก…</td><td>&quot;26/1 หม ู่13 ·…</td><td>660896015539</td><td>&quot;ลูกค้าต้องการย…</td><td>&quot;Canceled&quot;</td></tr><tr><td>&quot;6cee400d&quot;</td><td>&quot;13/03/2024 00:…</td><td>&quot;13/03/2024&quot;</td><td>&quot;deb9a927&quot;</td><td>&quot;&quot;</td><td>&quot;2403034CWQ6837…</td><td>&quot;shopee&quot;</td><td>true</td><td>0</td><td>0</td><td>null</td><td>&quot;ชัชวาลย์ นพรัก…</td><td>null</td><td>&quot;หมู่บ้านเดอะเก…</td><td>66943456449</td><td>&quot;ไม่มีคนรับสาย&quot;</td><td>&quot;Canceled&quot;</td></tr><tr><td>&quot;01d7aa97&quot;</td><td>&quot;20/03/2024 00:…</td><td>&quot;20/03/2024&quot;</td><td>&quot;4219b2ad&quot;</td><td>&quot;IV2403A0059&quot;</td><td>&quot;24031557TVKF2R…</td><td>&quot;shopee&quot;</td><td>true</td><td>0</td><td>0</td><td>null</td><td>&quot;ชนากานต์ ด้วงก…</td><td>null</td><td>&quot;91 หมู่ 12, ตํ…</td><td>66984146969</td><td>&quot;ไม่มีผู้รับ&quot;</td><td>&quot;Canceled&quot;</td></tr><tr><td>&quot;618c4e45&quot;</td><td>&quot;31/03/2024 00:…</td><td>&quot;31/03/2024&quot;</td><td>&quot;776699ce&quot;</td><td>&quot;IV2403A0091&quot;</td><td>&quot;24032505MHJC6S…</td><td>&quot;shopee&quot;</td><td>true</td><td>0</td><td>0</td><td>null</td><td>&quot;จิราพร&quot;</td><td>null</td><td>&quot;514 ถ. มหาจักร…</td><td>66957641503</td><td>&quot;พัสดุตีกลับ&quot;</td><td>&quot;Canceled&quot;</td></tr><tr><td>&quot;8676de51&quot;</td><td>&quot;22/04/2024 00:…</td><td>&quot;22/04/2024&quot;</td><td>&quot;0fe81081&quot;</td><td>&quot;IV2404A0062&quot;</td><td>&quot;240421AW7732XU…</td><td>&quot;shopee&quot;</td><td>true</td><td>0</td><td>0</td><td>null</td><td>&quot;จารุรัตน ์นาคฤ…</td><td>null</td><td>&quot;การรถไฟฟ้าขนส่…</td><td>66816175456</td><td>&quot;ลูกค้าขอยกเลิก…</td><td>&quot;Canceled&quot;</td></tr><tr><td>&quot;06b10bc9&quot;</td><td>&quot;25/04/2024 00:…</td><td>&quot;25/04/2024&quot;</td><td>&quot;7404af56&quot;</td><td>&quot;IV2404A0054&quot;</td><td>&quot;2404183UQ34SFP…</td><td>&quot;shopee&quot;</td><td>true</td><td>0</td><td>0</td><td>null</td><td>&quot;อภิศรา จันทรชิ…</td><td>null</td><td>&quot;100/43 ม.5ซอย6…</td><td>66966964190</td><td>&quot;ติดต่อผู้รับไม…</td><td>&quot;Canceled&quot;</td></tr><tr><td>&quot;1b08663d&quot;</td><td>&quot;03/05/2024 00:…</td><td>&quot;03/05/2024&quot;</td><td>&quot;71c48227&quot;</td><td>&quot;IV2404A0071&quot;</td><td>&quot;84780766384837…</td><td>&quot;lazada&quot;</td><td>true</td><td>0</td><td>0</td><td>null</td><td>&quot;เจษฎาพร ฟองอนิ…</td><td>&quot;สเุ มธ เลศิ ปร…</td><td>&quot;99/205 Condo U…</td><td>660989198928</td><td>&quot;ตีคืน&quot;</td><td>&quot;Canceled&quot;</td></tr><tr><td>&quot;1ec023f3&quot;</td><td>&quot;06/05/2024 00:…</td><td>&quot;06/05/2024&quot;</td><td>&quot;59a54a36&quot;</td><td>&quot;IV2405A0008&quot;</td><td>&quot;240502ABE7KU60…</td><td>&quot;shopee&quot;</td><td>true</td><td>0</td><td>0</td><td>null</td><td>&quot;สมปอง ธนบดีอํา…</td><td>null</td><td>&quot;เลขที่ 1911/28…</td><td>66822810230</td><td>&quot;สั่งซื้อซ้ำ&quot;</td><td>&quot;Canceled&quot;</td></tr><tr><td>&quot;431d89a6&quot;</td><td>&quot;25/05/2024 00:…</td><td>&quot;25/05/2024&quot;</td><td>&quot;8ac7880b&quot;</td><td>&quot;IV2405A0107&quot;</td><td>&quot;240525818TTCDD…</td><td>&quot;shopee&quot;</td><td>true</td><td>0</td><td>0</td><td>null</td><td>&quot;อชิรญา เสมเหลา…</td><td>null</td><td>&quot;99/18-19 zoomp…</td><td>66908971699</td><td>&quot;ลูกค้าขอ cance…</td><td>&quot;Canceled&quot;</td></tr><tr><td>&quot;b4cc219d&quot;</td><td>&quot;26/05/2024 00:…</td><td>&quot;26/05/2024&quot;</td><td>&quot;44a7426e&quot;</td><td>&quot;IV2405A0092&quot;</td><td>&quot;86546215794482…</td><td>&quot;lazada&quot;</td><td>true</td><td>0</td><td>0</td><td>null</td><td>&quot;Rachnee Kumar&quot;</td><td>&quot;Rachnee Kumar …</td><td>&quot;88/73 Grand Ro…</td><td>660818305516</td><td>&quot;หนาไป&quot;</td><td>&quot;Canceled&quot;</td></tr><tr><td>&quot;0b801279&quot;</td><td>&quot;13/06/2024 00:…</td><td>&quot;13/06/2024&quot;</td><td>&quot;6a686ca3&quot;</td><td>&quot;IV2405A0109&quot;</td><td>&quot;2405258VUPG6ES…</td><td>&quot;shopee&quot;</td><td>true</td><td>0</td><td>0</td><td>null</td><td>&quot;ITZACLOSET&quot;</td><td>null</td><td>&quot;191 หมู่4 ต.เช…</td><td>66813936643</td><td>&quot;พ่อเป็นมะเร็งต…</td><td>&quot;Canceled&quot;</td></tr><tr><td>&quot;01c667d3&quot;</td><td>&quot;13/06/2024 00:…</td><td>&quot;13/06/2024&quot;</td><td>&quot;aa68c2ff&quot;</td><td>&quot;IV2406A0061&quot;</td><td>&quot;240613VNJJ3PJJ…</td><td>&quot;shopee&quot;</td><td>true</td><td>0</td><td>0</td><td>null</td><td>&quot;Jam Israbhakdi…</td><td>null</td><td>&quot;290 ซ.สิรินธร …</td><td>null</td><td>&quot;ดึกแล้วรับของพ…</td><td>&quot;Canceled&quot;</td></tr><tr><td>&quot;5c06532b&quot;</td><td>&quot;09/07/2024 00:…</td><td>&quot;09/07/2024&quot;</td><td>&quot;d2e618a8&quot;</td><td>&quot;IV2406A0126&quot;</td><td>&quot;2406286UHS5G9R…</td><td>&quot;shopee&quot;</td><td>true</td><td>0</td><td>0</td><td>null</td><td>&quot;มะปราง&quot;</td><td>null</td><td>&quot;33 ซ. สุขุมวิท…</td><td>66979249595</td><td>&quot;จัดส่งไม่สำเร็…</td><td>&quot;Canceled&quot;</td></tr><tr><td>&quot;93af7caa&quot;</td><td>&quot;07/08/2024 00:…</td><td>&quot;07/08/2024&quot;</td><td>&quot;78742cf8&quot;</td><td>&quot;IV2408A00223&quot;</td><td>&quot;240807MDDX53PM…</td><td>&quot;shopee&quot;</td><td>true</td><td>0</td><td>0</td><td>null</td><td>&quot;เบญจวรรณ ศิริพ…</td><td>&quot;เลขที่ 178/87,…</td><td>&quot;เลขที่ 178/87,…</td><td>66859081582</td><td>&quot;ผู้ป่วยเข้า รพ…</td><td>&quot;Canceled&quot;</td></tr></tbody></table></div>"
            ]
          },
          "metadata": {},
          "execution_count": 37
        }
      ]
    },
    {
      "cell_type": "markdown",
      "source": [
        "## Change format of day"
      ],
      "metadata": {
        "id": "kADQw9HaN30V"
      }
    },
    {
      "cell_type": "code",
      "source": [
        "from pandas.tseries.offsets import Day\n",
        "\n",
        "df['Date'] = pd.to_datetime(df['Date'])"
      ],
      "metadata": {
        "id": "uYpZpaAMGvQV"
      },
      "execution_count": null,
      "outputs": []
    },
    {
      "cell_type": "code",
      "source": [
        "df"
      ],
      "metadata": {
        "id": "dPo8LNd-OBbd"
      },
      "execution_count": null,
      "outputs": []
    },
    {
      "cell_type": "markdown",
      "source": [
        "## รวม data\n",
        "Create new tables"
      ],
      "metadata": {
        "id": "A_uq_TzmONta"
      }
    },
    {
      "cell_type": "code",
      "source": [],
      "metadata": {
        "id": "uy47qE5QhKX9"
      },
      "execution_count": null,
      "outputs": []
    },
    {
      "cell_type": "markdown",
      "source": [
        "## แยก data\n",
        "Create new tables"
      ],
      "metadata": {
        "id": "gV-OZvMvOomX"
      }
    },
    {
      "cell_type": "code",
      "source": [
        ".drop_duplicates()\n"
      ],
      "metadata": {
        "id": "Horx99eXOvsJ"
      },
      "execution_count": null,
      "outputs": []
    },
    {
      "cell_type": "markdown",
      "source": [
        "## Use Faker library to generate fake names"
      ],
      "metadata": {
        "id": "8IqEuK5HO2c0"
      }
    },
    {
      "cell_type": "code",
      "source": [
        "!pip install faker"
      ],
      "metadata": {
        "id": "6LfioSdwO6rc"
      },
      "execution_count": null,
      "outputs": []
    },
    {
      "cell_type": "code",
      "source": [
        "from faker import Faker\n",
        "fake = Faker()\n",
        "customer_master['Name'] = customer_master['CustomerNo'].apply(lambda x: fake.name())"
      ],
      "metadata": {
        "id": "_zD0LLObO12x"
      },
      "execution_count": null,
      "outputs": []
    },
    {
      "cell_type": "markdown",
      "source": [
        "## Summary"
      ],
      "metadata": {
        "id": "H4efnycnXLTB"
      }
    },
    {
      "cell_type": "code",
      "source": [
        "df.info()"
      ],
      "metadata": {
        "id": "mFBBXGc6XTEq"
      },
      "execution_count": null,
      "outputs": []
    },
    {
      "cell_type": "code",
      "source": [
        "df.describe()"
      ],
      "metadata": {
        "id": "8_nNEsPwXNWf"
      },
      "execution_count": null,
      "outputs": []
    },
    {
      "cell_type": "markdown",
      "source": [
        "# Step 3) Insert into Database"
      ],
      "metadata": {
        "id": "SfNxkjmXYg7D"
      }
    },
    {
      "cell_type": "markdown",
      "source": [
        "Insert ข้อมูลลงใน MySQL Database\n",
        "- อ่าน Secrets ของ Colab (เก็บลง class Config)\n",
        "- ใช้ Sqlalchemy เชื่อมต่อไปที่ MySQL\n",
        "- สร้าง Schema (database)\n",
        "- Insert ข้อมูลลงใน tables"
      ],
      "metadata": {
        "id": "2T-7DMplWdxQ"
      }
    },
    {
      "cell_type": "markdown",
      "source": [
        "## Getting Secrets"
      ],
      "metadata": {
        "id": "HoGnBYa4oD4i"
      }
    },
    {
      "cell_type": "code",
      "source": [
        "from google.colab import userdata\n",
        "\n",
        "class Config:\n",
        "  MYSQL_HOST = userdata.get(\"MYSQL_HOST\")\n",
        "  MYSQL_PORT = userdata.get(\"MYSQL_PORT\")\n",
        "  MYSQL_USER = userdata.get(\"MYSQL_USER\")\n",
        "  MYSQL_PASSWORD = userdata.get(\"MYSQL_PASSWORD\")\n",
        "  MYSQL_DB = ''\n",
        "  MYSQL_CHARSET = 'utf8mb4'\n"
      ],
      "metadata": {
        "id": "bV5pD0zxoGHo"
      },
      "execution_count": null,
      "outputs": []
    },
    {
      "cell_type": "markdown",
      "source": [
        "## Connect to MySQL"
      ],
      "metadata": {
        "id": "cvJTxMv4wDYw"
      }
    },
    {
      "cell_type": "code",
      "source": [
        "!pip install pymysql"
      ],
      "metadata": {
        "id": "ThRZwmQWDjd3"
      },
      "execution_count": null,
      "outputs": []
    },
    {
      "cell_type": "code",
      "source": [
        "import sqlalchemy\n",
        "\n",
        "engine = sqlalchemy.create_engine(\n",
        "    \"mysql+pymysql://{user}:{password}@{host}:{port}/{db}\".format(\n",
        "        user=Config.MYSQL_USER,\n",
        "        password=Config.MYSQL_PASSWORD,\n",
        "        host=Config.MYSQL_HOST,\n",
        "        port=Config.MYSQL_PORT,\n",
        "        db=Config.MYSQL_DB,\n",
        "    )\n",
        ")"
      ],
      "metadata": {
        "id": "0CCbIpAalkAf"
      },
      "execution_count": null,
      "outputs": []
    },
    {
      "cell_type": "code",
      "source": [
        "df"
      ],
      "metadata": {
        "id": "owhZsMtceaTk"
      },
      "execution_count": null,
      "outputs": []
    },
    {
      "cell_type": "markdown",
      "source": [
        "**Tables:**\n",
        "- transaction\n",
        "- customer\n",
        "- product"
      ],
      "metadata": {
        "id": "b8fu37mz0Ubp"
      }
    },
    {
      "cell_type": "markdown",
      "source": [
        "## Create Schema"
      ],
      "metadata": {
        "id": "dQMThoQrfJrg"
      }
    },
    {
      "cell_type": "code",
      "source": [
        "schema_name = \"elgo\"\n",
        "\n",
        "with engine.connect() as connection:\n",
        "    connection.execute(sqlalchemy.text(f\"CREATE DATABASE IF NOT EXISTS {schema_name};\"))\n"
      ],
      "metadata": {
        "id": "uc8-Way5fJb5"
      },
      "execution_count": null,
      "outputs": []
    },
    {
      "cell_type": "markdown",
      "source": [
        "## Insert to tables"
      ],
      "metadata": {
        "id": "810h4DQO-N0G"
      }
    },
    {
      "cell_type": "code",
      "source": [
        "df.to_sql(\n",
        "    '',        # Name of the table to be created\n",
        "    con=engine,           # SQLAlchemy engine connection\n",
        "    schema=schema_name,   # Database name\n",
        "    if_exists='replace',  # 'fail', 'replace', or 'append'\n",
        "    index=False,          # Whether to include the DataFrame's index as a column\n",
        "    chunksize=1000,       # Number of rows to insert in each chunk (for large DataFrames)\n",
        ")"
      ],
      "metadata": {
        "colab": {
          "base_uri": "https://localhost:8080/"
        },
        "id": "rU3u12R4e6zX",
        "outputId": "227bf613-01a4-422e-de28-f00fd781d539",
        "collapsed": true
      },
      "execution_count": null,
      "outputs": [
        {
          "output_type": "execute_result",
          "data": {
            "text/plain": [
              "536350"
            ]
          },
          "metadata": {},
          "execution_count": 61
        }
      ]
    },
    {
      "cell_type": "markdown",
      "source": [
        "# Step 4) Query and save output files"
      ],
      "metadata": {
        "id": "kLoqr8MQ_YHb"
      }
    },
    {
      "cell_type": "markdown",
      "source": [
        "Query ข้อมูลใน table และเซฟไฟล์ output\n",
        "- Query ข้อมูลด้วย Pandas\n",
        "- Output ไฟล์เป็น parquet"
      ],
      "metadata": {
        "id": "8Nu0fHprWnKp"
      }
    },
    {
      "cell_type": "markdown",
      "source": [
        "## Query"
      ],
      "metadata": {
        "id": "wKcFJi4qBb-8"
      }
    },
    {
      "cell_type": "code",
      "source": [
        "sql = \"SELECT * FROM \"\n",
        " = pd.read_sql_query(sql, engine)"
      ],
      "metadata": {
        "colab": {
          "base_uri": "https://localhost:8080/",
          "height": 424
        },
        "id": "27oN_A_ABg45",
        "outputId": "38de3726-b577-4869-ebe1-3093468c48bd",
        "collapsed": true
      },
      "execution_count": null,
      "outputs": [
        {
          "output_type": "execute_result",
          "data": {
            "text/plain": [
              "      CustomerNo         Country            Name\n",
              "0        17490.0  United Kingdom    Sara Griffin\n",
              "1        13069.0  United Kingdom    Michael Holt\n",
              "2        12433.0          Norway  Kelli Sandoval\n",
              "3        13426.0  United Kingdom   Dalton Graves\n",
              "4        17364.0  United Kingdom  Michelle James\n",
              "...          ...             ...             ...\n",
              "4734     16274.0  United Kingdom     Megan Young\n",
              "4735     14142.0  United Kingdom   Luke Williams\n",
              "4736     13065.0  United Kingdom      Lisa Jones\n",
              "4737     18011.0  United Kingdom   Kelly Jenkins\n",
              "4738     17558.0  United Kingdom   Scott Johnson\n",
              "\n",
              "[4739 rows x 3 columns]"
            ],
            "text/html": [
              "\n",
              "  <div id=\"df-be83f9d0-3699-4023-8f37-1f83ad802247\" class=\"colab-df-container\">\n",
              "    <div>\n",
              "<style scoped>\n",
              "    .dataframe tbody tr th:only-of-type {\n",
              "        vertical-align: middle;\n",
              "    }\n",
              "\n",
              "    .dataframe tbody tr th {\n",
              "        vertical-align: top;\n",
              "    }\n",
              "\n",
              "    .dataframe thead th {\n",
              "        text-align: right;\n",
              "    }\n",
              "</style>\n",
              "<table border=\"1\" class=\"dataframe\">\n",
              "  <thead>\n",
              "    <tr style=\"text-align: right;\">\n",
              "      <th></th>\n",
              "      <th>CustomerNo</th>\n",
              "      <th>Country</th>\n",
              "      <th>Name</th>\n",
              "    </tr>\n",
              "  </thead>\n",
              "  <tbody>\n",
              "    <tr>\n",
              "      <th>0</th>\n",
              "      <td>17490.0</td>\n",
              "      <td>United Kingdom</td>\n",
              "      <td>Sara Griffin</td>\n",
              "    </tr>\n",
              "    <tr>\n",
              "      <th>1</th>\n",
              "      <td>13069.0</td>\n",
              "      <td>United Kingdom</td>\n",
              "      <td>Michael Holt</td>\n",
              "    </tr>\n",
              "    <tr>\n",
              "      <th>2</th>\n",
              "      <td>12433.0</td>\n",
              "      <td>Norway</td>\n",
              "      <td>Kelli Sandoval</td>\n",
              "    </tr>\n",
              "    <tr>\n",
              "      <th>3</th>\n",
              "      <td>13426.0</td>\n",
              "      <td>United Kingdom</td>\n",
              "      <td>Dalton Graves</td>\n",
              "    </tr>\n",
              "    <tr>\n",
              "      <th>4</th>\n",
              "      <td>17364.0</td>\n",
              "      <td>United Kingdom</td>\n",
              "      <td>Michelle James</td>\n",
              "    </tr>\n",
              "    <tr>\n",
              "      <th>...</th>\n",
              "      <td>...</td>\n",
              "      <td>...</td>\n",
              "      <td>...</td>\n",
              "    </tr>\n",
              "    <tr>\n",
              "      <th>4734</th>\n",
              "      <td>16274.0</td>\n",
              "      <td>United Kingdom</td>\n",
              "      <td>Megan Young</td>\n",
              "    </tr>\n",
              "    <tr>\n",
              "      <th>4735</th>\n",
              "      <td>14142.0</td>\n",
              "      <td>United Kingdom</td>\n",
              "      <td>Luke Williams</td>\n",
              "    </tr>\n",
              "    <tr>\n",
              "      <th>4736</th>\n",
              "      <td>13065.0</td>\n",
              "      <td>United Kingdom</td>\n",
              "      <td>Lisa Jones</td>\n",
              "    </tr>\n",
              "    <tr>\n",
              "      <th>4737</th>\n",
              "      <td>18011.0</td>\n",
              "      <td>United Kingdom</td>\n",
              "      <td>Kelly Jenkins</td>\n",
              "    </tr>\n",
              "    <tr>\n",
              "      <th>4738</th>\n",
              "      <td>17558.0</td>\n",
              "      <td>United Kingdom</td>\n",
              "      <td>Scott Johnson</td>\n",
              "    </tr>\n",
              "  </tbody>\n",
              "</table>\n",
              "<p>4739 rows × 3 columns</p>\n",
              "</div>\n",
              "    <div class=\"colab-df-buttons\">\n",
              "\n",
              "  <div class=\"colab-df-container\">\n",
              "    <button class=\"colab-df-convert\" onclick=\"convertToInteractive('df-be83f9d0-3699-4023-8f37-1f83ad802247')\"\n",
              "            title=\"Convert this dataframe to an interactive table.\"\n",
              "            style=\"display:none;\">\n",
              "\n",
              "  <svg xmlns=\"http://www.w3.org/2000/svg\" height=\"24px\" viewBox=\"0 -960 960 960\">\n",
              "    <path d=\"M120-120v-720h720v720H120Zm60-500h600v-160H180v160Zm220 220h160v-160H400v160Zm0 220h160v-160H400v160ZM180-400h160v-160H180v160Zm440 0h160v-160H620v160ZM180-180h160v-160H180v160Zm440 0h160v-160H620v160Z\"/>\n",
              "  </svg>\n",
              "    </button>\n",
              "\n",
              "  <style>\n",
              "    .colab-df-container {\n",
              "      display:flex;\n",
              "      gap: 12px;\n",
              "    }\n",
              "\n",
              "    .colab-df-convert {\n",
              "      background-color: #E8F0FE;\n",
              "      border: none;\n",
              "      border-radius: 50%;\n",
              "      cursor: pointer;\n",
              "      display: none;\n",
              "      fill: #1967D2;\n",
              "      height: 32px;\n",
              "      padding: 0 0 0 0;\n",
              "      width: 32px;\n",
              "    }\n",
              "\n",
              "    .colab-df-convert:hover {\n",
              "      background-color: #E2EBFA;\n",
              "      box-shadow: 0px 1px 2px rgba(60, 64, 67, 0.3), 0px 1px 3px 1px rgba(60, 64, 67, 0.15);\n",
              "      fill: #174EA6;\n",
              "    }\n",
              "\n",
              "    .colab-df-buttons div {\n",
              "      margin-bottom: 4px;\n",
              "    }\n",
              "\n",
              "    [theme=dark] .colab-df-convert {\n",
              "      background-color: #3B4455;\n",
              "      fill: #D2E3FC;\n",
              "    }\n",
              "\n",
              "    [theme=dark] .colab-df-convert:hover {\n",
              "      background-color: #434B5C;\n",
              "      box-shadow: 0px 1px 3px 1px rgba(0, 0, 0, 0.15);\n",
              "      filter: drop-shadow(0px 1px 2px rgba(0, 0, 0, 0.3));\n",
              "      fill: #FFFFFF;\n",
              "    }\n",
              "  </style>\n",
              "\n",
              "    <script>\n",
              "      const buttonEl =\n",
              "        document.querySelector('#df-be83f9d0-3699-4023-8f37-1f83ad802247 button.colab-df-convert');\n",
              "      buttonEl.style.display =\n",
              "        google.colab.kernel.accessAllowed ? 'block' : 'none';\n",
              "\n",
              "      async function convertToInteractive(key) {\n",
              "        const element = document.querySelector('#df-be83f9d0-3699-4023-8f37-1f83ad802247');\n",
              "        const dataTable =\n",
              "          await google.colab.kernel.invokeFunction('convertToInteractive',\n",
              "                                                    [key], {});\n",
              "        if (!dataTable) return;\n",
              "\n",
              "        const docLinkHtml = 'Like what you see? Visit the ' +\n",
              "          '<a target=\"_blank\" href=https://colab.research.google.com/notebooks/data_table.ipynb>data table notebook</a>'\n",
              "          + ' to learn more about interactive tables.';\n",
              "        element.innerHTML = '';\n",
              "        dataTable['output_type'] = 'display_data';\n",
              "        await google.colab.output.renderOutput(dataTable, element);\n",
              "        const docLink = document.createElement('div');\n",
              "        docLink.innerHTML = docLinkHtml;\n",
              "        element.appendChild(docLink);\n",
              "      }\n",
              "    </script>\n",
              "  </div>\n",
              "\n",
              "\n",
              "<div id=\"df-d38d887f-dd55-4a09-9866-1fdb1fa4912d\">\n",
              "  <button class=\"colab-df-quickchart\" onclick=\"quickchart('df-d38d887f-dd55-4a09-9866-1fdb1fa4912d')\"\n",
              "            title=\"Suggest charts\"\n",
              "            style=\"display:none;\">\n",
              "\n",
              "<svg xmlns=\"http://www.w3.org/2000/svg\" height=\"24px\"viewBox=\"0 0 24 24\"\n",
              "     width=\"24px\">\n",
              "    <g>\n",
              "        <path d=\"M19 3H5c-1.1 0-2 .9-2 2v14c0 1.1.9 2 2 2h14c1.1 0 2-.9 2-2V5c0-1.1-.9-2-2-2zM9 17H7v-7h2v7zm4 0h-2V7h2v10zm4 0h-2v-4h2v4z\"/>\n",
              "    </g>\n",
              "</svg>\n",
              "  </button>\n",
              "\n",
              "<style>\n",
              "  .colab-df-quickchart {\n",
              "      --bg-color: #E8F0FE;\n",
              "      --fill-color: #1967D2;\n",
              "      --hover-bg-color: #E2EBFA;\n",
              "      --hover-fill-color: #174EA6;\n",
              "      --disabled-fill-color: #AAA;\n",
              "      --disabled-bg-color: #DDD;\n",
              "  }\n",
              "\n",
              "  [theme=dark] .colab-df-quickchart {\n",
              "      --bg-color: #3B4455;\n",
              "      --fill-color: #D2E3FC;\n",
              "      --hover-bg-color: #434B5C;\n",
              "      --hover-fill-color: #FFFFFF;\n",
              "      --disabled-bg-color: #3B4455;\n",
              "      --disabled-fill-color: #666;\n",
              "  }\n",
              "\n",
              "  .colab-df-quickchart {\n",
              "    background-color: var(--bg-color);\n",
              "    border: none;\n",
              "    border-radius: 50%;\n",
              "    cursor: pointer;\n",
              "    display: none;\n",
              "    fill: var(--fill-color);\n",
              "    height: 32px;\n",
              "    padding: 0;\n",
              "    width: 32px;\n",
              "  }\n",
              "\n",
              "  .colab-df-quickchart:hover {\n",
              "    background-color: var(--hover-bg-color);\n",
              "    box-shadow: 0 1px 2px rgba(60, 64, 67, 0.3), 0 1px 3px 1px rgba(60, 64, 67, 0.15);\n",
              "    fill: var(--button-hover-fill-color);\n",
              "  }\n",
              "\n",
              "  .colab-df-quickchart-complete:disabled,\n",
              "  .colab-df-quickchart-complete:disabled:hover {\n",
              "    background-color: var(--disabled-bg-color);\n",
              "    fill: var(--disabled-fill-color);\n",
              "    box-shadow: none;\n",
              "  }\n",
              "\n",
              "  .colab-df-spinner {\n",
              "    border: 2px solid var(--fill-color);\n",
              "    border-color: transparent;\n",
              "    border-bottom-color: var(--fill-color);\n",
              "    animation:\n",
              "      spin 1s steps(1) infinite;\n",
              "  }\n",
              "\n",
              "  @keyframes spin {\n",
              "    0% {\n",
              "      border-color: transparent;\n",
              "      border-bottom-color: var(--fill-color);\n",
              "      border-left-color: var(--fill-color);\n",
              "    }\n",
              "    20% {\n",
              "      border-color: transparent;\n",
              "      border-left-color: var(--fill-color);\n",
              "      border-top-color: var(--fill-color);\n",
              "    }\n",
              "    30% {\n",
              "      border-color: transparent;\n",
              "      border-left-color: var(--fill-color);\n",
              "      border-top-color: var(--fill-color);\n",
              "      border-right-color: var(--fill-color);\n",
              "    }\n",
              "    40% {\n",
              "      border-color: transparent;\n",
              "      border-right-color: var(--fill-color);\n",
              "      border-top-color: var(--fill-color);\n",
              "    }\n",
              "    60% {\n",
              "      border-color: transparent;\n",
              "      border-right-color: var(--fill-color);\n",
              "    }\n",
              "    80% {\n",
              "      border-color: transparent;\n",
              "      border-right-color: var(--fill-color);\n",
              "      border-bottom-color: var(--fill-color);\n",
              "    }\n",
              "    90% {\n",
              "      border-color: transparent;\n",
              "      border-bottom-color: var(--fill-color);\n",
              "    }\n",
              "  }\n",
              "</style>\n",
              "\n",
              "  <script>\n",
              "    async function quickchart(key) {\n",
              "      const quickchartButtonEl =\n",
              "        document.querySelector('#' + key + ' button');\n",
              "      quickchartButtonEl.disabled = true;  // To prevent multiple clicks.\n",
              "      quickchartButtonEl.classList.add('colab-df-spinner');\n",
              "      try {\n",
              "        const charts = await google.colab.kernel.invokeFunction(\n",
              "            'suggestCharts', [key], {});\n",
              "      } catch (error) {\n",
              "        console.error('Error during call to suggestCharts:', error);\n",
              "      }\n",
              "      quickchartButtonEl.classList.remove('colab-df-spinner');\n",
              "      quickchartButtonEl.classList.add('colab-df-quickchart-complete');\n",
              "    }\n",
              "    (() => {\n",
              "      let quickchartButtonEl =\n",
              "        document.querySelector('#df-d38d887f-dd55-4a09-9866-1fdb1fa4912d button');\n",
              "      quickchartButtonEl.style.display =\n",
              "        google.colab.kernel.accessAllowed ? 'block' : 'none';\n",
              "    })();\n",
              "  </script>\n",
              "</div>\n",
              "    </div>\n",
              "  </div>\n"
            ],
            "application/vnd.google.colaboratory.intrinsic+json": {
              "type": "dataframe",
              "variable_name": "customer",
              "summary": "{\n  \"name\": \"customer\",\n  \"rows\": 4739,\n  \"fields\": [\n    {\n      \"column\": \"CustomerNo\",\n      \"properties\": {\n        \"dtype\": \"number\",\n        \"std\": 1742.0448844505743,\n        \"min\": 12004.0,\n        \"max\": 18287.0,\n        \"num_unique_values\": 4738,\n        \"samples\": [\n          15587.0,\n          16987.0,\n          12697.0\n        ],\n        \"semantic_type\": \"\",\n        \"description\": \"\"\n      }\n    },\n    {\n      \"column\": \"Country\",\n      \"properties\": {\n        \"dtype\": \"category\",\n        \"num_unique_values\": 38,\n        \"samples\": [\n          \"Bahrain\",\n          \"Lebanon\",\n          \"France\"\n        ],\n        \"semantic_type\": \"\",\n        \"description\": \"\"\n      }\n    },\n    {\n      \"column\": \"Name\",\n      \"properties\": {\n        \"dtype\": \"string\",\n        \"num_unique_values\": 4599,\n        \"samples\": [\n          \"Heather Davis\",\n          \"Mr. Fred Nelson DDS\",\n          \"Roger Cooke\"\n        ],\n        \"semantic_type\": \"\",\n        \"description\": \"\"\n      }\n    }\n  ]\n}"
            }
          },
          "metadata": {},
          "execution_count": 65
        }
      ]
    },
    {
      "cell_type": "markdown",
      "source": [
        "## Save to Parquet files"
      ],
      "metadata": {
        "id": "w0NtRZpHBY-t"
      }
    },
    {
      "cell_type": "code",
      "source": [
        "df.to_parquet(\".parquet\", index=False)\n"
      ],
      "metadata": {
        "id": "r8hHCx8a_bO2"
      },
      "execution_count": null,
      "outputs": []
    }
  ]
}